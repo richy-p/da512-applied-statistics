{
 "cells": [
  {
   "cell_type": "markdown",
   "id": "7da8187e-ab98-4dfa-83e0-b8302c297330",
   "metadata": {},
   "source": [
    "# Homework 2\n",
    "\n",
    "DASC 512  \n",
    "Richy Peterson"
   ]
  },
  {
   "cell_type": "markdown",
   "id": "810de4d5-3b0c-4db2-96a3-56ba326ca85f",
   "metadata": {},
   "source": [
    "## Problem 1\n",
    "*Intrusion Detection System*\n"
   ]
  },
  {
   "cell_type": "code",
   "execution_count": 9,
   "id": "e942887b-36e4-4c2c-99bb-0bb1483671ea",
   "metadata": {
    "tags": []
   },
   "outputs": [],
   "source": [
    "# a \n",
    "p_a_i = .9\n",
    "p_b_i = .95\n",
    "p_a_ic = .2\n",
    "p_b_ic = .1"
   ]
  },
  {
   "cell_type": "code",
   "execution_count": 10,
   "id": "9cf58a6d-c8ca-43a4-8b67-f99079a1bd49",
   "metadata": {
    "tags": []
   },
   "outputs": [
    {
     "data": {
      "text/plain": [
       "0.855"
      ]
     },
     "execution_count": 10,
     "metadata": {},
     "output_type": "execute_result"
    }
   ],
   "source": [
    "# b\n",
    "p_ab_i = p_a_i * p_b_i\n",
    "p_ab_i"
   ]
  },
  {
   "cell_type": "code",
   "execution_count": 14,
   "id": "6ccfd40e-1b15-433b-a9e2-ddd492221c55",
   "metadata": {
    "tags": []
   },
   "outputs": [
    {
     "data": {
      "text/plain": [
       "0.020000000000000004"
      ]
     },
     "execution_count": 14,
     "metadata": {},
     "output_type": "execute_result"
    }
   ],
   "source": [
    "# c\n",
    "p_ab_ic = p_a_ic * p_b_ic\n",
    "p_ab_ic"
   ]
  },
  {
   "cell_type": "code",
   "execution_count": 11,
   "id": "6fd091aa-d947-41fc-945e-8c24dfa71f4e",
   "metadata": {
    "tags": []
   },
   "outputs": [
    {
     "data": {
      "text/plain": [
       "0.9950000000000001"
      ]
     },
     "execution_count": 11,
     "metadata": {},
     "output_type": "execute_result"
    }
   ],
   "source": [
    "# d\n",
    "p_a_i + p_b_i - p_ab_i"
   ]
  },
  {
   "cell_type": "code",
   "execution_count": 12,
   "id": "9b565049-9379-4e72-809e-280943907102",
   "metadata": {
    "tags": []
   },
   "outputs": [],
   "source": [
    "p_i = .4\n",
    "p_ic = .6"
   ]
  },
  {
   "cell_type": "code",
   "execution_count": 15,
   "id": "394fdc99-9db0-4e51-a8a1-8942e51f5a30",
   "metadata": {
    "tags": []
   },
   "outputs": [
    {
     "data": {
      "text/plain": [
       "0.9661016949152542"
      ]
     },
     "execution_count": 15,
     "metadata": {},
     "output_type": "execute_result"
    }
   ],
   "source": [
    "(p_i * p_ab_i) / ((p_i * p_ab_i) + (p_ic * p_ab_ic))"
   ]
  },
  {
   "cell_type": "markdown",
   "id": "e521ee6d-c4e5-4b10-9347-880bba6ee6d4",
   "metadata": {},
   "source": [
    "## Problem 2\n",
    "*Lie Detector Test*"
   ]
  },
  {
   "cell_type": "code",
   "execution_count": 19,
   "id": "0a9262f6-c8e6-4f11-a446-85b66fe5647b",
   "metadata": {
    "tags": []
   },
   "outputs": [],
   "source": [
    "p_c = 0.98\n",
    "p_w = 1 - p_c"
   ]
  },
  {
   "cell_type": "code",
   "execution_count": 17,
   "id": "a46769f5-4e51-4068-a532-d190015ae144",
   "metadata": {
    "tags": []
   },
   "outputs": [
    {
     "data": {
      "text/plain": [
       "0.9223681599999999"
      ]
     },
     "execution_count": 17,
     "metadata": {},
     "output_type": "execute_result"
    }
   ],
   "source": [
    "p_c**4"
   ]
  },
  {
   "cell_type": "code",
   "execution_count": 22,
   "id": "84a54a5f-1daf-4114-af17-1e76366c7bdc",
   "metadata": {
    "tags": []
   },
   "outputs": [
    {
     "data": {
      "text/plain": [
       "0.0023049600000000043"
      ]
     },
     "execution_count": 22,
     "metadata": {},
     "output_type": "execute_result"
    }
   ],
   "source": [
    "(p_c**2 * p_w**2)*6"
   ]
  },
  {
   "cell_type": "code",
   "execution_count": 24,
   "id": "90e13754-2aba-45e9-bccf-960805001dc9",
   "metadata": {
    "tags": []
   },
   "outputs": [
    {
     "data": {
      "text/plain": [
       "0.37498800009600003"
      ]
     },
     "execution_count": 24,
     "metadata": {},
     "output_type": "execute_result"
    }
   ],
   "source": [
    "(0.498**2 * .502**2) *6"
   ]
  },
  {
   "cell_type": "code",
   "execution_count": 25,
   "id": "b3d004ce-2fe7-45cd-8c09-46e2161feb66",
   "metadata": {
    "tags": []
   },
   "outputs": [
    {
     "data": {
      "text/plain": [
       "163.04347826086956"
      ]
     },
     "execution_count": 25,
     "metadata": {},
     "output_type": "execute_result"
    }
   ],
   "source": [
    "0.375/.0023"
   ]
  },
  {
   "cell_type": "markdown",
   "id": "15a5a973-6bbb-4309-b101-48ee9db9f259",
   "metadata": {},
   "source": [
    "## Problem 3\n",
    "*Auditing an Accounting System*"
   ]
  },
  {
   "cell_type": "code",
   "execution_count": 1,
   "id": "4c6c2b0f-c9ab-4487-b93b-08a2b143d8b7",
   "metadata": {},
   "outputs": [
    {
     "data": {
      "text/plain": [
       "0.0001858045336306206"
      ]
     },
     "execution_count": 1,
     "metadata": {},
     "output_type": "execute_result"
    }
   ],
   "source": [
    "1/5382"
   ]
  },
  {
   "cell_type": "code",
   "execution_count": 2,
   "id": "13d8f2de-39e7-4253-ba25-4173bfd31744",
   "metadata": {
    "tags": []
   },
   "outputs": [],
   "source": [
    "import numpy as np"
   ]
  },
  {
   "cell_type": "code",
   "execution_count": 10,
   "id": "32362f71-80f8-4a2e-b70e-4ba7c37636e8",
   "metadata": {
    "tags": []
   },
   "outputs": [
    {
     "data": {
      "text/plain": [
       "5382"
      ]
     },
     "execution_count": 10,
     "metadata": {},
     "output_type": "execute_result"
    }
   ],
   "source": [
    "n = 5382\n",
    "accounts = range(1,n+1)\n",
    "len(accounts)"
   ]
  },
  {
   "cell_type": "code",
   "execution_count": 8,
   "id": "e805362b-36a1-4751-9e97-038ecd41573e",
   "metadata": {
    "tags": []
   },
   "outputs": [
    {
     "name": "stdout",
     "output_type": "stream",
     "text": [
      "[1362, 5119, 5145, 4367, 4846, 686, 4581, 3129, 779, 3873]\n"
     ]
    }
   ],
   "source": [
    "sample = np.random.choice(accounts, size=10, replace=False)\n",
    "print(list(sample))"
   ]
  }
 ],
 "metadata": {
  "kernelspec": {
   "display_name": "Python 3 (ipykernel)",
   "language": "python",
   "name": "python3"
  },
  "language_info": {
   "codemirror_mode": {
    "name": "ipython",
    "version": 3
   },
   "file_extension": ".py",
   "mimetype": "text/x-python",
   "name": "python",
   "nbconvert_exporter": "python",
   "pygments_lexer": "ipython3",
   "version": "3.8.16"
  }
 },
 "nbformat": 4,
 "nbformat_minor": 5
}
