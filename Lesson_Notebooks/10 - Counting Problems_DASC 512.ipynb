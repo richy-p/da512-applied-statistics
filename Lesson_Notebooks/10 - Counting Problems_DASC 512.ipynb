{
 "cells": [
  {
   "cell_type": "markdown",
   "id": "52f5ee68",
   "metadata": {},
   "source": [
    "# DASC 512 - 10 - Counting Problems\n",
    "\n",
    "In this short notebook, we'll show how to calculate the results of counting problems using factorials, permutations, and combinations in Python."
   ]
  },
  {
   "cell_type": "code",
   "execution_count": 1,
   "id": "77d697fd",
   "metadata": {},
   "outputs": [],
   "source": [
    "import math"
   ]
  },
  {
   "cell_type": "markdown",
   "id": "e7e12f2a",
   "metadata": {},
   "source": [
    "## Order Matters, With Replacement"
   ]
  },
  {
   "cell_type": "code",
   "execution_count": 2,
   "id": "40379189",
   "metadata": {},
   "outputs": [
    {
     "name": "stdout",
     "output_type": "stream",
     "text": [
      "There are 125 ways to make a 3-digit number using only 1-5.\n"
     ]
    }
   ],
   "source": [
    "# Exponents - note the syntax is not ^\n",
    "print(f'There are {5**3} ways to make a 3-digit number using only 1-5.')"
   ]
  },
  {
   "cell_type": "markdown",
   "id": "e213496d",
   "metadata": {},
   "source": [
    "## Order Matters, Without Replacement"
   ]
  },
  {
   "cell_type": "code",
   "execution_count": 3,
   "id": "9441bc35",
   "metadata": {},
   "outputs": [
    {
     "name": "stdout",
     "output_type": "stream",
     "text": [
      "There are 5!, or 120, 5-digit numbers using only 1-5 without repeat digits.\n"
     ]
    }
   ],
   "source": [
    "# Factorial (Equivalent to permutation with n=r)\n",
    "print(f'There are 5!, or {math.factorial(5)}, 5-digit numbers using only 1-5 without repeat digits.')"
   ]
  },
  {
   "cell_type": "code",
   "execution_count": 5,
   "id": "32ef3eda",
   "metadata": {},
   "outputs": [
    {
     "name": "stdout",
     "output_type": "stream",
     "text": [
      "The top 3 finishers of 10 contestants can be arranged in 720 ways.\n"
     ]
    }
   ],
   "source": [
    "# Permutation\n",
    "print(f'The top 3 finishers of 10 contestants can be arranged in {math.perm(10,3)} ways.')"
   ]
  },
  {
   "cell_type": "markdown",
   "id": "3adb7799",
   "metadata": {},
   "source": [
    "## Order Doesn't Matter, Without Replacement"
   ]
  },
  {
   "cell_type": "code",
   "execution_count": 4,
   "id": "14c8dfb8",
   "metadata": {},
   "outputs": [
    {
     "name": "stdout",
     "output_type": "stream",
     "text": [
      "The top 3 finishers of 10 contestants can be chosen \"10 choose 3\" or 120 ways.\n"
     ]
    }
   ],
   "source": [
    "# Combination\n",
    "print(f'The top 3 finishers of 10 contestants can be chosen \"10 choose 3\" or {math.comb(10,3)} ways.')"
   ]
  },
  {
   "cell_type": "markdown",
   "id": "835442da",
   "metadata": {},
   "source": [
    "## Order Doesn't Matter, With Replacement\n",
    "The counting that is very extremely rare..."
   ]
  },
  {
   "cell_type": "code",
   "execution_count": 6,
   "id": "34e9ef84",
   "metadata": {},
   "outputs": [
    {
     "name": "stdout",
     "output_type": "stream",
     "text": [
      "For this weird case, if n=10 and r=3, there are 220 possibilities.\n"
     ]
    }
   ],
   "source": [
    "# Combination - (n + r - 1) choose r\n",
    "print(f'For this weird case, if n=10 and r=3, there are {math.comb(10+3-1,3)} possibilities.')"
   ]
  }
 ],
 "metadata": {
  "kernelspec": {
   "display_name": "Python 3 (ipykernel)",
   "language": "python",
   "name": "python3"
  },
  "language_info": {
   "codemirror_mode": {
    "name": "ipython",
    "version": 3
   },
   "file_extension": ".py",
   "mimetype": "text/x-python",
   "name": "python",
   "nbconvert_exporter": "python",
   "pygments_lexer": "ipython3",
   "version": "3.8.12"
  }
 },
 "nbformat": 4,
 "nbformat_minor": 5
}
