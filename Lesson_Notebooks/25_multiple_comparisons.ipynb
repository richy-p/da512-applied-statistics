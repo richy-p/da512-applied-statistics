{
 "cells": [
  {
   "cell_type": "markdown",
   "metadata": {},
   "source": [
    "# Multiple Comparisons"
   ]
  },
  {
   "cell_type": "code",
   "execution_count": 1,
   "metadata": {},
   "outputs": [],
   "source": [
    "import math\n",
    "import numpy as np\n",
    "import pandas as pd\n",
    "import matplotlib.pyplot as plt\n",
    "import seaborn as sns\n",
    "import scipy.stats as stats\n",
    "import statsmodels.api as sm\n",
    "import statsmodels.stats.api as sms\n",
    "import statsmodels.graphics.api as smg\n",
    "import statsmodels.formula.api as smf\n",
    "\n",
    "sns.set_style('whitegrid')"
   ]
  },
  {
   "cell_type": "code",
   "execution_count": 2,
   "metadata": {},
   "outputs": [],
   "source": [
    "# Importing the Coughing Kids example data again\n",
    "dm = [4,6,9,4,7,7,7,9,12,10,11,6,3,4,9,12,7,6,8,12,12,4,12,13,7,10,13,9,4,4,10,15,9]\n",
    "honey = [12,11,15,11,10,13,10,4,15,16,9,14,10,6,10,8,11,12,12,8,12,9,11,15,10,1,9,13,8,12,10,8,9,5,12]\n",
    "placebo = [5,8,6,1,0,8,12,8,7,7,1,6,7,7,12,7,9,7,9,5,11,9,5,6,8,8,6,7,10,9,4,8,7,3,1,4,3]\n",
    "labels = ['dm'] * len(dm) + ['honey'] * len(honey) + ['placebo'] * len(placebo)\n",
    "scores = pd.DataFrame({'treatment':labels, 'score':dm+honey+placebo})"
   ]
  },
  {
   "cell_type": "code",
   "execution_count": 3,
   "metadata": {},
   "outputs": [
    {
     "data": {
      "image/png": "[encoded data removed]",
      "text/plain": [
       "<Figure size 400x300 with 1 Axes>"
      ]
     },
     "metadata": {},
     "output_type": "display_data"
    }
   ],
   "source": [
    "fig, ax = plt.subplots(figsize=(4,3))\n",
    "sns.boxplot(data=scores, x='treatment', y='score',ax=ax)\n",
    "fig.tight_layout()"
   ]
  },
  {
   "cell_type": "code",
   "execution_count": 4,
   "metadata": {},
   "outputs": [],
   "source": [
    "def anova(model):\n",
    "    import statsmodels.stats.api as sms\n",
    "    at = sms.anova_lm(model, typ=2)\n",
    "    at['mean_sq'] = at['sum_sq'] / at['df']\n",
    "    at = at.reindex(['df','sum_sq','mean_sq','F','PR(>F)'],axis=1)\n",
    "    return at"
   ]
  },
  {
   "cell_type": "code",
   "execution_count": 5,
   "metadata": {},
   "outputs": [
    {
     "data": {
      "text/html": [
       "<div>\n",
       "<style scoped>\n",
       "    .dataframe tbody tr th:only-of-type {\n",
       "        vertical-align: middle;\n",
       "    }\n",
       "\n",
       "    .dataframe tbody tr th {\n",
       "        vertical-align: top;\n",
       "    }\n",
       "\n",
       "    .dataframe thead th {\n",
       "        text-align: right;\n",
       "    }\n",
       "</style>\n",
       "<table border=\"1\" class=\"dataframe\">\n",
       "  <thead>\n",
       "    <tr style=\"text-align: right;\">\n",
       "      <th></th>\n",
       "      <th>df</th>\n",
       "      <th>sum_sq</th>\n",
       "      <th>mean_sq</th>\n",
       "      <th>F</th>\n",
       "      <th>PR(&gt;F)</th>\n",
       "    </tr>\n",
       "  </thead>\n",
       "  <tbody>\n",
       "    <tr>\n",
       "      <th>C(treatment)</th>\n",
       "      <td>2.0</td>\n",
       "      <td>259.842471</td>\n",
       "      <td>129.921236</td>\n",
       "      <td>13.276934</td>\n",
       "      <td>0.000008</td>\n",
       "    </tr>\n",
       "    <tr>\n",
       "      <th>Residual</th>\n",
       "      <td>102.0</td>\n",
       "      <td>998.119434</td>\n",
       "      <td>9.785485</td>\n",
       "      <td>NaN</td>\n",
       "      <td>NaN</td>\n",
       "    </tr>\n",
       "  </tbody>\n",
       "</table>\n",
       "</div>"
      ],
      "text/plain": [
       "                 df      sum_sq     mean_sq          F    PR(>F)\n",
       "C(treatment)    2.0  259.842471  129.921236  13.276934  0.000008\n",
       "Residual      102.0  998.119434    9.785485        NaN       NaN"
      ]
     },
     "execution_count": 5,
     "metadata": {},
     "output_type": "execute_result"
    }
   ],
   "source": [
    "model = smf.ols('score ~ C(treatment)',data=scores).fit()\n",
    "anova(model)"
   ]
  },
  {
   "cell_type": "markdown",
   "metadata": {},
   "source": [
    "### Bonferroni"
   ]
  },
  {
   "cell_type": "code",
   "execution_count": 6,
   "metadata": {},
   "outputs": [
    {
     "data": {
      "text/html": [
       "<div>\n",
       "<style scoped>\n",
       "    .dataframe tbody tr th:only-of-type {\n",
       "        vertical-align: middle;\n",
       "    }\n",
       "\n",
       "    .dataframe tbody tr th {\n",
       "        vertical-align: top;\n",
       "    }\n",
       "\n",
       "    .dataframe thead tr th {\n",
       "        text-align: left;\n",
       "    }\n",
       "\n",
       "    .dataframe thead tr:last-of-type th {\n",
       "        text-align: right;\n",
       "    }\n",
       "</style>\n",
       "<table border=\"1\" class=\"dataframe\">\n",
       "  <thead>\n",
       "    <tr>\n",
       "      <th></th>\n",
       "      <th colspan=\"8\" halign=\"left\">score</th>\n",
       "    </tr>\n",
       "    <tr>\n",
       "      <th></th>\n",
       "      <th>count</th>\n",
       "      <th>mean</th>\n",
       "      <th>std</th>\n",
       "      <th>min</th>\n",
       "      <th>25%</th>\n",
       "      <th>50%</th>\n",
       "      <th>75%</th>\n",
       "      <th>max</th>\n",
       "    </tr>\n",
       "    <tr>\n",
       "      <th>treatment</th>\n",
       "      <th></th>\n",
       "      <th></th>\n",
       "      <th></th>\n",
       "      <th></th>\n",
       "      <th></th>\n",
       "      <th></th>\n",
       "      <th></th>\n",
       "      <th></th>\n",
       "    </tr>\n",
       "  </thead>\n",
       "  <tbody>\n",
       "    <tr>\n",
       "      <th>dm</th>\n",
       "      <td>33.0</td>\n",
       "      <td>8.333333</td>\n",
       "      <td>3.256404</td>\n",
       "      <td>3.0</td>\n",
       "      <td>6.0</td>\n",
       "      <td>9.0</td>\n",
       "      <td>11.0</td>\n",
       "      <td>15.0</td>\n",
       "    </tr>\n",
       "    <tr>\n",
       "      <th>honey</th>\n",
       "      <td>35.0</td>\n",
       "      <td>10.314286</td>\n",
       "      <td>3.197163</td>\n",
       "      <td>1.0</td>\n",
       "      <td>9.0</td>\n",
       "      <td>10.0</td>\n",
       "      <td>12.0</td>\n",
       "      <td>16.0</td>\n",
       "    </tr>\n",
       "    <tr>\n",
       "      <th>placebo</th>\n",
       "      <td>37.0</td>\n",
       "      <td>6.513514</td>\n",
       "      <td>2.940348</td>\n",
       "      <td>0.0</td>\n",
       "      <td>5.0</td>\n",
       "      <td>7.0</td>\n",
       "      <td>8.0</td>\n",
       "      <td>12.0</td>\n",
       "    </tr>\n",
       "  </tbody>\n",
       "</table>\n",
       "</div>"
      ],
      "text/plain": [
       "          score                                                 \n",
       "          count       mean       std  min  25%   50%   75%   max\n",
       "treatment                                                       \n",
       "dm         33.0   8.333333  3.256404  3.0  6.0   9.0  11.0  15.0\n",
       "honey      35.0  10.314286  3.197163  1.0  9.0  10.0  12.0  16.0\n",
       "placebo    37.0   6.513514  2.940348  0.0  5.0   7.0   8.0  12.0"
      ]
     },
     "execution_count": 6,
     "metadata": {},
     "output_type": "execute_result"
    }
   ],
   "source": [
    "scores.groupby('treatment').describe()"
   ]
  },
  {
   "cell_type": "code",
   "execution_count": 7,
   "metadata": {},
   "outputs": [
    {
     "data": {
      "text/plain": [
       "0.016666666666666666"
      ]
     },
     "execution_count": 7,
     "metadata": {},
     "output_type": "execute_result"
    }
   ],
   "source": [
    "fwer = 0.05\n",
    "num_treatments = 3\n",
    "alpha_bonf = fwer / math.comb(num_treatments,2)\n",
    "alpha_bonf"
   ]
  },
  {
   "cell_type": "code",
   "execution_count": 8,
   "metadata": {},
   "outputs": [
    {
     "data": {
      "text/plain": [
       "Ttest_indResult(statistic=-2.5307154018048656, pvalue=0.013775015614768321)"
      ]
     },
     "execution_count": 8,
     "metadata": {},
     "output_type": "execute_result"
    }
   ],
   "source": [
    "stats.ttest_ind(a=dm, b=honey)"
   ]
  },
  {
   "cell_type": "code",
   "execution_count": 9,
   "metadata": {},
   "outputs": [
    {
     "data": {
      "text/plain": [
       "Ttest_indResult(statistic=2.45721098151115, pvalue=0.016557963996109284)"
      ]
     },
     "execution_count": 9,
     "metadata": {},
     "output_type": "execute_result"
    }
   ],
   "source": [
    "stats.ttest_ind(a=dm, b=placebo)"
   ]
  },
  {
   "cell_type": "code",
   "execution_count": 10,
   "metadata": {},
   "outputs": [
    {
     "data": {
      "text/plain": [
       "Ttest_indResult(statistic=5.254329248484621, pvalue=1.5287815104358261e-06)"
      ]
     },
     "execution_count": 10,
     "metadata": {},
     "output_type": "execute_result"
    }
   ],
   "source": [
    "stats.ttest_ind(a=honey, b=placebo)"
   ]
  },
  {
   "cell_type": "code",
   "execution_count": 12,
   "metadata": {},
   "outputs": [],
   "source": [
    "multicomp = sms.multicomp.MultiComparison(data=scores['score'], groups=scores['treatment'])"
   ]
  },
  {
   "cell_type": "code",
   "execution_count": 13,
   "metadata": {},
   "outputs": [
    {
     "data": {
      "text/plain": [
       "(<class 'statsmodels.iolib.table.SimpleTable'>,\n",
       " (array([[-2.53071540e+00,  1.37750156e-02],\n",
       "         [ 2.45721098e+00,  1.65579640e-02],\n",
       "         [ 5.25432925e+00,  1.52878151e-06]]),\n",
       "  array([ True,  True,  True]),\n",
       "  array([4.13250468e-02, 4.96738920e-02, 4.58634453e-06]),\n",
       "  0.016952427508441503,\n",
       "  0.016666666666666666),\n",
       " array([('dm', 'honey', -2.5307, 0.0138, 0.0413,  True),\n",
       "        ('dm', 'placebo',  2.4572, 0.0166, 0.0497,  True),\n",
       "        ('honey', 'placebo',  5.2543, 0.    , 0.    ,  True)],\n",
       "       dtype=[('group1', 'O'), ('group2', 'O'), ('stat', '<f8'), ('pval', '<f8'), ('pval_corr', '<f8'), ('reject', '?')]))"
      ]
     },
     "execution_count": 13,
     "metadata": {},
     "output_type": "execute_result"
    }
   ],
   "source": [
    "mc = multicomp.allpairtest(testfunc=stats.ttest_ind, alpha=fwer, method='bonf')\n",
    "mc"
   ]
  },
  {
   "cell_type": "code",
   "execution_count": 14,
   "metadata": {},
   "outputs": [
    {
     "data": {
      "text/html": [
       "<table class=\"simpletable\">\n",
       "<caption>Test Multiple Comparison ttest_ind \n",
       "FWER=0.05 method=bonf\n",
       "alphacSidak=0.02, alphacBonf=0.017</caption>\n",
       "<tr>\n",
       "  <th>group1</th> <th>group2</th>   <th>stat</th>    <th>pval</th>  <th>pval_corr</th> <th>reject</th>\n",
       "</tr>\n",
       "<tr>\n",
       "    <td>dm</td>    <td>honey</td>  <td>-2.5307</td> <td>0.0138</td>  <td>0.0413</td>    <td>True</td> \n",
       "</tr>\n",
       "<tr>\n",
       "    <td>dm</td>   <td>placebo</td> <td>2.4572</td>  <td>0.0166</td>  <td>0.0497</td>    <td>True</td> \n",
       "</tr>\n",
       "<tr>\n",
       "   <td>honey</td> <td>placebo</td> <td>5.2543</td>    <td>0.0</td>     <td>0.0</td>     <td>True</td> \n",
       "</tr>\n",
       "</table>"
      ],
      "text/plain": [
       "<class 'statsmodels.iolib.table.SimpleTable'>"
      ]
     },
     "execution_count": 14,
     "metadata": {},
     "output_type": "execute_result"
    }
   ],
   "source": [
    "mc[0]"
   ]
  },
  {
   "cell_type": "code",
   "execution_count": 15,
   "metadata": {},
   "outputs": [
    {
     "data": {
      "text/plain": [
       "(array([[-2.53071540e+00,  1.37750156e-02],\n",
       "        [ 2.45721098e+00,  1.65579640e-02],\n",
       "        [ 5.25432925e+00,  1.52878151e-06]]),\n",
       " array([ True,  True,  True]),\n",
       " array([4.13250468e-02, 4.96738920e-02, 4.58634453e-06]),\n",
       " 0.016952427508441503,\n",
       " 0.016666666666666666)"
      ]
     },
     "execution_count": 15,
     "metadata": {},
     "output_type": "execute_result"
    }
   ],
   "source": [
    "mc[1]"
   ]
  },
  {
   "cell_type": "code",
   "execution_count": 16,
   "metadata": {},
   "outputs": [
    {
     "data": {
      "text/plain": [
       "array([('dm', 'honey', -2.5307, 0.0138, 0.0413,  True),\n",
       "       ('dm', 'placebo',  2.4572, 0.0166, 0.0497,  True),\n",
       "       ('honey', 'placebo',  5.2543, 0.    , 0.    ,  True)],\n",
       "      dtype=[('group1', 'O'), ('group2', 'O'), ('stat', '<f8'), ('pval', '<f8'), ('pval_corr', '<f8'), ('reject', '?')])"
      ]
     },
     "execution_count": 16,
     "metadata": {},
     "output_type": "execute_result"
    }
   ],
   "source": [
    "mc[2]"
   ]
  },
  {
   "cell_type": "code",
   "execution_count": 17,
   "metadata": {},
   "outputs": [
    {
     "data": {
      "text/html": [
       "<div>\n",
       "<style scoped>\n",
       "    .dataframe tbody tr th:only-of-type {\n",
       "        vertical-align: middle;\n",
       "    }\n",
       "\n",
       "    .dataframe tbody tr th {\n",
       "        vertical-align: top;\n",
       "    }\n",
       "\n",
       "    .dataframe thead th {\n",
       "        text-align: right;\n",
       "    }\n",
       "</style>\n",
       "<table border=\"1\" class=\"dataframe\">\n",
       "  <thead>\n",
       "    <tr style=\"text-align: right;\">\n",
       "      <th></th>\n",
       "      <th>group1</th>\n",
       "      <th>group2</th>\n",
       "      <th>stat</th>\n",
       "      <th>pval</th>\n",
       "      <th>pval_corr</th>\n",
       "      <th>reject</th>\n",
       "    </tr>\n",
       "  </thead>\n",
       "  <tbody>\n",
       "    <tr>\n",
       "      <th>0</th>\n",
       "      <td>dm</td>\n",
       "      <td>honey</td>\n",
       "      <td>-2.5307</td>\n",
       "      <td>0.0138</td>\n",
       "      <td>0.0413</td>\n",
       "      <td>True</td>\n",
       "    </tr>\n",
       "    <tr>\n",
       "      <th>1</th>\n",
       "      <td>dm</td>\n",
       "      <td>placebo</td>\n",
       "      <td>2.4572</td>\n",
       "      <td>0.0166</td>\n",
       "      <td>0.0497</td>\n",
       "      <td>True</td>\n",
       "    </tr>\n",
       "    <tr>\n",
       "      <th>2</th>\n",
       "      <td>honey</td>\n",
       "      <td>placebo</td>\n",
       "      <td>5.2543</td>\n",
       "      <td>0.0000</td>\n",
       "      <td>0.0000</td>\n",
       "      <td>True</td>\n",
       "    </tr>\n",
       "  </tbody>\n",
       "</table>\n",
       "</div>"
      ],
      "text/plain": [
       "  group1   group2    stat    pval  pval_corr  reject\n",
       "0     dm    honey -2.5307  0.0138     0.0413    True\n",
       "1     dm  placebo  2.4572  0.0166     0.0497    True\n",
       "2  honey  placebo  5.2543  0.0000     0.0000    True"
      ]
     },
     "execution_count": 17,
     "metadata": {},
     "output_type": "execute_result"
    }
   ],
   "source": [
    "pd.DataFrame(mc[2])"
   ]
  },
  {
   "cell_type": "markdown",
   "metadata": {},
   "source": [
    "## Bonferroni-Holm"
   ]
  },
  {
   "cell_type": "code",
   "execution_count": 18,
   "metadata": {},
   "outputs": [],
   "source": [
    "mc = multicomp.allpairtest(testfunc=stats.ttest_ind, alpha=fwer, method='Holm')"
   ]
  },
  {
   "cell_type": "code",
   "execution_count": 19,
   "metadata": {},
   "outputs": [
    {
     "data": {
      "text/html": [
       "<table class=\"simpletable\">\n",
       "<caption>Test Multiple Comparison ttest_ind \n",
       "FWER=0.05 method=Holm\n",
       "alphacSidak=0.02, alphacBonf=0.017</caption>\n",
       "<tr>\n",
       "  <th>group1</th> <th>group2</th>   <th>stat</th>    <th>pval</th>  <th>pval_corr</th> <th>reject</th>\n",
       "</tr>\n",
       "<tr>\n",
       "    <td>dm</td>    <td>honey</td>  <td>-2.5307</td> <td>0.0138</td>  <td>0.0276</td>    <td>True</td> \n",
       "</tr>\n",
       "<tr>\n",
       "    <td>dm</td>   <td>placebo</td> <td>2.4572</td>  <td>0.0166</td>  <td>0.0276</td>    <td>True</td> \n",
       "</tr>\n",
       "<tr>\n",
       "   <td>honey</td> <td>placebo</td> <td>5.2543</td>    <td>0.0</td>     <td>0.0</td>     <td>True</td> \n",
       "</tr>\n",
       "</table>"
      ],
      "text/plain": [
       "<class 'statsmodels.iolib.table.SimpleTable'>"
      ]
     },
     "execution_count": 19,
     "metadata": {},
     "output_type": "execute_result"
    }
   ],
   "source": [
    "mc[0]"
   ]
  },
  {
   "cell_type": "markdown",
   "metadata": {},
   "source": [
    "## Tukey"
   ]
  },
  {
   "cell_type": "code",
   "execution_count": 20,
   "metadata": {},
   "outputs": [],
   "source": [
    "mc = multicomp.tukeyhsd(alpha=fwer)"
   ]
  },
  {
   "cell_type": "code",
   "execution_count": 22,
   "metadata": {},
   "outputs": [
    {
     "data": {
      "text/html": [
       "<table class=\"simpletable\">\n",
       "<caption>Multiple Comparison of Means - Tukey HSD, FWER=0.05</caption>\n",
       "<tr>\n",
       "  <th>group1</th> <th>group2</th>  <th>meandiff</th>  <th>p-adj</th>  <th>lower</th>   <th>upper</th>  <th>reject</th>\n",
       "</tr>\n",
       "<tr>\n",
       "    <td>dm</td>    <td>honey</td>    <td>1.981</td>  <td>0.0279</td> <td>0.1757</td>  <td>3.7862</td>   <td>True</td> \n",
       "</tr>\n",
       "<tr>\n",
       "    <td>dm</td>   <td>placebo</td>  <td>-1.8198</td> <td>0.0441</td> <td>-3.6013</td> <td>-0.0384</td>  <td>True</td> \n",
       "</tr>\n",
       "<tr>\n",
       "   <td>honey</td> <td>placebo</td>  <td>-3.8008</td>   <td>0.0</td>  <td>-5.5551</td> <td>-2.0465</td>  <td>True</td> \n",
       "</tr>\n",
       "</table>"
      ],
      "text/plain": [
       "<class 'statsmodels.iolib.table.SimpleTable'>"
      ]
     },
     "execution_count": 22,
     "metadata": {},
     "output_type": "execute_result"
    }
   ],
   "source": [
    "mc.summary()"
   ]
  },
  {
   "cell_type": "markdown",
   "metadata": {},
   "source": [
    "*** \n",
    "# Progress Check"
   ]
  },
  {
   "cell_type": "code",
   "execution_count": 23,
   "metadata": {},
   "outputs": [
    {
     "data": {
      "text/html": [
       "<div>\n",
       "<style scoped>\n",
       "    .dataframe tbody tr th:only-of-type {\n",
       "        vertical-align: middle;\n",
       "    }\n",
       "\n",
       "    .dataframe tbody tr th {\n",
       "        vertical-align: top;\n",
       "    }\n",
       "\n",
       "    .dataframe thead th {\n",
       "        text-align: right;\n",
       "    }\n",
       "</style>\n",
       "<table border=\"1\" class=\"dataframe\">\n",
       "  <thead>\n",
       "    <tr style=\"text-align: right;\">\n",
       "      <th></th>\n",
       "      <th>subject</th>\n",
       "      <th>therapy</th>\n",
       "      <th>before</th>\n",
       "      <th>after</th>\n",
       "      <th>change</th>\n",
       "    </tr>\n",
       "  </thead>\n",
       "  <tbody>\n",
       "    <tr>\n",
       "      <th>0</th>\n",
       "      <td>1</td>\n",
       "      <td>cb</td>\n",
       "      <td>80.5</td>\n",
       "      <td>82.2</td>\n",
       "      <td>1.7</td>\n",
       "    </tr>\n",
       "    <tr>\n",
       "      <th>1</th>\n",
       "      <td>2</td>\n",
       "      <td>cb</td>\n",
       "      <td>84.9</td>\n",
       "      <td>85.6</td>\n",
       "      <td>0.7</td>\n",
       "    </tr>\n",
       "    <tr>\n",
       "      <th>2</th>\n",
       "      <td>3</td>\n",
       "      <td>cb</td>\n",
       "      <td>81.5</td>\n",
       "      <td>81.4</td>\n",
       "      <td>-0.1</td>\n",
       "    </tr>\n",
       "    <tr>\n",
       "      <th>3</th>\n",
       "      <td>4</td>\n",
       "      <td>cb</td>\n",
       "      <td>82.6</td>\n",
       "      <td>81.9</td>\n",
       "      <td>-0.7</td>\n",
       "    </tr>\n",
       "    <tr>\n",
       "      <th>4</th>\n",
       "      <td>5</td>\n",
       "      <td>cb</td>\n",
       "      <td>79.9</td>\n",
       "      <td>76.4</td>\n",
       "      <td>-3.5</td>\n",
       "    </tr>\n",
       "    <tr>\n",
       "      <th>...</th>\n",
       "      <td>...</td>\n",
       "      <td>...</td>\n",
       "      <td>...</td>\n",
       "      <td>...</td>\n",
       "      <td>...</td>\n",
       "    </tr>\n",
       "    <tr>\n",
       "      <th>67</th>\n",
       "      <td>68</td>\n",
       "      <td>c</td>\n",
       "      <td>84.4</td>\n",
       "      <td>84.7</td>\n",
       "      <td>0.3</td>\n",
       "    </tr>\n",
       "    <tr>\n",
       "      <th>68</th>\n",
       "      <td>69</td>\n",
       "      <td>c</td>\n",
       "      <td>79.6</td>\n",
       "      <td>81.4</td>\n",
       "      <td>1.8</td>\n",
       "    </tr>\n",
       "    <tr>\n",
       "      <th>69</th>\n",
       "      <td>70</td>\n",
       "      <td>c</td>\n",
       "      <td>77.5</td>\n",
       "      <td>81.2</td>\n",
       "      <td>3.7</td>\n",
       "    </tr>\n",
       "    <tr>\n",
       "      <th>70</th>\n",
       "      <td>71</td>\n",
       "      <td>c</td>\n",
       "      <td>72.3</td>\n",
       "      <td>88.2</td>\n",
       "      <td>15.9</td>\n",
       "    </tr>\n",
       "    <tr>\n",
       "      <th>71</th>\n",
       "      <td>72</td>\n",
       "      <td>c</td>\n",
       "      <td>89.0</td>\n",
       "      <td>78.8</td>\n",
       "      <td>-10.2</td>\n",
       "    </tr>\n",
       "  </tbody>\n",
       "</table>\n",
       "<p>72 rows × 5 columns</p>\n",
       "</div>"
      ],
      "text/plain": [
       "    subject therapy  before  after  change\n",
       "0         1      cb    80.5   82.2     1.7\n",
       "1         2      cb    84.9   85.6     0.7\n",
       "2         3      cb    81.5   81.4    -0.1\n",
       "3         4      cb    82.6   81.9    -0.7\n",
       "4         5      cb    79.9   76.4    -3.5\n",
       "..      ...     ...     ...    ...     ...\n",
       "67       68       c    84.4   84.7     0.3\n",
       "68       69       c    79.6   81.4     1.8\n",
       "69       70       c    77.5   81.2     3.7\n",
       "70       71       c    72.3   88.2    15.9\n",
       "71       72       c    89.0   78.8   -10.2\n",
       "\n",
       "[72 rows x 5 columns]"
      ]
     },
     "execution_count": 23,
     "metadata": {},
     "output_type": "execute_result"
    }
   ],
   "source": [
    "ano = pd.read_csv('Anorexia.dat', sep='\\s+')\n",
    "ano['change'] = ano['after'] - ano['before']\n",
    "ano"
   ]
  },
  {
   "cell_type": "code",
   "execution_count": 24,
   "metadata": {},
   "outputs": [
    {
     "data": {
      "text/plain": [
       "0.016666666666666666"
      ]
     },
     "execution_count": 24,
     "metadata": {},
     "output_type": "execute_result"
    }
   ],
   "source": [
    "fwer = 0.05\n",
    "num_treatments = 3\n",
    "alpha_bonf = fwer / math.comb(num_treatments,2)\n",
    "alpha_bonf"
   ]
  },
  {
   "cell_type": "code",
   "execution_count": 26,
   "metadata": {},
   "outputs": [
    {
     "data": {
      "text/html": [
       "<table class=\"simpletable\">\n",
       "<caption>Test Multiple Comparison ttest_ind \n",
       "FWER=0.05 method=bonf\n",
       "alphacSidak=0.02, alphacBonf=0.017</caption>\n",
       "<tr>\n",
       "  <th>group1</th> <th>group2</th>  <th>stat</th>    <th>pval</th>  <th>pval_corr</th> <th>reject</th>\n",
       "</tr>\n",
       "<tr>\n",
       "     <td>c</td>     <td>cb</td>   <td>-1.676</td>  <td>0.0996</td>  <td>0.2989</td>    <td>False</td>\n",
       "</tr>\n",
       "<tr>\n",
       "     <td>c</td>      <td>f</td>   <td>-3.2227</td> <td>0.0025</td>  <td>0.0075</td>    <td>True</td> \n",
       "</tr>\n",
       "<tr>\n",
       "    <td>cb</td>      <td>f</td>   <td>-1.9216</td> <td>0.0612</td>  <td>0.1835</td>    <td>False</td>\n",
       "</tr>\n",
       "</table>"
      ],
      "text/plain": [
       "<class 'statsmodels.iolib.table.SimpleTable'>"
      ]
     },
     "execution_count": 26,
     "metadata": {},
     "output_type": "execute_result"
    }
   ],
   "source": [
    "multicomp = sms.multicomp.MultiComparison(data=ano['change'], groups=ano['therapy'])\n",
    "mc = multicomp.allpairtest(testfunc=stats.ttest_ind, alpha=fwer, method='bonf')\n",
    "mc[0]"
   ]
  },
  {
   "cell_type": "code",
   "execution_count": 27,
   "metadata": {},
   "outputs": [
    {
     "data": {
      "text/html": [
       "<table class=\"simpletable\">\n",
       "<caption>Multiple Comparison of Means - Tukey HSD, FWER=0.05</caption>\n",
       "<tr>\n",
       "  <th>group1</th> <th>group2</th> <th>meandiff</th>  <th>p-adj</th>  <th>lower</th>   <th>upper</th>  <th>reject</th>\n",
       "</tr>\n",
       "<tr>\n",
       "     <td>c</td>     <td>cb</td>    <td>3.4569</td>  <td>0.2124</td> <td>-1.4135</td> <td>8.3273</td>   <td>False</td>\n",
       "</tr>\n",
       "<tr>\n",
       "     <td>c</td>      <td>f</td>    <td>7.7147</td>  <td>0.0045</td> <td>2.0901</td>  <td>13.3393</td>  <td>True</td> \n",
       "</tr>\n",
       "<tr>\n",
       "    <td>cb</td>      <td>f</td>    <td>4.2578</td>  <td>0.1607</td> <td>-1.2506</td> <td>9.7662</td>   <td>False</td>\n",
       "</tr>\n",
       "</table>"
      ],
      "text/plain": [
       "<class 'statsmodels.iolib.table.SimpleTable'>"
      ]
     },
     "execution_count": 27,
     "metadata": {},
     "output_type": "execute_result"
    }
   ],
   "source": [
    "multicomp.tukeyhsd(alpha=fwer).summary()"
   ]
  },
  {
   "cell_type": "code",
   "execution_count": 28,
   "metadata": {},
   "outputs": [
    {
     "data": {
      "text/html": [
       "<div>\n",
       "<style scoped>\n",
       "    .dataframe tbody tr th:only-of-type {\n",
       "        vertical-align: middle;\n",
       "    }\n",
       "\n",
       "    .dataframe tbody tr th {\n",
       "        vertical-align: top;\n",
       "    }\n",
       "\n",
       "    .dataframe thead th {\n",
       "        text-align: right;\n",
       "    }\n",
       "</style>\n",
       "<table border=\"1\" class=\"dataframe\">\n",
       "  <thead>\n",
       "    <tr style=\"text-align: right;\">\n",
       "      <th></th>\n",
       "      <th>Obs</th>\n",
       "      <th>patient</th>\n",
       "      <th>base</th>\n",
       "      <th>drug</th>\n",
       "      <th>hour</th>\n",
       "      <th>fev</th>\n",
       "      <th>change</th>\n",
       "    </tr>\n",
       "  </thead>\n",
       "  <tbody>\n",
       "    <tr>\n",
       "      <th>0</th>\n",
       "      <td>1</td>\n",
       "      <td>1</td>\n",
       "      <td>2.46</td>\n",
       "      <td>A</td>\n",
       "      <td>1</td>\n",
       "      <td>2.68</td>\n",
       "      <td>0.22</td>\n",
       "    </tr>\n",
       "    <tr>\n",
       "      <th>1</th>\n",
       "      <td>2</td>\n",
       "      <td>2</td>\n",
       "      <td>3.50</td>\n",
       "      <td>A</td>\n",
       "      <td>1</td>\n",
       "      <td>3.95</td>\n",
       "      <td>0.45</td>\n",
       "    </tr>\n",
       "    <tr>\n",
       "      <th>2</th>\n",
       "      <td>3</td>\n",
       "      <td>3</td>\n",
       "      <td>1.96</td>\n",
       "      <td>A</td>\n",
       "      <td>1</td>\n",
       "      <td>2.28</td>\n",
       "      <td>0.32</td>\n",
       "    </tr>\n",
       "    <tr>\n",
       "      <th>3</th>\n",
       "      <td>4</td>\n",
       "      <td>4</td>\n",
       "      <td>3.44</td>\n",
       "      <td>A</td>\n",
       "      <td>1</td>\n",
       "      <td>4.08</td>\n",
       "      <td>0.64</td>\n",
       "    </tr>\n",
       "    <tr>\n",
       "      <th>4</th>\n",
       "      <td>5</td>\n",
       "      <td>5</td>\n",
       "      <td>2.80</td>\n",
       "      <td>A</td>\n",
       "      <td>1</td>\n",
       "      <td>4.09</td>\n",
       "      <td>1.29</td>\n",
       "    </tr>\n",
       "    <tr>\n",
       "      <th>...</th>\n",
       "      <td>...</td>\n",
       "      <td>...</td>\n",
       "      <td>...</td>\n",
       "      <td>...</td>\n",
       "      <td>...</td>\n",
       "      <td>...</td>\n",
       "      <td>...</td>\n",
       "    </tr>\n",
       "    <tr>\n",
       "      <th>571</th>\n",
       "      <td>572</td>\n",
       "      <td>68</td>\n",
       "      <td>3.50</td>\n",
       "      <td>P</td>\n",
       "      <td>8</td>\n",
       "      <td>3.61</td>\n",
       "      <td>0.11</td>\n",
       "    </tr>\n",
       "    <tr>\n",
       "      <th>572</th>\n",
       "      <td>573</td>\n",
       "      <td>69</td>\n",
       "      <td>2.86</td>\n",
       "      <td>P</td>\n",
       "      <td>8</td>\n",
       "      <td>2.89</td>\n",
       "      <td>0.03</td>\n",
       "    </tr>\n",
       "    <tr>\n",
       "      <th>573</th>\n",
       "      <td>574</td>\n",
       "      <td>70</td>\n",
       "      <td>2.42</td>\n",
       "      <td>P</td>\n",
       "      <td>8</td>\n",
       "      <td>3.75</td>\n",
       "      <td>1.33</td>\n",
       "    </tr>\n",
       "    <tr>\n",
       "      <th>574</th>\n",
       "      <td>575</td>\n",
       "      <td>71</td>\n",
       "      <td>3.66</td>\n",
       "      <td>P</td>\n",
       "      <td>8</td>\n",
       "      <td>3.74</td>\n",
       "      <td>0.08</td>\n",
       "    </tr>\n",
       "    <tr>\n",
       "      <th>575</th>\n",
       "      <td>576</td>\n",
       "      <td>72</td>\n",
       "      <td>2.88</td>\n",
       "      <td>P</td>\n",
       "      <td>8</td>\n",
       "      <td>2.76</td>\n",
       "      <td>-0.12</td>\n",
       "    </tr>\n",
       "  </tbody>\n",
       "</table>\n",
       "<p>576 rows × 7 columns</p>\n",
       "</div>"
      ],
      "text/plain": [
       "     Obs  patient  base drug  hour   fev  change\n",
       "0      1        1  2.46    A     1  2.68    0.22\n",
       "1      2        2  3.50    A     1  3.95    0.45\n",
       "2      3        3  1.96    A     1  2.28    0.32\n",
       "3      4        4  3.44    A     1  4.08    0.64\n",
       "4      5        5  2.80    A     1  4.09    1.29\n",
       "..   ...      ...   ...  ...   ...   ...     ...\n",
       "571  572       68  3.50    P     8  3.61    0.11\n",
       "572  573       69  2.86    P     8  2.89    0.03\n",
       "573  574       70  2.42    P     8  3.75    1.33\n",
       "574  575       71  3.66    P     8  3.74    0.08\n",
       "575  576       72  2.88    P     8  2.76   -0.12\n",
       "\n",
       "[576 rows x 7 columns]"
      ]
     },
     "execution_count": 28,
     "metadata": {},
     "output_type": "execute_result"
    }
   ],
   "source": [
    "fev = pd.read_csv('FEV-1.dat', sep='\\s+')\n",
    "fev['change'] = fev['fev'] - fev['base']\n",
    "fev"
   ]
  },
  {
   "cell_type": "code",
   "execution_count": 32,
   "metadata": {},
   "outputs": [],
   "source": [
    "fev_1hr = fev[fev['hour']==1]\n",
    "multicomp = sms.multicomp.MultiComparison(data=fev_1hr['change'], groups=fev_1hr['drug'])"
   ]
  },
  {
   "cell_type": "code",
   "execution_count": 34,
   "metadata": {},
   "outputs": [
    {
     "data": {
      "text/html": [
       "<table class=\"simpletable\">\n",
       "<caption>Multiple Comparison of Means - Tukey HSD, FWER=0.05</caption>\n",
       "<tr>\n",
       "  <th>group1</th> <th>group2</th> <th>meandiff</th>  <th>p-adj</th>  <th>lower</th>   <th>upper</th>  <th>reject</th>\n",
       "</tr>\n",
       "<tr>\n",
       "     <td>A</td>      <td>C</td>    <td>0.2208</td>  <td>0.2504</td> <td>-0.1087</td> <td>0.5504</td>   <td>False</td>\n",
       "</tr>\n",
       "<tr>\n",
       "     <td>A</td>      <td>P</td>    <td>-0.6412</td>   <td>0.0</td>  <td>-0.9708</td> <td>-0.3117</td>  <td>True</td> \n",
       "</tr>\n",
       "<tr>\n",
       "     <td>C</td>      <td>P</td>    <td>-0.8621</td>   <td>0.0</td>  <td>-1.1917</td> <td>-0.5325</td>  <td>True</td> \n",
       "</tr>\n",
       "</table>"
      ],
      "text/plain": [
       "<class 'statsmodels.iolib.table.SimpleTable'>"
      ]
     },
     "execution_count": 34,
     "metadata": {},
     "output_type": "execute_result"
    }
   ],
   "source": [
    "multicomp.tukeyhsd(alpha=0.05).summary()"
   ]
  },
  {
   "cell_type": "markdown",
   "metadata": {},
   "source": [
    "## Two-Way Multinomial Experiment (Contingency Test)"
   ]
  },
  {
   "cell_type": "code",
   "execution_count": 36,
   "metadata": {},
   "outputs": [
    {
     "data": {
      "text/plain": [
       "array([[141, 161],\n",
       "       [ 44,  61]])"
      ]
     },
     "execution_count": 36,
     "metadata": {},
     "output_type": "execute_result"
    }
   ],
   "source": [
    "grades = np.array([[141,161],[44,61]])\n",
    "grades"
   ]
  },
  {
   "cell_type": "code",
   "execution_count": 37,
   "metadata": {},
   "outputs": [],
   "source": [
    "stat, pval, df, expected = stats.chi2_contingency(grades)"
   ]
  },
  {
   "cell_type": "code",
   "execution_count": 38,
   "metadata": {},
   "outputs": [
    {
     "data": {
      "text/plain": [
       "0.539179806580468"
      ]
     },
     "execution_count": 38,
     "metadata": {},
     "output_type": "execute_result"
    }
   ],
   "source": [
    "stat"
   ]
  },
  {
   "cell_type": "code",
   "execution_count": 39,
   "metadata": {},
   "outputs": [
    {
     "data": {
      "text/plain": [
       "0.46277284007222674"
      ]
     },
     "execution_count": 39,
     "metadata": {},
     "output_type": "execute_result"
    }
   ],
   "source": [
    "pval"
   ]
  },
  {
   "cell_type": "code",
   "execution_count": 40,
   "metadata": {},
   "outputs": [
    {
     "data": {
      "text/plain": [
       "1"
      ]
     },
     "execution_count": 40,
     "metadata": {},
     "output_type": "execute_result"
    }
   ],
   "source": [
    "\n",
    "df"
   ]
  },
  {
   "cell_type": "code",
   "execution_count": 41,
   "metadata": {},
   "outputs": [
    {
     "data": {
      "text/plain": [
       "array([[137.27272727, 164.72727273],\n",
       "       [ 47.72727273,  57.27272727]])"
      ]
     },
     "execution_count": 41,
     "metadata": {},
     "output_type": "execute_result"
    }
   ],
   "source": [
    "expected"
   ]
  },
  {
   "cell_type": "code",
   "execution_count": 42,
   "metadata": {},
   "outputs": [
    {
     "data": {
      "text/plain": [
       "3.8414588206941285"
      ]
     },
     "execution_count": 42,
     "metadata": {},
     "output_type": "execute_result"
    }
   ],
   "source": [
    "stats.chi2.isf(q=0.05, df=1)"
   ]
  },
  {
   "cell_type": "markdown",
   "metadata": {},
   "source": [
    "***\n",
    "# Progress Check"
   ]
  },
  {
   "cell_type": "code",
   "execution_count": 44,
   "metadata": {},
   "outputs": [
    {
     "data": {
      "text/html": [
       "<div>\n",
       "<style scoped>\n",
       "    .dataframe tbody tr th:only-of-type {\n",
       "        vertical-align: middle;\n",
       "    }\n",
       "\n",
       "    .dataframe tbody tr th {\n",
       "        vertical-align: top;\n",
       "    }\n",
       "\n",
       "    .dataframe thead th {\n",
       "        text-align: right;\n",
       "    }\n",
       "</style>\n",
       "<table border=\"1\" class=\"dataframe\">\n",
       "  <thead>\n",
       "    <tr style=\"text-align: right;\">\n",
       "      <th></th>\n",
       "      <th>subject</th>\n",
       "      <th>happiness</th>\n",
       "      <th>marital</th>\n",
       "      <th>gender</th>\n",
       "    </tr>\n",
       "  </thead>\n",
       "  <tbody>\n",
       "    <tr>\n",
       "      <th>0</th>\n",
       "      <td>1</td>\n",
       "      <td>1</td>\n",
       "      <td>1</td>\n",
       "      <td>male</td>\n",
       "    </tr>\n",
       "    <tr>\n",
       "      <th>1</th>\n",
       "      <td>2</td>\n",
       "      <td>1</td>\n",
       "      <td>1</td>\n",
       "      <td>male</td>\n",
       "    </tr>\n",
       "    <tr>\n",
       "      <th>2</th>\n",
       "      <td>3</td>\n",
       "      <td>1</td>\n",
       "      <td>1</td>\n",
       "      <td>male</td>\n",
       "    </tr>\n",
       "    <tr>\n",
       "      <th>3</th>\n",
       "      <td>4</td>\n",
       "      <td>1</td>\n",
       "      <td>1</td>\n",
       "      <td>male</td>\n",
       "    </tr>\n",
       "    <tr>\n",
       "      <th>4</th>\n",
       "      <td>5</td>\n",
       "      <td>1</td>\n",
       "      <td>1</td>\n",
       "      <td>male</td>\n",
       "    </tr>\n",
       "    <tr>\n",
       "      <th>...</th>\n",
       "      <td>...</td>\n",
       "      <td>...</td>\n",
       "      <td>...</td>\n",
       "      <td>...</td>\n",
       "    </tr>\n",
       "    <tr>\n",
       "      <th>2137</th>\n",
       "      <td>2138</td>\n",
       "      <td>3</td>\n",
       "      <td>3</td>\n",
       "      <td>female</td>\n",
       "    </tr>\n",
       "    <tr>\n",
       "      <th>2138</th>\n",
       "      <td>2139</td>\n",
       "      <td>3</td>\n",
       "      <td>3</td>\n",
       "      <td>female</td>\n",
       "    </tr>\n",
       "    <tr>\n",
       "      <th>2139</th>\n",
       "      <td>2140</td>\n",
       "      <td>3</td>\n",
       "      <td>3</td>\n",
       "      <td>female</td>\n",
       "    </tr>\n",
       "    <tr>\n",
       "      <th>2140</th>\n",
       "      <td>2141</td>\n",
       "      <td>3</td>\n",
       "      <td>3</td>\n",
       "      <td>female</td>\n",
       "    </tr>\n",
       "    <tr>\n",
       "      <th>2141</th>\n",
       "      <td>2142</td>\n",
       "      <td>3</td>\n",
       "      <td>3</td>\n",
       "      <td>female</td>\n",
       "    </tr>\n",
       "  </tbody>\n",
       "</table>\n",
       "<p>2142 rows × 4 columns</p>\n",
       "</div>"
      ],
      "text/plain": [
       "      subject  happiness  marital  gender\n",
       "0           1          1        1    male\n",
       "1           2          1        1    male\n",
       "2           3          1        1    male\n",
       "3           4          1        1    male\n",
       "4           5          1        1    male\n",
       "...       ...        ...      ...     ...\n",
       "2137     2138          3        3  female\n",
       "2138     2139          3        3  female\n",
       "2139     2140          3        3  female\n",
       "2140     2141          3        3  female\n",
       "2141     2142          3        3  female\n",
       "\n",
       "[2142 rows x 4 columns]"
      ]
     },
     "execution_count": 44,
     "metadata": {},
     "output_type": "execute_result"
    }
   ],
   "source": [
    "happy = pd.read_csv('Happy.dat', sep='\\s+')\n",
    "happy"
   ]
  },
  {
   "cell_type": "code",
   "execution_count": 46,
   "metadata": {},
   "outputs": [
    {
     "data": {
      "text/html": [
       "<div>\n",
       "<style scoped>\n",
       "    .dataframe tbody tr th:only-of-type {\n",
       "        vertical-align: middle;\n",
       "    }\n",
       "\n",
       "    .dataframe tbody tr th {\n",
       "        vertical-align: top;\n",
       "    }\n",
       "\n",
       "    .dataframe thead tr th {\n",
       "        text-align: left;\n",
       "    }\n",
       "\n",
       "    .dataframe thead tr:last-of-type th {\n",
       "        text-align: right;\n",
       "    }\n",
       "</style>\n",
       "<table border=\"1\" class=\"dataframe\">\n",
       "  <thead>\n",
       "    <tr>\n",
       "      <th></th>\n",
       "      <th></th>\n",
       "      <th colspan=\"8\" halign=\"left\">subject</th>\n",
       "      <th colspan=\"8\" halign=\"left\">marital</th>\n",
       "    </tr>\n",
       "    <tr>\n",
       "      <th></th>\n",
       "      <th></th>\n",
       "      <th>count</th>\n",
       "      <th>mean</th>\n",
       "      <th>std</th>\n",
       "      <th>min</th>\n",
       "      <th>25%</th>\n",
       "      <th>50%</th>\n",
       "      <th>75%</th>\n",
       "      <th>max</th>\n",
       "      <th>count</th>\n",
       "      <th>mean</th>\n",
       "      <th>std</th>\n",
       "      <th>min</th>\n",
       "      <th>25%</th>\n",
       "      <th>50%</th>\n",
       "      <th>75%</th>\n",
       "      <th>max</th>\n",
       "    </tr>\n",
       "    <tr>\n",
       "      <th>gender</th>\n",
       "      <th>happiness</th>\n",
       "      <th></th>\n",
       "      <th></th>\n",
       "      <th></th>\n",
       "      <th></th>\n",
       "      <th></th>\n",
       "      <th></th>\n",
       "      <th></th>\n",
       "      <th></th>\n",
       "      <th></th>\n",
       "      <th></th>\n",
       "      <th></th>\n",
       "      <th></th>\n",
       "      <th></th>\n",
       "      <th></th>\n",
       "      <th></th>\n",
       "      <th></th>\n",
       "    </tr>\n",
       "  </thead>\n",
       "  <tbody>\n",
       "    <tr>\n",
       "      <th rowspan=\"3\" valign=\"top\">female</th>\n",
       "      <th>1</th>\n",
       "      <td>353.0</td>\n",
       "      <td>1323.546742</td>\n",
       "      <td>306.063568</td>\n",
       "      <td>995.0</td>\n",
       "      <td>1083.00</td>\n",
       "      <td>1171.0</td>\n",
       "      <td>1562.00</td>\n",
       "      <td>1876.0</td>\n",
       "      <td>353.0</td>\n",
       "      <td>1.552408</td>\n",
       "      <td>0.796442</td>\n",
       "      <td>1.0</td>\n",
       "      <td>1.0</td>\n",
       "      <td>1.0</td>\n",
       "      <td>2.0</td>\n",
       "      <td>3.0</td>\n",
       "    </tr>\n",
       "    <tr>\n",
       "      <th>2</th>\n",
       "      <td>642.0</td>\n",
       "      <td>1630.289720</td>\n",
       "      <td>271.293545</td>\n",
       "      <td>1221.0</td>\n",
       "      <td>1381.25</td>\n",
       "      <td>1628.5</td>\n",
       "      <td>1914.75</td>\n",
       "      <td>2075.0</td>\n",
       "      <td>642.0</td>\n",
       "      <td>1.881620</td>\n",
       "      <td>0.851724</td>\n",
       "      <td>1.0</td>\n",
       "      <td>1.0</td>\n",
       "      <td>2.0</td>\n",
       "      <td>3.0</td>\n",
       "      <td>3.0</td>\n",
       "    </tr>\n",
       "    <tr>\n",
       "      <th>3</th>\n",
       "      <td>153.0</td>\n",
       "      <td>1874.379085</td>\n",
       "      <td>229.146500</td>\n",
       "      <td>1496.0</td>\n",
       "      <td>1761.00</td>\n",
       "      <td>1799.0</td>\n",
       "      <td>2104.00</td>\n",
       "      <td>2142.0</td>\n",
       "      <td>153.0</td>\n",
       "      <td>2.254902</td>\n",
       "      <td>0.748063</td>\n",
       "      <td>1.0</td>\n",
       "      <td>2.0</td>\n",
       "      <td>2.0</td>\n",
       "      <td>3.0</td>\n",
       "      <td>3.0</td>\n",
       "    </tr>\n",
       "    <tr>\n",
       "      <th rowspan=\"3\" valign=\"top\">male</th>\n",
       "      <th>1</th>\n",
       "      <td>295.0</td>\n",
       "      <td>257.227119</td>\n",
       "      <td>245.657079</td>\n",
       "      <td>1.0</td>\n",
       "      <td>74.50</td>\n",
       "      <td>148.0</td>\n",
       "      <td>483.50</td>\n",
       "      <td>716.0</td>\n",
       "      <td>295.0</td>\n",
       "      <td>1.491525</td>\n",
       "      <td>0.794815</td>\n",
       "      <td>1.0</td>\n",
       "      <td>1.0</td>\n",
       "      <td>1.0</td>\n",
       "      <td>2.0</td>\n",
       "      <td>3.0</td>\n",
       "    </tr>\n",
       "    <tr>\n",
       "      <th>2</th>\n",
       "      <td>553.0</td>\n",
       "      <td>560.023508</td>\n",
       "      <td>230.536365</td>\n",
       "      <td>207.0</td>\n",
       "      <td>345.00</td>\n",
       "      <td>549.0</td>\n",
       "      <td>788.00</td>\n",
       "      <td>926.0</td>\n",
       "      <td>553.0</td>\n",
       "      <td>1.965642</td>\n",
       "      <td>0.891127</td>\n",
       "      <td>1.0</td>\n",
       "      <td>1.0</td>\n",
       "      <td>2.0</td>\n",
       "      <td>3.0</td>\n",
       "      <td>3.0</td>\n",
       "    </tr>\n",
       "    <tr>\n",
       "      <th>3</th>\n",
       "      <td>146.0</td>\n",
       "      <td>746.164384</td>\n",
       "      <td>212.420209</td>\n",
       "      <td>436.0</td>\n",
       "      <td>619.25</td>\n",
       "      <td>655.5</td>\n",
       "      <td>957.75</td>\n",
       "      <td>994.0</td>\n",
       "      <td>146.0</td>\n",
       "      <td>2.239726</td>\n",
       "      <td>0.799179</td>\n",
       "      <td>1.0</td>\n",
       "      <td>2.0</td>\n",
       "      <td>2.0</td>\n",
       "      <td>3.0</td>\n",
       "      <td>3.0</td>\n",
       "    </tr>\n",
       "  </tbody>\n",
       "</table>\n",
       "</div>"
      ],
      "text/plain": [
       "                 subject                                                    \\\n",
       "                   count         mean         std     min      25%     50%   \n",
       "gender happiness                                                             \n",
       "female 1           353.0  1323.546742  306.063568   995.0  1083.00  1171.0   \n",
       "       2           642.0  1630.289720  271.293545  1221.0  1381.25  1628.5   \n",
       "       3           153.0  1874.379085  229.146500  1496.0  1761.00  1799.0   \n",
       "male   1           295.0   257.227119  245.657079     1.0    74.50   148.0   \n",
       "       2           553.0   560.023508  230.536365   207.0   345.00   549.0   \n",
       "       3           146.0   746.164384  212.420209   436.0   619.25   655.5   \n",
       "\n",
       "                                  marital                                     \\\n",
       "                      75%     max   count      mean       std  min  25%  50%   \n",
       "gender happiness                                                               \n",
       "female 1          1562.00  1876.0   353.0  1.552408  0.796442  1.0  1.0  1.0   \n",
       "       2          1914.75  2075.0   642.0  1.881620  0.851724  1.0  1.0  2.0   \n",
       "       3          2104.00  2142.0   153.0  2.254902  0.748063  1.0  2.0  2.0   \n",
       "male   1           483.50   716.0   295.0  1.491525  0.794815  1.0  1.0  1.0   \n",
       "       2           788.00   926.0   553.0  1.965642  0.891127  1.0  1.0  2.0   \n",
       "       3           957.75   994.0   146.0  2.239726  0.799179  1.0  2.0  2.0   \n",
       "\n",
       "                            \n",
       "                  75%  max  \n",
       "gender happiness            \n",
       "female 1          2.0  3.0  \n",
       "       2          3.0  3.0  \n",
       "       3          3.0  3.0  \n",
       "male   1          2.0  3.0  \n",
       "       2          3.0  3.0  \n",
       "       3          3.0  3.0  "
      ]
     },
     "execution_count": 46,
     "metadata": {},
     "output_type": "execute_result"
    }
   ],
   "source": [
    "happy.groupby(['gender','happiness']).describe()"
   ]
  },
  {
   "cell_type": "code",
   "execution_count": 47,
   "metadata": {},
   "outputs": [
    {
     "data": {
      "text/html": [
       "<div>\n",
       "<style scoped>\n",
       "    .dataframe tbody tr th:only-of-type {\n",
       "        vertical-align: middle;\n",
       "    }\n",
       "\n",
       "    .dataframe tbody tr th {\n",
       "        vertical-align: top;\n",
       "    }\n",
       "\n",
       "    .dataframe thead tr th {\n",
       "        text-align: left;\n",
       "    }\n",
       "\n",
       "    .dataframe thead tr:last-of-type th {\n",
       "        text-align: right;\n",
       "    }\n",
       "</style>\n",
       "<table border=\"1\" class=\"dataframe\">\n",
       "  <thead>\n",
       "    <tr>\n",
       "      <th></th>\n",
       "      <th colspan=\"8\" halign=\"left\">subject</th>\n",
       "      <th colspan=\"8\" halign=\"left\">marital</th>\n",
       "    </tr>\n",
       "    <tr>\n",
       "      <th></th>\n",
       "      <th>count</th>\n",
       "      <th>mean</th>\n",
       "      <th>std</th>\n",
       "      <th>min</th>\n",
       "      <th>25%</th>\n",
       "      <th>50%</th>\n",
       "      <th>75%</th>\n",
       "      <th>max</th>\n",
       "      <th>count</th>\n",
       "      <th>mean</th>\n",
       "      <th>std</th>\n",
       "      <th>min</th>\n",
       "      <th>25%</th>\n",
       "      <th>50%</th>\n",
       "      <th>75%</th>\n",
       "      <th>max</th>\n",
       "    </tr>\n",
       "    <tr>\n",
       "      <th>happiness</th>\n",
       "      <th></th>\n",
       "      <th></th>\n",
       "      <th></th>\n",
       "      <th></th>\n",
       "      <th></th>\n",
       "      <th></th>\n",
       "      <th></th>\n",
       "      <th></th>\n",
       "      <th></th>\n",
       "      <th></th>\n",
       "      <th></th>\n",
       "      <th></th>\n",
       "      <th></th>\n",
       "      <th></th>\n",
       "      <th></th>\n",
       "      <th></th>\n",
       "    </tr>\n",
       "  </thead>\n",
       "  <tbody>\n",
       "    <tr>\n",
       "      <th>1</th>\n",
       "      <td>648.0</td>\n",
       "      <td>838.108025</td>\n",
       "      <td>600.669503</td>\n",
       "      <td>1.0</td>\n",
       "      <td>162.75</td>\n",
       "      <td>1023.5</td>\n",
       "      <td>1185.25</td>\n",
       "      <td>1876.0</td>\n",
       "      <td>648.0</td>\n",
       "      <td>1.524691</td>\n",
       "      <td>0.795665</td>\n",
       "      <td>1.0</td>\n",
       "      <td>1.0</td>\n",
       "      <td>1.0</td>\n",
       "      <td>2.0</td>\n",
       "      <td>3.0</td>\n",
       "    </tr>\n",
       "    <tr>\n",
       "      <th>2</th>\n",
       "      <td>1195.0</td>\n",
       "      <td>1135.011715</td>\n",
       "      <td>590.847128</td>\n",
       "      <td>207.0</td>\n",
       "      <td>571.50</td>\n",
       "      <td>1265.0</td>\n",
       "      <td>1650.50</td>\n",
       "      <td>2075.0</td>\n",
       "      <td>1195.0</td>\n",
       "      <td>1.920502</td>\n",
       "      <td>0.870822</td>\n",
       "      <td>1.0</td>\n",
       "      <td>1.0</td>\n",
       "      <td>2.0</td>\n",
       "      <td>3.0</td>\n",
       "      <td>3.0</td>\n",
       "    </tr>\n",
       "    <tr>\n",
       "      <th>3</th>\n",
       "      <td>299.0</td>\n",
       "      <td>1323.478261</td>\n",
       "      <td>606.504836</td>\n",
       "      <td>436.0</td>\n",
       "      <td>657.50</td>\n",
       "      <td>1499.0</td>\n",
       "      <td>1800.50</td>\n",
       "      <td>2142.0</td>\n",
       "      <td>299.0</td>\n",
       "      <td>2.247492</td>\n",
       "      <td>0.772179</td>\n",
       "      <td>1.0</td>\n",
       "      <td>2.0</td>\n",
       "      <td>2.0</td>\n",
       "      <td>3.0</td>\n",
       "      <td>3.0</td>\n",
       "    </tr>\n",
       "  </tbody>\n",
       "</table>\n",
       "</div>"
      ],
      "text/plain": [
       "          subject                                                           \\\n",
       "            count         mean         std    min     25%     50%      75%   \n",
       "happiness                                                                    \n",
       "1           648.0   838.108025  600.669503    1.0  162.75  1023.5  1185.25   \n",
       "2          1195.0  1135.011715  590.847128  207.0  571.50  1265.0  1650.50   \n",
       "3           299.0  1323.478261  606.504836  436.0  657.50  1499.0  1800.50   \n",
       "\n",
       "                  marital                                               \n",
       "              max   count      mean       std  min  25%  50%  75%  max  \n",
       "happiness                                                               \n",
       "1          1876.0   648.0  1.524691  0.795665  1.0  1.0  1.0  2.0  3.0  \n",
       "2          2075.0  1195.0  1.920502  0.870822  1.0  1.0  2.0  3.0  3.0  \n",
       "3          2142.0   299.0  2.247492  0.772179  1.0  2.0  2.0  3.0  3.0  "
      ]
     },
     "execution_count": 47,
     "metadata": {},
     "output_type": "execute_result"
    }
   ],
   "source": [
    "happy.groupby(['happiness']).describe()"
   ]
  },
  {
   "cell_type": "code",
   "execution_count": 49,
   "metadata": {},
   "outputs": [
    {
     "data": {
      "text/html": [
       "<div>\n",
       "<style scoped>\n",
       "    .dataframe tbody tr th:only-of-type {\n",
       "        vertical-align: middle;\n",
       "    }\n",
       "\n",
       "    .dataframe tbody tr th {\n",
       "        vertical-align: top;\n",
       "    }\n",
       "\n",
       "    .dataframe thead th {\n",
       "        text-align: right;\n",
       "    }\n",
       "</style>\n",
       "<table border=\"1\" class=\"dataframe\">\n",
       "  <thead>\n",
       "    <tr style=\"text-align: right;\">\n",
       "      <th>happiness</th>\n",
       "      <th>1</th>\n",
       "      <th>2</th>\n",
       "      <th>3</th>\n",
       "    </tr>\n",
       "    <tr>\n",
       "      <th>gender</th>\n",
       "      <th></th>\n",
       "      <th></th>\n",
       "      <th></th>\n",
       "    </tr>\n",
       "  </thead>\n",
       "  <tbody>\n",
       "    <tr>\n",
       "      <th>female</th>\n",
       "      <td>353</td>\n",
       "      <td>642</td>\n",
       "      <td>153</td>\n",
       "    </tr>\n",
       "    <tr>\n",
       "      <th>male</th>\n",
       "      <td>295</td>\n",
       "      <td>553</td>\n",
       "      <td>146</td>\n",
       "    </tr>\n",
       "  </tbody>\n",
       "</table>\n",
       "</div>"
      ],
      "text/plain": [
       "happiness    1    2    3\n",
       "gender                  \n",
       "female     353  642  153\n",
       "male       295  553  146"
      ]
     },
     "execution_count": 49,
     "metadata": {},
     "output_type": "execute_result"
    }
   ],
   "source": [
    "hap_table = pd.crosstab(happy['gender'],happy['happiness'])\n",
    "hap_table"
   ]
  },
  {
   "cell_type": "code",
   "execution_count": 51,
   "metadata": {},
   "outputs": [
    {
     "name": "stdout",
     "output_type": "stream",
     "text": [
      "0.9165315892565513\n",
      "0.6323793708278013\n"
     ]
    }
   ],
   "source": [
    "stat, pval, df, expected = stats.chi2_contingency(hap_table)\n",
    "print(stat)\n",
    "print(pval)"
   ]
  },
  {
   "cell_type": "code",
   "execution_count": null,
   "metadata": {},
   "outputs": [],
   "source": []
  }
 ],
 "metadata": {
  "kernelspec": {
   "display_name": "base",
   "language": "python",
   "name": "python3"
  },
  "language_info": {
   "codemirror_mode": {
    "name": "ipython",
    "version": 3
   },
   "file_extension": ".py",
   "mimetype": "text/x-python",
   "name": "python",
   "nbconvert_exporter": "python",
   "pygments_lexer": "ipython3",
   "version": "3.8.5"
  },
  "orig_nbformat": 4
 },
 "nbformat": 4,
 "nbformat_minor": 2
}
