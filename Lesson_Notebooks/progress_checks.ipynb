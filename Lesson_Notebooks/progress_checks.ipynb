{
 "cells": [
  {
   "cell_type": "code",
   "execution_count": 1,
   "id": "5e0c210e-651d-4938-935d-5bd8f1f5eda9",
   "metadata": {
    "tags": []
   },
   "outputs": [],
   "source": [
    "import scipy.stats as stats"
   ]
  },
  {
   "cell_type": "code",
   "execution_count": 9,
   "id": "c5d1cdbc-5f67-4c4b-977c-5877413cec73",
   "metadata": {
    "tags": []
   },
   "outputs": [],
   "source": [
    "\n",
    "\n",
    "# 13-2\n",
    "p = 1/6\n",
    "k = 2\n",
    "\n",
    "dist = stats.geom(p=p)"
   ]
  },
  {
   "cell_type": "code",
   "execution_count": 19,
   "id": "4e0c8c4a-371f-420c-bcbd-a4eab76d5f79",
   "metadata": {
    "tags": []
   },
   "outputs": [
    {
     "data": {
      "text/plain": [
       "0.3055555555555555"
      ]
     },
     "execution_count": 19,
     "metadata": {},
     "output_type": "execute_result"
    }
   ],
   "source": [
    "dist.cdf(x=2)"
   ]
  },
  {
   "cell_type": "code",
   "execution_count": 20,
   "id": "d72dae1b-964f-479b-bd87-a4932ee63412",
   "metadata": {
    "tags": []
   },
   "outputs": [
    {
     "data": {
      "text/plain": [
       "0.6944444444444444"
      ]
     },
     "execution_count": 20,
     "metadata": {},
     "output_type": "execute_result"
    }
   ],
   "source": [
    "dist.sf(x=k)"
   ]
  },
  {
   "cell_type": "code",
   "execution_count": 21,
   "id": "a5abd72e-994a-4730-a089-1b3a44797e53",
   "metadata": {
    "tags": []
   },
   "outputs": [
    {
     "data": {
      "text/plain": [
       "0.16666666666666666"
      ]
     },
     "execution_count": 21,
     "metadata": {},
     "output_type": "execute_result"
    }
   ],
   "source": [
    "dist.pmf(1)"
   ]
  },
  {
   "cell_type": "code",
   "execution_count": 22,
   "id": "ad7491dd-f878-4f25-b00a-ba1ecadfaac9",
   "metadata": {
    "tags": []
   },
   "outputs": [
    {
     "data": {
      "text/plain": [
       "0.8333333333333334"
      ]
     },
     "execution_count": 22,
     "metadata": {},
     "output_type": "execute_result"
    }
   ],
   "source": [
    "dist.sf(1)"
   ]
  },
  {
   "cell_type": "code",
   "execution_count": null,
   "id": "6f82a142-072f-4fcb-8d27-1c2d19341e92",
   "metadata": {
    "tags": []
   },
   "outputs": [],
   "source": []
  },
  {
   "cell_type": "code",
   "execution_count": 24,
   "id": "b145c364-fb36-4aa1-916b-c2bf03eef93c",
   "metadata": {
    "tags": []
   },
   "outputs": [
    {
     "data": {
      "text/plain": [
       "2.991"
      ]
     },
     "execution_count": 24,
     "metadata": {},
     "output_type": "execute_result"
    }
   ],
   "source": [
    "n = 1000\n",
    "p = 0.003\n",
    "n*p*(1 - p)"
   ]
  },
  {
   "cell_type": "code",
   "execution_count": 25,
   "id": "37bf402b-f080-49f9-b225-56e4ed575251",
   "metadata": {
    "tags": []
   },
   "outputs": [
    {
     "data": {
      "text/plain": [
       "3.0"
      ]
     },
     "execution_count": 25,
     "metadata": {},
     "output_type": "execute_result"
    }
   ],
   "source": [
    "1000 * p"
   ]
  },
  {
   "cell_type": "code",
   "execution_count": 27,
   "id": "eb379d8a-05aa-4f07-bae2-e7e4b5c682b3",
   "metadata": {
    "tags": []
   },
   "outputs": [
    {
     "data": {
      "text/plain": [
       "0.0"
      ]
     },
     "execution_count": 27,
     "metadata": {},
     "output_type": "execute_result"
    }
   ],
   "source": [
    "1 * n - 100 * (n * .01)"
   ]
  },
  {
   "cell_type": "code",
   "execution_count": 28,
   "id": "e130b3e6-a26d-4baa-b813-dc3ce584e9df",
   "metadata": {
    "tags": []
   },
   "outputs": [],
   "source": [
    "lamb = 25\n",
    "\n",
    "dist = stats.poisson(mu=lamb)\n",
    "\n"
   ]
  },
  {
   "cell_type": "code",
   "execution_count": 30,
   "id": "018cbfbb-c8e5-46b2-848c-919a24e022bd",
   "metadata": {
    "tags": []
   },
   "outputs": [
    {
     "data": {
      "text/plain": [
       "0.1335748340856504"
      ]
     },
     "execution_count": 30,
     "metadata": {},
     "output_type": "execute_result"
    }
   ],
   "source": [
    "dist.cdf(19)"
   ]
  },
  {
   "cell_type": "code",
   "execution_count": null,
   "id": "dda01c38-7472-4ee4-b2f4-3a6e8929f085",
   "metadata": {},
   "outputs": [],
   "source": []
  }
 ],
 "metadata": {
  "kernelspec": {
   "display_name": "Python 3 (ipykernel)",
   "language": "python",
   "name": "python3"
  },
  "language_info": {
   "codemirror_mode": {
    "name": "ipython",
    "version": 3
   },
   "file_extension": ".py",
   "mimetype": "text/x-python",
   "name": "python",
   "nbconvert_exporter": "python",
   "pygments_lexer": "ipython3",
   "version": "3.8.16"
  }
 },
 "nbformat": 4,
 "nbformat_minor": 5
}
