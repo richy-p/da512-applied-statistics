{
 "cells": [
  {
   "cell_type": "markdown",
   "metadata": {},
   "source": [
    "# Tests of Variability"
   ]
  },
  {
   "cell_type": "code",
   "execution_count": 1,
   "metadata": {},
   "outputs": [],
   "source": [
    "import math\n",
    "import numpy as np\n",
    "import pandas as pd\n",
    "import matplotlib.pyplot as plt\n",
    "import seaborn as sns\n",
    "import scipy.stats as stats\n",
    "import statsmodels.api as sm\n",
    "import statsmodels.stats.api as sms\n",
    "import statsmodels.graphics.api as smg\n",
    "\n",
    "sns.set_style('whitegrid')"
   ]
  },
  {
   "cell_type": "code",
   "execution_count": 2,
   "metadata": {},
   "outputs": [],
   "source": [
    "def chi2_1samp_var_stats(s2, sigma2, n, alternative='two-sided'):\n",
    "    '''\n",
    "    This function runs the one-sample chi-squared test for variance\n",
    "    based on known values. Use chi2_1samp_var_data if you have raw\n",
    "    data rather than summary statistics.\n",
    "    \n",
    "    Inputs:\n",
    "    s2     : the observed variance\n",
    "    sigma2 : the null hypothesized variance\n",
    "    n      : the sample size\n",
    "    alternative : the alternative hypothesis ('two-sided', 'greater', 'less')\n",
    "    \n",
    "    Returns:\n",
    "    test   : the chi-squared test statistic\n",
    "    pval   : the p-value for the test\n",
    "    '''\n",
    "    import math\n",
    "    import scipy.stats as stats\n",
    "    dist = stats.chi2(df=n-1)\n",
    "    test = (n-1) * s2 / sigma2\n",
    "    pval = 0\n",
    "    if alternative == 'less':\n",
    "        pval = dist.cdf(test)\n",
    "    elif alternative == 'greater':\n",
    "        pval = dist.sf(test)\n",
    "    else:\n",
    "        pval = 2 * min(dist.cdf(test),dist.sf(test))\n",
    "    return test, pval"
   ]
  },
  {
   "cell_type": "markdown",
   "metadata": {},
   "source": [
    "# $\\chi^2$ Test"
   ]
  },
  {
   "cell_type": "code",
   "execution_count": 3,
   "metadata": {},
   "outputs": [],
   "source": [
    "def chi2_1samp_var_data(data, sigma2, alternative='two-sided'):\n",
    "    '''\n",
    "    This function runs the one-sample chi-squared test for variance\n",
    "    based on given data. Use chi2_1samp_var_stats if you know values\n",
    "    but do not have the raw data.\n",
    "    \n",
    "    Inputs:\n",
    "    data   : the observed data\n",
    "    sigma2 : the null hypothesized variance\n",
    "    alternative : the alternative hypothesis ('two-sided', 'greater', 'less')\n",
    "    \n",
    "    Returns:\n",
    "    test   : the chi-squared test statistic\n",
    "    pval   : the p-value for the test\n",
    "    '''\n",
    "    import math\n",
    "    import scipy.stats as stats\n",
    "    import numpy as np\n",
    "    s2 = np.var(data, ddof=1)\n",
    "    n = len(data)\n",
    "    dist = stats.chi2(df=n-1)\n",
    "    test = (n-1) * s2 / sigma2\n",
    "    pval = 0\n",
    "    if alternative == 'less':\n",
    "        pval = dist.cdf(test)\n",
    "    elif alternative == 'greater':\n",
    "        pval = dist.sf(test)\n",
    "    else:\n",
    "        pval = 2 * min(dist.cdf(test),dist.sf(test))\n",
    "    return test, pval"
   ]
  },
  {
   "cell_type": "code",
   "execution_count": 18,
   "metadata": {},
   "outputs": [
    {
     "data": {
      "text/plain": [
       "(34.792899408284015, 0.2502540602893593)"
      ]
     },
     "execution_count": 18,
     "metadata": {},
     "output_type": "execute_result"
    }
   ],
   "source": [
    "sigma2 = 1.3**2\n",
    "s2 = 1.4**2\n",
    "n=31\n",
    "alternative = 'greater'\n",
    "chi2_1samp_var_stats(s2=s2, sigma2=sigma2, n=n, alternative=alternative)"
   ]
  },
  {
   "cell_type": "code",
   "execution_count": 10,
   "metadata": {},
   "outputs": [
    {
     "data": {
      "text/plain": [
       "123.22522145336181"
      ]
     },
     "execution_count": 10,
     "metadata": {},
     "output_type": "execute_result"
    }
   ],
   "source": [
    "dist = stats.chi2(df=n-1)\n",
    "dist.isf(q=0.05)"
   ]
  },
  {
   "cell_type": "code",
   "execution_count": 14,
   "metadata": {},
   "outputs": [
    {
     "name": "stdout",
     "output_type": "stream",
     "text": [
      "1.5359959667527208\n",
      "(41.88077413989276, 0.07327248826746881)\n"
     ]
    }
   ],
   "source": [
    "data = stats.norm(scale=1.4).rvs(size=31)\n",
    "print(np.std(data,ddof=1))\n",
    "print(chi2_1samp_var_data(data=data, sigma2=sigma2, alternative='greater'))"
   ]
  },
  {
   "cell_type": "markdown",
   "metadata": {},
   "source": [
    "# F Test"
   ]
  },
  {
   "cell_type": "code",
   "execution_count": 19,
   "metadata": {},
   "outputs": [],
   "source": [
    "def F_2samp_var_stats(var1, var2, n1, n2, alternative='two-sided'):\n",
    "    '''\n",
    "    This function runs the two-sample F test for variance based on\n",
    "    known values. Use F_2samp_var_data if you have raw data.\n",
    "    \n",
    "    Inputs:\n",
    "    var1     : the observed variance for sample 1\n",
    "    var2     : the observed variance for sample 2\n",
    "    n1       : the sample size for sample 1\n",
    "    n2       : the sample size for sample 2\n",
    "    alternative : the alternative hypothesis ('two-sided', 'greater', 'less')\n",
    "    \n",
    "    Returns:\n",
    "    test   : the F test statistic\n",
    "    pval   : the p-value for the test\n",
    "    '''\n",
    "    import math\n",
    "    import scipy.stats as stats\n",
    "    dist = stats.f(dfn=n1-1, dfd=n2-1)\n",
    "    test = var1/var2\n",
    "    pval = 0\n",
    "    if alternative == 'less':\n",
    "        pval = dist.cdf(test)\n",
    "    elif alternative == 'greater':\n",
    "        pval = dist.sf(test)\n",
    "    else:\n",
    "        pval = 2 * min(dist.cdf(test),dist.sf(test))\n",
    "    return test, pval"
   ]
  },
  {
   "cell_type": "code",
   "execution_count": 20,
   "metadata": {},
   "outputs": [],
   "source": [
    "def F_2samp_var_data(data1, data2, alternative='two-sided'):\n",
    "    '''\n",
    "    This function runs the two-sample F test for variance based on\n",
    "    raw data. Use F_2samp_var_stats if you have summary statistics.\n",
    "    \n",
    "    Inputs:\n",
    "    data1   : sample 1\n",
    "    data2   : sample 2\n",
    "    alternative : the alternative hypothesis ('two-sided', 'greater', 'less')\n",
    "    \n",
    "    Returns:\n",
    "    test   : the F test statistic\n",
    "    pval   : the p-value for the test\n",
    "    '''\n",
    "    import math\n",
    "    import scipy.stats as stats\n",
    "    import numpy as np\n",
    "    var1 = np.var(data1, ddof=1)\n",
    "    var2 = np.var(data2, ddof=1)\n",
    "    n1 = len(data1)\n",
    "    n2 = len(data2)\n",
    "    dist = stats.f(dfn=n1-1, dfd=n2-1)\n",
    "    test = var1/var2\n",
    "    pval = 0\n",
    "    if alternative == 'less':\n",
    "        pval = dist.cdf(test)\n",
    "    elif alternative == 'greater':\n",
    "        pval = dist.sf(test)\n",
    "    else:\n",
    "        pval = 2 * min(dist.cdf(test),dist.sf(test))\n",
    "    return test, pval"
   ]
  },
  {
   "cell_type": "code",
   "execution_count": 36,
   "metadata": {},
   "outputs": [],
   "source": [
    "var1 = 5\n",
    "var2 = 8\n",
    "n1 = 15\n",
    "n2 = 18\n",
    "alternative = 'two-sided'"
   ]
  },
  {
   "cell_type": "code",
   "execution_count": 37,
   "metadata": {},
   "outputs": [
    {
     "data": {
      "text/plain": [
       "(0.625, 0.37950927903309983)"
      ]
     },
     "execution_count": 37,
     "metadata": {},
     "output_type": "execute_result"
    }
   ],
   "source": [
    "F_2samp_var_stats(var1=var1, var2=var2, n1=n1, n2=n2, alternative=alternative)"
   ]
  },
  {
   "cell_type": "code",
   "execution_count": 23,
   "metadata": {},
   "outputs": [
    {
     "data": {
      "text/plain": [
       "0.34479685483195366"
      ]
     },
     "execution_count": 23,
     "metadata": {},
     "output_type": "execute_result"
    }
   ],
   "source": [
    "stats.f(dfn=n1-1, dfd=n2-1).ppf(0.025)"
   ]
  },
  {
   "cell_type": "code",
   "execution_count": 24,
   "metadata": {},
   "outputs": [
    {
     "data": {
      "text/plain": [
       "2.7526407074274255"
      ]
     },
     "execution_count": 24,
     "metadata": {},
     "output_type": "execute_result"
    }
   ],
   "source": [
    "stats.f(dfn=n1-1, dfd=n2-1).isf(0.025)"
   ]
  },
  {
   "cell_type": "code",
   "execution_count": 25,
   "metadata": {},
   "outputs": [
    {
     "data": {
      "text/plain": [
       "(0.3293450651488108, 0.041342236341834857)"
      ]
     },
     "execution_count": 25,
     "metadata": {},
     "output_type": "execute_result"
    }
   ],
   "source": [
    "data1 = stats.norm(loc=65, scale=math.sqrt(5)).rvs(size=15)\n",
    "data2 = stats.norm(loc=75, scale=math.sqrt(8)).rvs(size=18)\n",
    "F_2samp_var_data(data1, data2, alternative='two-sided')"
   ]
  },
  {
   "cell_type": "markdown",
   "metadata": {},
   "source": [
    "---\n",
    "# Progress Check"
   ]
  },
  {
   "cell_type": "code",
   "execution_count": 42,
   "metadata": {},
   "outputs": [
    {
     "data": {
      "text/html": [
       "<div>\n",
       "<style scoped>\n",
       "    .dataframe tbody tr th:only-of-type {\n",
       "        vertical-align: middle;\n",
       "    }\n",
       "\n",
       "    .dataframe tbody tr th {\n",
       "        vertical-align: top;\n",
       "    }\n",
       "\n",
       "    .dataframe thead th {\n",
       "        text-align: right;\n",
       "    }\n",
       "</style>\n",
       "<table border=\"1\" class=\"dataframe\">\n",
       "  <thead>\n",
       "    <tr style=\"text-align: right;\">\n",
       "      <th></th>\n",
       "      <th>subject</th>\n",
       "      <th>therapy</th>\n",
       "      <th>before</th>\n",
       "      <th>after</th>\n",
       "    </tr>\n",
       "  </thead>\n",
       "  <tbody>\n",
       "    <tr>\n",
       "      <th>0</th>\n",
       "      <td>1</td>\n",
       "      <td>cb</td>\n",
       "      <td>80.5</td>\n",
       "      <td>82.2</td>\n",
       "    </tr>\n",
       "    <tr>\n",
       "      <th>1</th>\n",
       "      <td>2</td>\n",
       "      <td>cb</td>\n",
       "      <td>84.9</td>\n",
       "      <td>85.6</td>\n",
       "    </tr>\n",
       "    <tr>\n",
       "      <th>2</th>\n",
       "      <td>3</td>\n",
       "      <td>cb</td>\n",
       "      <td>81.5</td>\n",
       "      <td>81.4</td>\n",
       "    </tr>\n",
       "    <tr>\n",
       "      <th>3</th>\n",
       "      <td>4</td>\n",
       "      <td>cb</td>\n",
       "      <td>82.6</td>\n",
       "      <td>81.9</td>\n",
       "    </tr>\n",
       "    <tr>\n",
       "      <th>4</th>\n",
       "      <td>5</td>\n",
       "      <td>cb</td>\n",
       "      <td>79.9</td>\n",
       "      <td>76.4</td>\n",
       "    </tr>\n",
       "    <tr>\n",
       "      <th>...</th>\n",
       "      <td>...</td>\n",
       "      <td>...</td>\n",
       "      <td>...</td>\n",
       "      <td>...</td>\n",
       "    </tr>\n",
       "    <tr>\n",
       "      <th>67</th>\n",
       "      <td>68</td>\n",
       "      <td>c</td>\n",
       "      <td>84.4</td>\n",
       "      <td>84.7</td>\n",
       "    </tr>\n",
       "    <tr>\n",
       "      <th>68</th>\n",
       "      <td>69</td>\n",
       "      <td>c</td>\n",
       "      <td>79.6</td>\n",
       "      <td>81.4</td>\n",
       "    </tr>\n",
       "    <tr>\n",
       "      <th>69</th>\n",
       "      <td>70</td>\n",
       "      <td>c</td>\n",
       "      <td>77.5</td>\n",
       "      <td>81.2</td>\n",
       "    </tr>\n",
       "    <tr>\n",
       "      <th>70</th>\n",
       "      <td>71</td>\n",
       "      <td>c</td>\n",
       "      <td>72.3</td>\n",
       "      <td>88.2</td>\n",
       "    </tr>\n",
       "    <tr>\n",
       "      <th>71</th>\n",
       "      <td>72</td>\n",
       "      <td>c</td>\n",
       "      <td>89.0</td>\n",
       "      <td>78.8</td>\n",
       "    </tr>\n",
       "  </tbody>\n",
       "</table>\n",
       "<p>72 rows × 4 columns</p>\n",
       "</div>"
      ],
      "text/plain": [
       "    subject therapy  before  after\n",
       "0         1      cb    80.5   82.2\n",
       "1         2      cb    84.9   85.6\n",
       "2         3      cb    81.5   81.4\n",
       "3         4      cb    82.6   81.9\n",
       "4         5      cb    79.9   76.4\n",
       "..      ...     ...     ...    ...\n",
       "67       68       c    84.4   84.7\n",
       "68       69       c    79.6   81.4\n",
       "69       70       c    77.5   81.2\n",
       "70       71       c    72.3   88.2\n",
       "71       72       c    89.0   78.8\n",
       "\n",
       "[72 rows x 4 columns]"
      ]
     },
     "execution_count": 42,
     "metadata": {},
     "output_type": "execute_result"
    }
   ],
   "source": [
    "ano = pd.read_csv('Anorexia-1.dat', sep='\\s+')\n",
    "ano"
   ]
  },
  {
   "cell_type": "code",
   "execution_count": 44,
   "metadata": {},
   "outputs": [],
   "source": [
    "ano['difference'] = ano['after'] - ano['before']\n",
    "cbg = ano[ano['therapy']=='cb']['difference']\n",
    "cg = ano[ano['therapy']=='c']['difference']\n",
    "\n",
    "n1 = len(cbg)\n",
    "n2 = len(cg)\n",
    "var1 = cbg.var()\n",
    "var2 = cg.var()\n",
    "alternative = 'two-sided'"
   ]
  },
  {
   "cell_type": "code",
   "execution_count": 45,
   "metadata": {},
   "outputs": [
    {
     "data": {
      "text/plain": [
       "(0.836959238933647, 0.6448601708323876)"
      ]
     },
     "execution_count": 45,
     "metadata": {},
     "output_type": "execute_result"
    }
   ],
   "source": [
    "F_2samp_var_stats(var1=var1, var2=var2, n1=n1, n2=n2, alternative=alternative)"
   ]
  },
  {
   "cell_type": "code",
   "execution_count": 46,
   "metadata": {},
   "outputs": [
    {
     "data": {
      "text/plain": [
       "(0.836959238933647, 0.6448601708323876)"
      ]
     },
     "execution_count": 46,
     "metadata": {},
     "output_type": "execute_result"
    }
   ],
   "source": [
    "F_2samp_var_data(data1=cbg, data2=cg, alternative=alternative)"
   ]
  },
  {
   "cell_type": "code",
   "execution_count": 53,
   "metadata": {},
   "outputs": [
    {
     "data": {
      "text/plain": [
       "(107.10973044049969, 0.003639258387666616)"
      ]
     },
     "execution_count": 53,
     "metadata": {},
     "output_type": "execute_result"
    }
   ],
   "source": [
    "n = len(ano)\n",
    "sigma = 6.5\n",
    "s = ano['difference'].std()\n",
    "sigma2 = sigma**2\n",
    "s2 = s**2\n",
    "alpha = 0.05\n",
    "alternative = 'greater'\n",
    "\n",
    "chi2_1samp_var_stats(s2=s2, sigma2=sigma2, n=n, alternative=alternative)"
   ]
  },
  {
   "cell_type": "code",
   "execution_count": null,
   "metadata": {},
   "outputs": [],
   "source": []
  }
 ],
 "metadata": {
  "kernelspec": {
   "display_name": "Python 3.8.5 ('base')",
   "language": "python",
   "name": "python3"
  },
  "language_info": {
   "codemirror_mode": {
    "name": "ipython",
    "version": 3
   },
   "file_extension": ".py",
   "mimetype": "text/x-python",
   "name": "python",
   "nbconvert_exporter": "python",
   "pygments_lexer": "ipython3",
   "version": "3.8.5"
  },
  "orig_nbformat": 4,
  "vscode": {
   "interpreter": {
    "hash": "1bca43acbe58430a501d67deab66eb9e21f3a76b2e50cc30571794364bd9b6c1"
   }
  }
 },
 "nbformat": 4,
 "nbformat_minor": 2
}
