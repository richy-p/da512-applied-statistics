{
 "cells": [
  {
   "cell_type": "markdown",
   "id": "e57d5569",
   "metadata": {},
   "source": [
    "# DASC 512 - 26 - Tests for Categorical Data\n",
    "\n",
    "This lessons focuses on **hypothesis tests for categorical data**. We'll cover both one-way and two-way analyses using the chi-squared test (contingency test).\n",
    "\n",
    "***"
   ]
  },
  {
   "cell_type": "code",
   "execution_count": 2,
   "id": "fa24b437",
   "metadata": {},
   "outputs": [],
   "source": [
    "import math\n",
    "import numpy as np\n",
    "import pandas as pd\n",
    "import matplotlib.pyplot as plt\n",
    "import seaborn as sns\n",
    "import scipy.stats as stats\n",
    "import statsmodels.api as sm\n",
    "import statsmodels.stats.api as sms\n",
    "import statsmodels.graphics.api as smg\n",
    "import statsmodels.formula.api as smf\n",
    "\n",
    "sns.set_style('whitegrid')"
   ]
  },
  {
   "cell_type": "markdown",
   "id": "12ed3657",
   "metadata": {},
   "source": [
    "## One-Way Multinomial Experiments (Chi-Squared Test)\n",
    "\n",
    "First, let's look at the case where the hypothesized proportions are all equal."
   ]
  },
  {
   "cell_type": "code",
   "execution_count": 6,
   "id": "66b33c51",
   "metadata": {},
   "outputs": [],
   "source": [
    "grades = np.array([82,103,128,97])\n",
    "p0 = np.ones(4)/4\n",
    "n = grades.sum()"
   ]
  },
  {
   "cell_type": "code",
   "execution_count": 7,
   "id": "2bc6c9f2",
   "metadata": {},
   "outputs": [
    {
     "data": {
      "text/plain": [
       "array([102.5, 102.5, 102.5, 102.5])"
      ]
     },
     "execution_count": 7,
     "metadata": {},
     "output_type": "execute_result"
    }
   ],
   "source": [
    "# Expected observations\n",
    "expected = p0 * n\n",
    "expected"
   ]
  },
  {
   "cell_type": "code",
   "execution_count": 9,
   "id": "b32b1c26",
   "metadata": {},
   "outputs": [
    {
     "name": "stdout",
     "output_type": "stream",
     "text": [
      "10.741463414634145\n"
     ]
    }
   ],
   "source": [
    "# Test statistic\n",
    "stat = np.sum((grades - expected) ** 2 / expected)\n",
    "print(stat)"
   ]
  },
  {
   "cell_type": "code",
   "execution_count": 10,
   "id": "84914ed6",
   "metadata": {},
   "outputs": [
    {
     "data": {
      "text/plain": [
       "7.814727903251178"
      ]
     },
     "execution_count": 10,
     "metadata": {},
     "output_type": "execute_result"
    }
   ],
   "source": [
    "# Critical Value\n",
    "dist = stats.chi2(df=3)\n",
    "dist.isf(0.05)"
   ]
  },
  {
   "cell_type": "code",
   "execution_count": 11,
   "id": "faf98a8b",
   "metadata": {},
   "outputs": [
    {
     "data": {
      "text/plain": [
       "0.013209268576135736"
      ]
     },
     "execution_count": 11,
     "metadata": {},
     "output_type": "execute_result"
    }
   ],
   "source": [
    "# p-value\n",
    "dist.sf(stat)"
   ]
  },
  {
   "cell_type": "code",
   "execution_count": 33,
   "id": "e8755c8d",
   "metadata": {},
   "outputs": [
    {
     "name": "stdout",
     "output_type": "stream",
     "text": [
      "The test statistic is 10.74 and the p-value is 0.0132.\n"
     ]
    }
   ],
   "source": [
    "# And the easy way\n",
    "stat, pval = stats.chisquare(f_obs=grades)\n",
    "print(f'The test statistic is {stat:.2f} and the p-value is {pval:.4f}.')"
   ]
  },
  {
   "cell_type": "markdown",
   "id": "5c9d6c95",
   "metadata": {},
   "source": [
    "And now let's do the same assuming unequal hypothesized probabilities."
   ]
  },
  {
   "cell_type": "code",
   "execution_count": 26,
   "id": "edafeeb7",
   "metadata": {},
   "outputs": [],
   "source": [
    "p0 = np.array([1/5,3/10,3/10,1/5])"
   ]
  },
  {
   "cell_type": "code",
   "execution_count": 27,
   "id": "8721cde9",
   "metadata": {},
   "outputs": [],
   "source": [
    "expected = p0 * 410"
   ]
  },
  {
   "cell_type": "code",
   "execution_count": 29,
   "id": "844dcb29",
   "metadata": {},
   "outputs": [
    {
     "name": "stdout",
     "output_type": "stream",
     "text": [
      "6.199186991869919\n"
     ]
    }
   ],
   "source": [
    "stat = np.sum((grades - expected) ** 2 / expected)\n",
    "print(stat)"
   ]
  },
  {
   "cell_type": "code",
   "execution_count": 30,
   "id": "da532d99",
   "metadata": {},
   "outputs": [
    {
     "name": "stdout",
     "output_type": "stream",
     "text": [
      "0.10231141486152456\n"
     ]
    }
   ],
   "source": [
    "pval = dist.sf(stat)\n",
    "print(pval)"
   ]
  },
  {
   "cell_type": "code",
   "execution_count": 32,
   "id": "0d7aee43",
   "metadata": {},
   "outputs": [
    {
     "name": "stdout",
     "output_type": "stream",
     "text": [
      "The test statistic is 6.20 and the p-value is 0.1023.\n"
     ]
    }
   ],
   "source": [
    "# And the easy way\n",
    "stat, pval = stats.chisquare(f_obs=grades, f_exp=expected)\n",
    "print(f'The test statistic is {stat:.2f} and the p-value is {pval:.4f}.')"
   ]
  },
  {
   "cell_type": "markdown",
   "id": "e717e241",
   "metadata": {},
   "source": [
    "## Two-Way Multinomial Experiment (Contingency Test)"
   ]
  },
  {
   "cell_type": "code",
   "execution_count": 34,
   "id": "587a2a8b",
   "metadata": {},
   "outputs": [],
   "source": [
    "grades = np.array([[141,161],[44,61]])"
   ]
  },
  {
   "cell_type": "code",
   "execution_count": 35,
   "id": "c784d271",
   "metadata": {},
   "outputs": [
    {
     "data": {
      "text/plain": [
       "array([[141, 161],\n",
       "       [ 44,  61]])"
      ]
     },
     "execution_count": 35,
     "metadata": {},
     "output_type": "execute_result"
    }
   ],
   "source": [
    "grades"
   ]
  },
  {
   "cell_type": "code",
   "execution_count": 36,
   "id": "731de5a8",
   "metadata": {},
   "outputs": [
    {
     "name": "stdout",
     "output_type": "stream",
     "text": [
      "The test statistic is 0.54 and the p-value is 0.4628.\n"
     ]
    }
   ],
   "source": [
    "stat, pval, df, expected = stats.chi2_contingency(grades)\n",
    "print(f'The test statistic is {stat:.2f} and the p-value is {pval:.4f}.')"
   ]
  },
  {
   "cell_type": "code",
   "execution_count": 37,
   "id": "57d17114",
   "metadata": {},
   "outputs": [
    {
     "data": {
      "text/plain": [
       "1"
      ]
     },
     "execution_count": 37,
     "metadata": {},
     "output_type": "execute_result"
    }
   ],
   "source": [
    "df"
   ]
  },
  {
   "cell_type": "code",
   "execution_count": 38,
   "id": "f8760fa8",
   "metadata": {},
   "outputs": [
    {
     "data": {
      "text/plain": [
       "array([[137.27272727, 164.72727273],\n",
       "       [ 47.72727273,  57.27272727]])"
      ]
     },
     "execution_count": 38,
     "metadata": {},
     "output_type": "execute_result"
    }
   ],
   "source": [
    "expected"
   ]
  },
  {
   "cell_type": "code",
   "execution_count": 39,
   "id": "b3024385",
   "metadata": {},
   "outputs": [
    {
     "data": {
      "text/plain": [
       "3.8414588206941285"
      ]
     },
     "execution_count": 39,
     "metadata": {},
     "output_type": "execute_result"
    }
   ],
   "source": [
    "# Critical value\n",
    "stats.chi2.isf(q=0.05, df=1)"
   ]
  },
  {
   "cell_type": "code",
   "execution_count": null,
   "id": "4f788589",
   "metadata": {},
   "outputs": [],
   "source": []
  }
 ],
 "metadata": {
  "kernelspec": {
   "display_name": "Python 3 (ipykernel)",
   "language": "python",
   "name": "python3"
  },
  "language_info": {
   "codemirror_mode": {
    "name": "ipython",
    "version": 3
   },
   "file_extension": ".py",
   "mimetype": "text/x-python",
   "name": "python",
   "nbconvert_exporter": "python",
   "pygments_lexer": "ipython3",
   "version": "3.8.12"
  }
 },
 "nbformat": 4,
 "nbformat_minor": 5
}
