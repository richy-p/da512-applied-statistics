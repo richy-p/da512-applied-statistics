{
 "cells": [
  {
   "cell_type": "markdown",
   "id": "4e287f05",
   "metadata": {},
   "source": [
    "# DASC 512 - 21 - Two-Sample Tests of Centrality\n",
    "\n",
    "***"
   ]
  },
  {
   "cell_type": "code",
   "execution_count": 1,
   "id": "d88b6e5b",
   "metadata": {},
   "outputs": [],
   "source": [
    "import math\n",
    "import numpy as np\n",
    "import pandas as pd\n",
    "import matplotlib.pyplot as plt\n",
    "import seaborn as sns\n",
    "import scipy.stats as stats\n",
    "import statsmodels.api as sm\n",
    "import statsmodels.stats.api as sms\n",
    "import statsmodels.graphics.api as smg\n",
    "\n",
    "sns.set_style('whitegrid')"
   ]
  },
  {
   "cell_type": "code",
   "execution_count": 2,
   "id": "334cf618",
   "metadata": {},
   "outputs": [],
   "source": [
    "# Let's start by creating a DataFrame for the data in the slides\n",
    "sales = pd.DataFrame({'Year':([2007] * 5 + [2008] * 6), 'Sales':[21742,13457,25690,17500,42389,15473,41989,28795,19300,22317,27315]})"
   ]
  },
  {
   "cell_type": "code",
   "execution_count": 3,
   "id": "1722636d",
   "metadata": {
    "scrolled": true
   },
   "outputs": [
    {
     "data": {
      "text/html": [
       "<div>\n",
       "<style scoped>\n",
       "    .dataframe tbody tr th:only-of-type {\n",
       "        vertical-align: middle;\n",
       "    }\n",
       "\n",
       "    .dataframe tbody tr th {\n",
       "        vertical-align: top;\n",
       "    }\n",
       "\n",
       "    .dataframe thead th {\n",
       "        text-align: right;\n",
       "    }\n",
       "</style>\n",
       "<table border=\"1\" class=\"dataframe\">\n",
       "  <thead>\n",
       "    <tr style=\"text-align: right;\">\n",
       "      <th></th>\n",
       "      <th>Year</th>\n",
       "      <th>Sales</th>\n",
       "    </tr>\n",
       "  </thead>\n",
       "  <tbody>\n",
       "    <tr>\n",
       "      <th>0</th>\n",
       "      <td>2007</td>\n",
       "      <td>21742</td>\n",
       "    </tr>\n",
       "    <tr>\n",
       "      <th>1</th>\n",
       "      <td>2007</td>\n",
       "      <td>13457</td>\n",
       "    </tr>\n",
       "    <tr>\n",
       "      <th>2</th>\n",
       "      <td>2007</td>\n",
       "      <td>25690</td>\n",
       "    </tr>\n",
       "    <tr>\n",
       "      <th>3</th>\n",
       "      <td>2007</td>\n",
       "      <td>17500</td>\n",
       "    </tr>\n",
       "    <tr>\n",
       "      <th>4</th>\n",
       "      <td>2007</td>\n",
       "      <td>42389</td>\n",
       "    </tr>\n",
       "    <tr>\n",
       "      <th>5</th>\n",
       "      <td>2008</td>\n",
       "      <td>15473</td>\n",
       "    </tr>\n",
       "    <tr>\n",
       "      <th>6</th>\n",
       "      <td>2008</td>\n",
       "      <td>41989</td>\n",
       "    </tr>\n",
       "    <tr>\n",
       "      <th>7</th>\n",
       "      <td>2008</td>\n",
       "      <td>28795</td>\n",
       "    </tr>\n",
       "    <tr>\n",
       "      <th>8</th>\n",
       "      <td>2008</td>\n",
       "      <td>19300</td>\n",
       "    </tr>\n",
       "    <tr>\n",
       "      <th>9</th>\n",
       "      <td>2008</td>\n",
       "      <td>22317</td>\n",
       "    </tr>\n",
       "    <tr>\n",
       "      <th>10</th>\n",
       "      <td>2008</td>\n",
       "      <td>27315</td>\n",
       "    </tr>\n",
       "  </tbody>\n",
       "</table>\n",
       "</div>"
      ],
      "text/plain": [
       "    Year  Sales\n",
       "0   2007  21742\n",
       "1   2007  13457\n",
       "2   2007  25690\n",
       "3   2007  17500\n",
       "4   2007  42389\n",
       "5   2008  15473\n",
       "6   2008  41989\n",
       "7   2008  28795\n",
       "8   2008  19300\n",
       "9   2008  22317\n",
       "10  2008  27315"
      ]
     },
     "execution_count": 3,
     "metadata": {},
     "output_type": "execute_result"
    }
   ],
   "source": [
    "sales"
   ]
  },
  {
   "cell_type": "markdown",
   "id": "1930b67f",
   "metadata": {},
   "source": [
    "# Using Python "
   ]
  },
  {
   "cell_type": "markdown",
   "id": "1f3f239b",
   "metadata": {},
   "source": [
    "### Two-sample paired t-test"
   ]
  },
  {
   "cell_type": "code",
   "execution_count": 4,
   "id": "2b20fd35",
   "metadata": {},
   "outputs": [
    {
     "name": "stdout",
     "output_type": "stream",
     "text": [
      "The test statistic is t=-2.34 and the p-value is p=0.04.\n"
     ]
    }
   ],
   "source": [
    "sales07 = [13457, 42389, 25690, 17500, 21742]\n",
    "sales08 = [15473, 41989, 28795, 19300, 22317]\n",
    "a = sales07\n",
    "b = sales08\n",
    "alternative = 'less'\n",
    "\n",
    "t, p_val = stats.ttest_rel(a=a, b=b, alternative=alternative)\n",
    "print(f'The test statistic is t={t:.2f} and the p-value is p={p_val:.2f}.')"
   ]
  },
  {
   "cell_type": "code",
   "execution_count": 8,
   "id": "5c20214e",
   "metadata": {},
   "outputs": [
    {
     "name": "stdout",
     "output_type": "stream",
     "text": [
      "The test statistic is t=-2.34 and the p-value is p=0.04.\n"
     ]
    }
   ],
   "source": [
    "# Equivalent: Do a one-sample t-test on the differences.\n",
    "d = np.subtract(a,b)\n",
    "t, p_val = stats.ttest_1samp(a=d, popmean=0, alternative=alternative)\n",
    "print(f'The test statistic is t={t:.2f} and the p-value is p={p_val:.2f}.')"
   ]
  },
  {
   "cell_type": "markdown",
   "id": "6fedb8d3",
   "metadata": {},
   "source": [
    "### Two-Sample t-test, without pooled variance"
   ]
  },
  {
   "cell_type": "code",
   "execution_count": 41,
   "id": "b9b9a45a",
   "metadata": {},
   "outputs": [
    {
     "name": "stdout",
     "output_type": "stream",
     "text": [
      "The test statistic is t=-0.27 and the p-value is p=0.40.\n"
     ]
    }
   ],
   "source": [
    "a = sales[sales['Year']==2007]['Sales']\n",
    "b = sales[sales['Year']==2008]['Sales']\n",
    "equal_var = False\n",
    "alternative='less'  # Left-tailed test\n",
    "\n",
    "t, p_val = stats.ttest_ind(a=a, b=b, equal_var = equal_var, alternative=alternative)\n",
    "print(f'The test statistic is t={t:.2f} and the p-value is p={p_val:.2f}.')"
   ]
  },
  {
   "cell_type": "markdown",
   "id": "24aa95ff",
   "metadata": {},
   "source": [
    "### Two-Sample t-test, with pooled variance"
   ]
  },
  {
   "cell_type": "code",
   "execution_count": 42,
   "id": "6e02bea9",
   "metadata": {},
   "outputs": [
    {
     "name": "stdout",
     "output_type": "stream",
     "text": [
      "The test statistic is t=-0.28 and the p-value is p=0.39.\n"
     ]
    }
   ],
   "source": [
    "a = sales[sales['Year']==2007]['Sales']\n",
    "b = sales[sales['Year']==2008]['Sales']\n",
    "equal_var = True\n",
    "alternative='less'  # Left-tailed test\n",
    "\n",
    "t, p_val = stats.ttest_ind(a=a, b=b, equal_var = equal_var, alternative=alternative)\n",
    "print(f'The test statistic is t={t:.2f} and the p-value is p={p_val:.2f}.')"
   ]
  },
  {
   "cell_type": "markdown",
   "id": "28c9c031",
   "metadata": {},
   "source": [
    "### Mann-Whitney U Test"
   ]
  },
  {
   "cell_type": "code",
   "execution_count": 39,
   "id": "2df0021d",
   "metadata": {},
   "outputs": [
    {
     "name": "stdout",
     "output_type": "stream",
     "text": [
      "The test statistic is U=12 and the p-value is p=0.33.\n"
     ]
    }
   ],
   "source": [
    "x = sales[sales['Year']==2007]['Sales']\n",
    "y = sales[sales['Year']==2008]['Sales']\n",
    "u, p_val = stats.mannwhitneyu(x=a, y=b, alternative='less')\n",
    "print(f'The test statistic is U={u:.0f} and the p-value is p={p_val:.2f}.')"
   ]
  },
  {
   "cell_type": "markdown",
   "id": "e70c2894",
   "metadata": {},
   "source": [
    "***\n",
    "\n",
    "# Optional: Manual Calculations"
   ]
  },
  {
   "cell_type": "markdown",
   "id": "6b977033",
   "metadata": {},
   "source": [
    "If you'd like to see these tests performed manually, see below. Feel free to skip this section if it adds confusion for you. I used to teach this portion, but I'm leaning farther to application using Python instead."
   ]
  },
  {
   "cell_type": "markdown",
   "id": "f2e112ba",
   "metadata": {},
   "source": [
    "### Two-Sample t-Test without Pooled Variance"
   ]
  },
  {
   "cell_type": "code",
   "execution_count": 26,
   "id": "82f7668a",
   "metadata": {},
   "outputs": [
    {
     "name": "stdout",
     "output_type": "stream",
     "text": [
      "2007: 24155.60 \n",
      "2008: 25864.83\n"
     ]
    }
   ],
   "source": [
    "# Calculate means\n",
    "mean07 = sales[sales['Year']==2007]['Sales'].mean()\n",
    "mean08 = sales[sales['Year']==2008]['Sales'].mean()\n",
    "print(f'2007: {mean07:.2f} \\n2008: {mean08:.2f}')"
   ]
  },
  {
   "cell_type": "code",
   "execution_count": 27,
   "id": "0d6f6a73",
   "metadata": {},
   "outputs": [
    {
     "name": "stdout",
     "output_type": "stream",
     "text": [
      "2007: 124848444.30 \n",
      "2008: 86870393.77\n"
     ]
    }
   ],
   "source": [
    "# Calculate variance\n",
    "var07 = sales[sales['Year']==2007]['Sales'].var()\n",
    "var08 = sales[sales['Year']==2008]['Sales'].var()\n",
    "print(f'2007: {var07:.2f} \\n2008: {var08:.2f}')"
   ]
  },
  {
   "cell_type": "code",
   "execution_count": 28,
   "id": "16b44cf2",
   "metadata": {},
   "outputs": [
    {
     "data": {
      "text/plain": [
       "9320.428840276967"
      ]
     },
     "execution_count": 28,
     "metadata": {},
     "output_type": "execute_result"
    }
   ],
   "source": [
    "np.sqrt(var08)"
   ]
  },
  {
   "cell_type": "code",
   "execution_count": 29,
   "id": "ceb78e91",
   "metadata": {},
   "outputs": [
    {
     "data": {
      "text/plain": [
       "6280.771275974879"
      ]
     },
     "execution_count": 29,
     "metadata": {},
     "output_type": "execute_result"
    }
   ],
   "source": [
    "# Calculate standard error\n",
    "n1 = 5\n",
    "n2 = 6\n",
    "se = np.sqrt(var07/n1 + var08/n2)\n",
    "se"
   ]
  },
  {
   "cell_type": "code",
   "execution_count": 30,
   "id": "4b84cc94",
   "metadata": {},
   "outputs": [
    {
     "data": {
      "text/plain": [
       "7.0"
      ]
     },
     "execution_count": 30,
     "metadata": {},
     "output_type": "execute_result"
    }
   ],
   "source": [
    "# Calculate degrees of freedom\n",
    "numer = se ** 4\n",
    "denom = ((var07 / n1) ** 2) / (n1-1) + ((var08 / n2) ** 2) / (n2-1)\n",
    "df = np.floor(numer/denom)\n",
    "df"
   ]
  },
  {
   "cell_type": "code",
   "execution_count": 31,
   "id": "97405285",
   "metadata": {},
   "outputs": [
    {
     "data": {
      "text/plain": [
       "-0.2721374904816976"
      ]
     },
     "execution_count": 31,
     "metadata": {},
     "output_type": "execute_result"
    }
   ],
   "source": [
    "# Test statistic\n",
    "t = (mean07 - mean08) / se\n",
    "t"
   ]
  },
  {
   "cell_type": "code",
   "execution_count": 32,
   "id": "6b440f23",
   "metadata": {},
   "outputs": [
    {
     "data": {
      "text/plain": [
       "0.3966842279934425"
      ]
     },
     "execution_count": 32,
     "metadata": {},
     "output_type": "execute_result"
    }
   ],
   "source": [
    "# Calculate p-value\n",
    "p_val = stats.t.cdf(t, df=df)\n",
    "p_val"
   ]
  },
  {
   "cell_type": "markdown",
   "id": "75581ac0",
   "metadata": {},
   "source": [
    "There is insufficient evidence to reject the null hypothesis.\n",
    "\n",
    "**What if we had use pooled variance?**"
   ]
  },
  {
   "cell_type": "markdown",
   "id": "523f25d0",
   "metadata": {},
   "source": [
    "### 2-Sample t-Test with Pooled Variance"
   ]
  },
  {
   "cell_type": "code",
   "execution_count": 33,
   "id": "80c5d946",
   "metadata": {},
   "outputs": [
    {
     "data": {
      "text/plain": [
       "6167.778640395064"
      ]
     },
     "execution_count": 33,
     "metadata": {},
     "output_type": "execute_result"
    }
   ],
   "source": [
    "# Calculate standard error, pooled variance\n",
    "sp_squared = ((n1-1)*var07 + (n2-1)*var08) / (n1 + n2 - 2)\n",
    "se_pooled = np.sqrt(sp_squared * (1/n1 + 1/n2))\n",
    "se_pooled"
   ]
  },
  {
   "cell_type": "code",
   "execution_count": 34,
   "id": "a4606b62",
   "metadata": {},
   "outputs": [
    {
     "data": {
      "text/plain": [
       "7.0"
      ]
     },
     "execution_count": 34,
     "metadata": {},
     "output_type": "execute_result"
    }
   ],
   "source": [
    "# Degrees of freedom, pooled variance\n",
    "numer = se_pooled ** 4\n",
    "denom = ((var07 / n1) ** 2) / (n1-1) + ((var08 / n2) ** 2) / (n2-1)\n",
    "df_pooled = np.floor(numer/denom)\n",
    "df_pooled"
   ]
  },
  {
   "cell_type": "code",
   "execution_count": 35,
   "id": "2be5d5b5",
   "metadata": {},
   "outputs": [
    {
     "data": {
      "text/plain": [
       "-0.2771230021354742"
      ]
     },
     "execution_count": 35,
     "metadata": {},
     "output_type": "execute_result"
    }
   ],
   "source": [
    "# Test statistic\n",
    "t_pooled = (mean07 - mean08) / se_pooled\n",
    "t_pooled"
   ]
  },
  {
   "cell_type": "code",
   "execution_count": 36,
   "id": "efbfb0fc",
   "metadata": {},
   "outputs": [
    {
     "data": {
      "text/plain": [
       "0.3948453911681864"
      ]
     },
     "execution_count": 36,
     "metadata": {},
     "output_type": "execute_result"
    }
   ],
   "source": [
    "# Calculate p-value\n",
    "p_val_pooled = stats.t.cdf(t_pooled, df=df_pooled)\n",
    "p_val_pooled"
   ]
  },
  {
   "cell_type": "markdown",
   "id": "08f87b4c",
   "metadata": {},
   "source": [
    "**That didn't make much difference. What if we had paired data?**"
   ]
  },
  {
   "cell_type": "markdown",
   "id": "e37a9cbe",
   "metadata": {},
   "source": [
    "### Paired t-Test"
   ]
  },
  {
   "cell_type": "code",
   "execution_count": 37,
   "id": "57861253",
   "metadata": {},
   "outputs": [
    {
     "data": {
      "text/plain": [
       "array([-2016,   400, -3105, -1800,  -575])"
      ]
     },
     "execution_count": 37,
     "metadata": {},
     "output_type": "execute_result"
    }
   ],
   "source": [
    "sales07 = [13457, 42389, 25690, 17500, 21742]\n",
    "sales08 = [15473, 41989, 28795, 19300, 22317]\n",
    "diffs = np.subtract(sales07, sales08)\n",
    "diffs"
   ]
  },
  {
   "cell_type": "code",
   "execution_count": 38,
   "id": "cb7cb225",
   "metadata": {},
   "outputs": [
    {
     "name": "stdout",
     "output_type": "stream",
     "text": [
      "Now the test statistic is t=-2.34 and the p-value is p=0.04!\n"
     ]
    }
   ],
   "source": [
    "t, p_val = stats.ttest_1samp(a=diffs, popmean=0, alternative='less')\n",
    "print(f'Now the test statistic is t={t:.2f} and the p-value is p={p_val:.2f}!')"
   ]
  },
  {
   "cell_type": "markdown",
   "id": "8bd3ba8c",
   "metadata": {},
   "source": [
    "We now have sufficient evidence to reject the null hypothesis. Sales have increased. All this with one fewer data point which supported the alternative hypothesis!\n",
    "\n",
    "**Using the paired t-test for paired data makes an enormous difference!**"
   ]
  }
 ],
 "metadata": {
  "kernelspec": {
   "display_name": "Python 3 (ipykernel)",
   "language": "python",
   "name": "python3"
  },
  "language_info": {
   "codemirror_mode": {
    "name": "ipython",
    "version": 3
   },
   "file_extension": ".py",
   "mimetype": "text/x-python",
   "name": "python",
   "nbconvert_exporter": "python",
   "pygments_lexer": "ipython3",
   "version": "3.8.12"
  }
 },
 "nbformat": 4,
 "nbformat_minor": 5
}
