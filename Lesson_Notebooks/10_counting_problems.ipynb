{
 "cells": [
  {
   "cell_type": "code",
   "execution_count": 1,
   "id": "9ac0616e-27b9-4a69-98c7-69159fa5b0d9",
   "metadata": {
    "tags": []
   },
   "outputs": [],
   "source": [
    "import math"
   ]
  },
  {
   "cell_type": "code",
   "execution_count": 2,
   "id": "bccd7363-b18c-406f-bf0a-5c98d23a679c",
   "metadata": {
    "tags": []
   },
   "outputs": [
    {
     "data": {
      "text/plain": [
       "40320"
      ]
     },
     "execution_count": 2,
     "metadata": {},
     "output_type": "execute_result"
    }
   ],
   "source": [
    "math.factorial(8)"
   ]
  },
  {
   "cell_type": "code",
   "execution_count": 4,
   "id": "6586105c-7df9-484a-be60-44fda8ca717d",
   "metadata": {
    "tags": []
   },
   "outputs": [],
   "source": [
    "# 8 canidates for 5 positions\n",
    "n = 8\n",
    "r = 5"
   ]
  },
  {
   "cell_type": "code",
   "execution_count": 5,
   "id": "9f3ceb41-702b-46a3-839e-faad989a7036",
   "metadata": {
    "tags": []
   },
   "outputs": [
    {
     "data": {
      "text/plain": [
       "32768"
      ]
     },
     "execution_count": 5,
     "metadata": {},
     "output_type": "execute_result"
    }
   ],
   "source": [
    "# order matters, with replacement\n",
    "n**r"
   ]
  },
  {
   "cell_type": "code",
   "execution_count": 6,
   "id": "70a24fb0-0e82-4483-898f-1817050dd5a2",
   "metadata": {
    "tags": []
   },
   "outputs": [
    {
     "data": {
      "text/plain": [
       "6720"
      ]
     },
     "execution_count": 6,
     "metadata": {},
     "output_type": "execute_result"
    }
   ],
   "source": [
    "# order matters, without replacement (permutation)\n",
    "math.perm(n,r)\n"
   ]
  },
  {
   "cell_type": "code",
   "execution_count": 7,
   "id": "758cf62f-40b2-41a7-950c-55a4e6dfc963",
   "metadata": {
    "tags": []
   },
   "outputs": [
    {
     "data": {
      "text/plain": [
       "56"
      ]
     },
     "execution_count": 7,
     "metadata": {},
     "output_type": "execute_result"
    }
   ],
   "source": [
    "# order doesn't matter, without replacement (combination)\n",
    "math.comb(n,r)"
   ]
  },
  {
   "cell_type": "code",
   "execution_count": 8,
   "id": "162d9b20-8e4c-4941-b42a-46a225c5387a",
   "metadata": {
    "tags": []
   },
   "outputs": [
    {
     "data": {
      "text/plain": [
       "792"
      ]
     },
     "execution_count": 8,
     "metadata": {},
     "output_type": "execute_result"
    }
   ],
   "source": [
    "# order doesn't matter, with replacement (Combination (n+r-1,r))\n",
    "math.comb(n+r-1,r)\n"
   ]
  },
  {
   "cell_type": "code",
   "execution_count": null,
   "id": "ee8bb350-7024-4d5e-a9f2-c688ec45e7ee",
   "metadata": {},
   "outputs": [],
   "source": []
  }
 ],
 "metadata": {
  "kernelspec": {
   "display_name": "Python 3 (ipykernel)",
   "language": "python",
   "name": "python3"
  },
  "language_info": {
   "codemirror_mode": {
    "name": "ipython",
    "version": 3
   },
   "file_extension": ".py",
   "mimetype": "text/x-python",
   "name": "python",
   "nbconvert_exporter": "python",
   "pygments_lexer": "ipython3",
   "version": "3.8.16"
  }
 },
 "nbformat": 4,
 "nbformat_minor": 5
}
