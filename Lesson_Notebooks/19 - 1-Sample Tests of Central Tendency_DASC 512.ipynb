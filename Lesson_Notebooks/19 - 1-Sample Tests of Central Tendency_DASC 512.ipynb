{
 "cells": [
  {
   "cell_type": "markdown",
   "id": "b5f87699",
   "metadata": {},
   "source": [
    "# DASC 512 - 19 - One-Sample Tests of Central Tendency\n",
    "\n",
    "***\n",
    "\n",
    "This lesson introduces the one-sample z-test, t-test, Wilcoxon signed rank test, and the binomial test.\n",
    "\n",
    "* The t test is used when the parameter of interest is the mean.\n",
    "* The Wilcoxon signed rank test is used when the parameter of interest is the median, or when the distribution and sample size do not support an assumption of population normality or invocation of the Central Limit Thoerem.\n",
    "* The binomial test is used when the parameter of interest is the proportion.\n",
    "\n",
    "***"
   ]
  },
  {
   "cell_type": "code",
   "execution_count": 2,
   "id": "9a5a23f7",
   "metadata": {},
   "outputs": [],
   "source": [
    "import math\n",
    "import numpy as np\n",
    "import pandas as pd\n",
    "import matplotlib.pyplot as plt\n",
    "import seaborn as sns\n",
    "import scipy.stats as stats\n",
    "import statsmodels.api as sm\n",
    "import statsmodels.graphics.api as smg\n",
    "\n",
    "sns.set_style('whitegrid')"
   ]
  },
  {
   "cell_type": "markdown",
   "id": "c302b2dc",
   "metadata": {},
   "source": [
    "## *z*-test: The simple case for educational purposes\n",
    "\n",
    "The *z*-test is still taught primarily for legacy and educational purposes. There is rarely a real-world reason to use this unless you're stuck in a vault with only a textbook as support (even Excel will implement a *t*-distribution)."
   ]
  },
  {
   "cell_type": "markdown",
   "id": "01f8a91e",
   "metadata": {},
   "source": [
    "### Example: Mean political ideology (GSS)\n",
    "\n",
    "First, let's create the DataFrame for the given data. One way to do this..."
   ]
  },
  {
   "cell_type": "code",
   "execution_count": 3,
   "id": "ab4212d4",
   "metadata": {},
   "outputs": [],
   "source": [
    "ideology = [1,2,3,4,5,6,7]\n",
    "hispanic = [5,49,46,155,50,50,14]\n",
    "black = [16,52,42,182,43,25,11]\n",
    "white = [73,209,190,705,260,314,84]\n",
    "gss = pd.DataFrame({'Ideology':ideology,\n",
    "                   'Hispanic':hispanic,\n",
    "                   'Black':black,\n",
    "                   'White':white})"
   ]
  },
  {
   "cell_type": "code",
   "execution_count": 4,
   "id": "645198f9",
   "metadata": {},
   "outputs": [
    {
     "data": {
      "text/html": [
       "<div>\n",
       "<style scoped>\n",
       "    .dataframe tbody tr th:only-of-type {\n",
       "        vertical-align: middle;\n",
       "    }\n",
       "\n",
       "    .dataframe tbody tr th {\n",
       "        vertical-align: top;\n",
       "    }\n",
       "\n",
       "    .dataframe thead th {\n",
       "        text-align: right;\n",
       "    }\n",
       "</style>\n",
       "<table border=\"1\" class=\"dataframe\">\n",
       "  <thead>\n",
       "    <tr style=\"text-align: right;\">\n",
       "      <th></th>\n",
       "      <th>Ideology</th>\n",
       "      <th>Hispanic</th>\n",
       "      <th>Black</th>\n",
       "      <th>White</th>\n",
       "    </tr>\n",
       "  </thead>\n",
       "  <tbody>\n",
       "    <tr>\n",
       "      <th>0</th>\n",
       "      <td>1</td>\n",
       "      <td>5</td>\n",
       "      <td>16</td>\n",
       "      <td>73</td>\n",
       "    </tr>\n",
       "    <tr>\n",
       "      <th>1</th>\n",
       "      <td>2</td>\n",
       "      <td>49</td>\n",
       "      <td>52</td>\n",
       "      <td>209</td>\n",
       "    </tr>\n",
       "    <tr>\n",
       "      <th>2</th>\n",
       "      <td>3</td>\n",
       "      <td>46</td>\n",
       "      <td>42</td>\n",
       "      <td>190</td>\n",
       "    </tr>\n",
       "    <tr>\n",
       "      <th>3</th>\n",
       "      <td>4</td>\n",
       "      <td>155</td>\n",
       "      <td>182</td>\n",
       "      <td>705</td>\n",
       "    </tr>\n",
       "    <tr>\n",
       "      <th>4</th>\n",
       "      <td>5</td>\n",
       "      <td>50</td>\n",
       "      <td>43</td>\n",
       "      <td>260</td>\n",
       "    </tr>\n",
       "    <tr>\n",
       "      <th>5</th>\n",
       "      <td>6</td>\n",
       "      <td>50</td>\n",
       "      <td>25</td>\n",
       "      <td>314</td>\n",
       "    </tr>\n",
       "    <tr>\n",
       "      <th>6</th>\n",
       "      <td>7</td>\n",
       "      <td>14</td>\n",
       "      <td>11</td>\n",
       "      <td>84</td>\n",
       "    </tr>\n",
       "  </tbody>\n",
       "</table>\n",
       "</div>"
      ],
      "text/plain": [
       "   Ideology  Hispanic  Black  White\n",
       "0         1         5     16     73\n",
       "1         2        49     52    209\n",
       "2         3        46     42    190\n",
       "3         4       155    182    705\n",
       "4         5        50     43    260\n",
       "5         6        50     25    314\n",
       "6         7        14     11     84"
      ]
     },
     "execution_count": 4,
     "metadata": {},
     "output_type": "execute_result"
    }
   ],
   "source": [
    "gss"
   ]
  },
  {
   "cell_type": "markdown",
   "id": "53915df8",
   "metadata": {},
   "source": [
    "This data format should immediately jump out as not being a data matrix. It is going to be a **bear** to work with."
   ]
  },
  {
   "cell_type": "code",
   "execution_count": 6,
   "id": "3388fd30",
   "metadata": {},
   "outputs": [
    {
     "data": {
      "text/plain": [
       "4.0894308943089435"
      ]
     },
     "execution_count": 6,
     "metadata": {},
     "output_type": "execute_result"
    }
   ],
   "source": [
    "# Mean\n",
    "gss_race = 'Hispanic'\n",
    "gss_mean = np.sum(np.multiply(gss['Ideology'], gss[gss_race])) / gss[gss_race].sum()\n",
    "gss_mean"
   ]
  },
  {
   "cell_type": "markdown",
   "id": "f371f867",
   "metadata": {},
   "source": [
    "Gross, right? This is a learning moment. Embrace the data matrix, even when it's longer, if you can!"
   ]
  },
  {
   "cell_type": "code",
   "execution_count": 18,
   "id": "51c8e58d",
   "metadata": {},
   "outputs": [],
   "source": [
    "race = []\n",
    "ideo = []\n",
    "for ii in ideology:\n",
    "    hisp = hispanic[ii-1]\n",
    "    bla = black[ii-1]\n",
    "    whi = white[ii-1]\n",
    "    race += ['Hispanic'] * hisp\n",
    "    race += ['Black'] * bla\n",
    "    race += ['White'] * whi\n",
    "    ideo += [ii] * (hisp + bla + whi)\n",
    "gss = pd.DataFrame({'Race':race, 'Ideology':ideo})"
   ]
  },
  {
   "cell_type": "code",
   "execution_count": 20,
   "id": "2a2513cb",
   "metadata": {},
   "outputs": [
    {
     "data": {
      "text/plain": [
       "Race      Ideology\n",
       "White     4           705\n",
       "          6           314\n",
       "          5           260\n",
       "          2           209\n",
       "          3           190\n",
       "Black     4           182\n",
       "Hispanic  4           155\n",
       "White     7            84\n",
       "          1            73\n",
       "Black     2            52\n",
       "Hispanic  5            50\n",
       "          6            50\n",
       "          2            49\n",
       "          3            46\n",
       "Black     5            43\n",
       "          3            42\n",
       "          6            25\n",
       "          1            16\n",
       "Hispanic  7            14\n",
       "Black     7            11\n",
       "Hispanic  1             5\n",
       "dtype: int64"
      ]
     },
     "execution_count": 20,
     "metadata": {},
     "output_type": "execute_result"
    }
   ],
   "source": [
    "gss.value_counts()"
   ]
  },
  {
   "cell_type": "markdown",
   "id": "01d6d7a7",
   "metadata": {},
   "source": [
    "Ok! Now, recall the research question:\n",
    "\n",
    "*Are Hispanic Americans on average moderate?*\n",
    "\n",
    "This gives:\n",
    "* Null hypothesis: mu = 4\n",
    "* Alternative hypothesis: mu != 4\n",
    "\n",
    "The parameter of interest is the mean. We will assume ideologies are normally distributed."
   ]
  },
  {
   "cell_type": "code",
   "execution_count": 29,
   "id": "22ec0d0e",
   "metadata": {},
   "outputs": [],
   "source": [
    "gss_hisp = gss[gss['Race'] == 'Hispanic']['Ideology']"
   ]
  },
  {
   "cell_type": "code",
   "execution_count": 30,
   "id": "b8c991c1",
   "metadata": {},
   "outputs": [
    {
     "data": {
      "text/plain": [
       "<AxesSubplot:ylabel='Frequency'>"
      ]
     },
     "execution_count": 30,
     "metadata": {},
     "output_type": "execute_result"
    },
    {
     "data": {
      "image/png": "[encoded data removed]",
      "text/plain": [
       "<Figure size 640x480 with 1 Axes>"
      ]
     },
     "metadata": {},
     "output_type": "display_data"
    }
   ],
   "source": [
    "gss_hisp.plot(kind='hist', bins=7)"
   ]
  },
  {
   "cell_type": "code",
   "execution_count": 31,
   "id": "b7812462",
   "metadata": {},
   "outputs": [
    {
     "data": {
      "text/plain": [
       "count    369.000000\n",
       "mean       4.089431\n",
       "std        1.339258\n",
       "min        1.000000\n",
       "25%        3.000000\n",
       "50%        4.000000\n",
       "75%        5.000000\n",
       "max        7.000000\n",
       "Name: Ideology, dtype: float64"
      ]
     },
     "execution_count": 31,
     "metadata": {},
     "output_type": "execute_result"
    }
   ],
   "source": [
    "gss_hisp.describe()"
   ]
  },
  {
   "cell_type": "code",
   "execution_count": 38,
   "id": "7244b6ba",
   "metadata": {},
   "outputs": [
    {
     "data": {
      "text/plain": [
       "1.9599639845400545"
      ]
     },
     "execution_count": 38,
     "metadata": {},
     "output_type": "execute_result"
    }
   ],
   "source": [
    "# Critical value (rejection region)\n",
    "zcrit = stats.norm.isf(0.05/2)\n",
    "zcrit"
   ]
  },
  {
   "cell_type": "code",
   "execution_count": 34,
   "id": "127e39a0",
   "metadata": {},
   "outputs": [
    {
     "data": {
      "text/plain": [
       "4.0894308943089435"
      ]
     },
     "execution_count": 34,
     "metadata": {},
     "output_type": "execute_result"
    }
   ],
   "source": [
    "# Point estimate\n",
    "xbar = gss_hisp.mean()\n",
    "xbar"
   ]
  },
  {
   "cell_type": "code",
   "execution_count": 35,
   "id": "bd400a94",
   "metadata": {},
   "outputs": [
    {
     "data": {
      "text/plain": [
       "0.06971896384894542"
      ]
     },
     "execution_count": 35,
     "metadata": {},
     "output_type": "execute_result"
    }
   ],
   "source": [
    "# Standard error\n",
    "sem = gss_hisp.std() / np.sqrt(len(gss_hisp))\n",
    "sem"
   ]
  },
  {
   "cell_type": "code",
   "execution_count": 36,
   "id": "ffe68c0c",
   "metadata": {},
   "outputs": [
    {
     "data": {
      "text/plain": [
       "1.2827341281592528"
      ]
     },
     "execution_count": 36,
     "metadata": {},
     "output_type": "execute_result"
    }
   ],
   "source": [
    "# Test statistic\n",
    "z = (xbar - 4.0) / sem\n",
    "z"
   ]
  },
  {
   "cell_type": "markdown",
   "id": "6c05a139",
   "metadata": {},
   "source": [
    "Conclusion: There is insufficient evidence to conclude that the mean ideology of Hispanic Americans is not moderate (4)."
   ]
  },
  {
   "cell_type": "code",
   "execution_count": 39,
   "id": "c0f68915",
   "metadata": {},
   "outputs": [
    {
     "data": {
      "text/plain": [
       "0.19958523893184177"
      ]
     },
     "execution_count": 39,
     "metadata": {},
     "output_type": "execute_result"
    }
   ],
   "source": [
    "# p-value\n",
    "pval = 2 * stats.norm.sf(abs(z))\n",
    "pval"
   ]
  },
  {
   "cell_type": "code",
   "execution_count": 40,
   "id": "37bb0d3b",
   "metadata": {},
   "outputs": [
    {
     "data": {
      "text/plain": [
       "(3.9527842361255603, 4.226077552492327)"
      ]
     },
     "execution_count": 40,
     "metadata": {},
     "output_type": "execute_result"
    }
   ],
   "source": [
    "# Confidence interval\n",
    "ci = stats.norm(loc=xbar, scale=sem).interval(0.95)\n",
    "ci"
   ]
  },
  {
   "cell_type": "markdown",
   "id": "30615ac8",
   "metadata": {},
   "source": [
    "## *t*-test: One-sample test about means\n",
    "\n",
    "While the *z*-test isn't implemented in Python directly, other tests are!"
   ]
  },
  {
   "cell_type": "code",
   "execution_count": 42,
   "id": "bb336e2c",
   "metadata": {},
   "outputs": [
    {
     "name": "stdout",
     "output_type": "stream",
     "text": [
      "The test statistic was t=1.28 and the p-value was p=0.20\n"
     ]
    }
   ],
   "source": [
    "a = gss_hisp  # a is the relevant column of data\n",
    "popmean = 4.0  # popmean is the hypothesized mean (H0)\n",
    "alternative = 'two-sided'  # may be 'greater', 'less', or 'two-sided'\n",
    "\n",
    "t, pval = stats.ttest_1samp(a=a, popmean=popmean, alternative=alternative)\n",
    "print(f'The test statistic was t={t:.2f} and the p-value was p={pval:.2f}')"
   ]
  },
  {
   "cell_type": "markdown",
   "id": "f41d00b8",
   "metadata": {},
   "source": [
    "To calculate the confidence interval, use the .interval function (or ppf/isf)."
   ]
  },
  {
   "cell_type": "code",
   "execution_count": 44,
   "id": "87f911b1",
   "metadata": {},
   "outputs": [
    {
     "data": {
      "text/plain": [
       "(3.9523333438891632, 4.226528444728724)"
      ]
     },
     "execution_count": 44,
     "metadata": {},
     "output_type": "execute_result"
    }
   ],
   "source": [
    "ci = stats.t(df=len(gss_hisp)-1, loc=xbar, scale=sem).interval(0.95)\n",
    "ci"
   ]
  },
  {
   "cell_type": "markdown",
   "id": "4ad4aaf8",
   "metadata": {},
   "source": [
    "## Wilcoxon Signed Rank Sum test: One-sample non-parametric test about medians\n",
    "\n",
    "This test can be used when other tests seem inappropriate, likely due to non-normal population data and small sample sizes. \n",
    "\n",
    "Recall the example of a rifle marksman. "
   ]
  },
  {
   "cell_type": "code",
   "execution_count": 49,
   "id": "b125efcc",
   "metadata": {},
   "outputs": [],
   "source": [
    "distances = [-1.1, 1.9, -0.6, 1.6, -1.2, -3.2, -3.4, -1.9]\n",
    "theta0 = 0  # Hypothesized median (H0)\n",
    "di = np.subtract(distances, theta0)  # Differences (test is against 0)\n",
    "alternative = 'two-sided'\n",
    "mode = 'exact'  # Default is \"auto\" which uses normal approximation for n>25"
   ]
  },
  {
   "cell_type": "code",
   "execution_count": 50,
   "id": "44b72334",
   "metadata": {},
   "outputs": [
    {
     "name": "stdout",
     "output_type": "stream",
     "text": [
      "The test statistic is 9.5 and the p-value is 0.250\n"
     ]
    }
   ],
   "source": [
    "W, pval = stats.wilcoxon(di, alternative=alternative, mode=mode)\n",
    "print(f'The test statistic is {W} and the p-value is {pval:.3f}')"
   ]
  },
  {
   "cell_type": "markdown",
   "id": "8dfdc8d0",
   "metadata": {},
   "source": [
    "## Binomial test: One-sample test about proportions\n",
    "\n",
    "Suppose two chess players face off in a tournament in 5 games. Player 1 beats Player 2 in all 5 games. Is Player 1 better than Player 2?\n",
    "\n",
    "Hypothesis:\n",
    "* Null: p=0.5\n",
    "* Alternative: p>0.5"
   ]
  },
  {
   "cell_type": "code",
   "execution_count": 45,
   "id": "f3c9d76f",
   "metadata": {},
   "outputs": [
    {
     "data": {
      "text/plain": [
       "0.03125"
      ]
     },
     "execution_count": 45,
     "metadata": {},
     "output_type": "execute_result"
    }
   ],
   "source": [
    "x = 5  # Number of successes\n",
    "n = 5  # Number of trials\n",
    "p = 0.5  # Hypothesized proportion (H0)\n",
    "alternative = 'greater'  # may be 'greater', 'less', or 'two-sided'\n",
    "\n",
    "pval = stats.binom_test(x=x, n=n, p=p, alternative=alternative)\n",
    "pval"
   ]
  },
  {
   "cell_type": "markdown",
   "id": "d02a5b5c",
   "metadata": {},
   "source": [
    "Yes, we can say with 95% confidence that Player 1 is better than Player 2.\n",
    "\n",
    "Could we say that Player 1 and Player 2 are not evenly matched?"
   ]
  },
  {
   "cell_type": "code",
   "execution_count": 46,
   "id": "2fe62956",
   "metadata": {},
   "outputs": [
    {
     "data": {
      "text/plain": [
       "0.0625"
      ]
     },
     "execution_count": 46,
     "metadata": {},
     "output_type": "execute_result"
    }
   ],
   "source": [
    "pval = stats.binom_test(x=x, n=n, p=p, alternative='two-sided')\n",
    "pval"
   ]
  },
  {
   "cell_type": "markdown",
   "id": "f1b162f5",
   "metadata": {},
   "source": [
    "No, we cannot say with 95% confidence that Player 1 and Player 2 are not evenly matched. Ironically, the same data allows us to conclude Player 1 is better. This is the importance of picking your hypotheses prior to analyzing data!"
   ]
  },
  {
   "cell_type": "markdown",
   "id": "d2659b0c",
   "metadata": {},
   "source": [
    "# That's all for this lesson!"
   ]
  }
 ],
 "metadata": {
  "kernelspec": {
   "display_name": "Python 3 (ipykernel)",
   "language": "python",
   "name": "python3"
  },
  "language_info": {
   "codemirror_mode": {
    "name": "ipython",
    "version": 3
   },
   "file_extension": ".py",
   "mimetype": "text/x-python",
   "name": "python",
   "nbconvert_exporter": "python",
   "pygments_lexer": "ipython3",
   "version": "3.8.12"
  }
 },
 "nbformat": 4,
 "nbformat_minor": 5
}
