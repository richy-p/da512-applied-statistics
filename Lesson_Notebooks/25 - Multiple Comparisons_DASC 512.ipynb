{
 "cells": [
  {
   "cell_type": "markdown",
   "id": "5609e918",
   "metadata": {},
   "source": [
    "# DASC 512 - 25 - Multiple Comparisons\n",
    "\n",
    "This lessons focuses on **making comparisons between many groups**. This is typically done as a post-hoc analysis from ANOVA.\n",
    "\n",
    "***\n"
   ]
  },
  {
   "cell_type": "code",
   "execution_count": 1,
   "id": "db4eac81",
   "metadata": {},
   "outputs": [],
   "source": [
    "import math\n",
    "import numpy as np\n",
    "import pandas as pd\n",
    "import matplotlib.pyplot as plt\n",
    "import seaborn as sns\n",
    "import scipy.stats as stats\n",
    "import statsmodels.api as sm\n",
    "import statsmodels.stats.api as sms\n",
    "import statsmodels.graphics.api as smg\n",
    "import statsmodels.formula.api as smf\n",
    "\n",
    "sns.set_style('whitegrid')"
   ]
  },
  {
   "cell_type": "code",
   "execution_count": 2,
   "id": "5201fe71",
   "metadata": {},
   "outputs": [],
   "source": [
    "# Importing the Coughing Kids example data again\n",
    "dm = [4,6,9,4,7,7,7,9,12,10,11,6,3,4,9,12,7,6,8,12,12,4,12,13,7,10,13,9,4,4,10,15,9]\n",
    "honey = [12,11,15,11,10,13,10,4,15,16,9,14,10,6,10,8,11,12,12,8,12,9,11,15,10,1,9,13,8,12,10,8,9,5,12]\n",
    "placebo = [5,8,6,1,0,8,12,8,7,7,1,6,7,7,12,7,9,7,9,5,11,9,5,6,8,8,6,7,10,9,4,8,7,3,1,4,3]\n",
    "labels = ['dm'] * len(dm) + ['honey'] * len(honey) + ['placebo'] * len(placebo)\n",
    "scores = pd.DataFrame({'treatment':labels, 'score':dm+honey+placebo})"
   ]
  },
  {
   "cell_type": "code",
   "execution_count": 3,
   "id": "690f2263",
   "metadata": {},
   "outputs": [
    {
     "data": {
      "image/png": "[encoded data removed]",
      "text/plain": [
       "<Figure size 400x300 with 1 Axes>"
      ]
     },
     "metadata": {},
     "output_type": "display_data"
    }
   ],
   "source": [
    "# Recall what this data looks like\n",
    "fig, ax = plt.subplots(figsize=(4,3))\n",
    "sns.boxplot(data=scores, x='treatment',y='score',ax=ax)\n",
    "plt.show()"
   ]
  },
  {
   "cell_type": "markdown",
   "id": "8ddf6551",
   "metadata": {},
   "source": [
    "Recall the ANOVA we did. I'll re-import that short function from last lesson."
   ]
  },
  {
   "cell_type": "code",
   "execution_count": 4,
   "id": "24aa2e3a",
   "metadata": {},
   "outputs": [],
   "source": [
    "def anova(model):\n",
    "    import statsmodels.stats.api as sms\n",
    "    at = sms.anova_lm(model, typ=2)\n",
    "    at['mean_sq'] = at['sum_sq'] / at['df']\n",
    "    at = at.reindex(['df','sum_sq','mean_sq','F','PR(>F)'],axis=1)\n",
    "    return at"
   ]
  },
  {
   "cell_type": "code",
   "execution_count": 5,
   "id": "ae6e6039",
   "metadata": {},
   "outputs": [
    {
     "data": {
      "text/html": [
       "<div>\n",
       "<style scoped>\n",
       "    .dataframe tbody tr th:only-of-type {\n",
       "        vertical-align: middle;\n",
       "    }\n",
       "\n",
       "    .dataframe tbody tr th {\n",
       "        vertical-align: top;\n",
       "    }\n",
       "\n",
       "    .dataframe thead th {\n",
       "        text-align: right;\n",
       "    }\n",
       "</style>\n",
       "<table border=\"1\" class=\"dataframe\">\n",
       "  <thead>\n",
       "    <tr style=\"text-align: right;\">\n",
       "      <th></th>\n",
       "      <th>df</th>\n",
       "      <th>sum_sq</th>\n",
       "      <th>mean_sq</th>\n",
       "      <th>F</th>\n",
       "      <th>PR(&gt;F)</th>\n",
       "    </tr>\n",
       "  </thead>\n",
       "  <tbody>\n",
       "    <tr>\n",
       "      <th>C(treatment)</th>\n",
       "      <td>2.0</td>\n",
       "      <td>259.842471</td>\n",
       "      <td>129.921236</td>\n",
       "      <td>13.276934</td>\n",
       "      <td>0.000008</td>\n",
       "    </tr>\n",
       "    <tr>\n",
       "      <th>Residual</th>\n",
       "      <td>102.0</td>\n",
       "      <td>998.119434</td>\n",
       "      <td>9.785485</td>\n",
       "      <td>NaN</td>\n",
       "      <td>NaN</td>\n",
       "    </tr>\n",
       "  </tbody>\n",
       "</table>\n",
       "</div>"
      ],
      "text/plain": [
       "                 df      sum_sq     mean_sq          F    PR(>F)\n",
       "C(treatment)    2.0  259.842471  129.921236  13.276934  0.000008\n",
       "Residual      102.0  998.119434    9.785485        NaN       NaN"
      ]
     },
     "execution_count": 5,
     "metadata": {},
     "output_type": "execute_result"
    }
   ],
   "source": [
    "# And recall the ANOVA\n",
    "model = smf.ols('score ~ C(treatment)', data=scores).fit()\n",
    "anova_table = anova(model)\n",
    "anova_table"
   ]
  },
  {
   "cell_type": "markdown",
   "id": "a54d2b8c",
   "metadata": {},
   "source": [
    "### Bonferroni\n",
    "\n",
    "This is an easy one to implement manually, so let's try it."
   ]
  },
  {
   "cell_type": "code",
   "execution_count": 6,
   "id": "6830e050",
   "metadata": {},
   "outputs": [
    {
     "data": {
      "text/html": [
       "<div>\n",
       "<style scoped>\n",
       "    .dataframe tbody tr th:only-of-type {\n",
       "        vertical-align: middle;\n",
       "    }\n",
       "\n",
       "    .dataframe tbody tr th {\n",
       "        vertical-align: top;\n",
       "    }\n",
       "\n",
       "    .dataframe thead tr th {\n",
       "        text-align: left;\n",
       "    }\n",
       "\n",
       "    .dataframe thead tr:last-of-type th {\n",
       "        text-align: right;\n",
       "    }\n",
       "</style>\n",
       "<table border=\"1\" class=\"dataframe\">\n",
       "  <thead>\n",
       "    <tr>\n",
       "      <th></th>\n",
       "      <th colspan=\"8\" halign=\"left\">score</th>\n",
       "    </tr>\n",
       "    <tr>\n",
       "      <th></th>\n",
       "      <th>count</th>\n",
       "      <th>mean</th>\n",
       "      <th>std</th>\n",
       "      <th>min</th>\n",
       "      <th>25%</th>\n",
       "      <th>50%</th>\n",
       "      <th>75%</th>\n",
       "      <th>max</th>\n",
       "    </tr>\n",
       "    <tr>\n",
       "      <th>treatment</th>\n",
       "      <th></th>\n",
       "      <th></th>\n",
       "      <th></th>\n",
       "      <th></th>\n",
       "      <th></th>\n",
       "      <th></th>\n",
       "      <th></th>\n",
       "      <th></th>\n",
       "    </tr>\n",
       "  </thead>\n",
       "  <tbody>\n",
       "    <tr>\n",
       "      <th>dm</th>\n",
       "      <td>33.0</td>\n",
       "      <td>8.333333</td>\n",
       "      <td>3.256404</td>\n",
       "      <td>3.0</td>\n",
       "      <td>6.0</td>\n",
       "      <td>9.0</td>\n",
       "      <td>11.0</td>\n",
       "      <td>15.0</td>\n",
       "    </tr>\n",
       "    <tr>\n",
       "      <th>honey</th>\n",
       "      <td>35.0</td>\n",
       "      <td>10.314286</td>\n",
       "      <td>3.197163</td>\n",
       "      <td>1.0</td>\n",
       "      <td>9.0</td>\n",
       "      <td>10.0</td>\n",
       "      <td>12.0</td>\n",
       "      <td>16.0</td>\n",
       "    </tr>\n",
       "    <tr>\n",
       "      <th>placebo</th>\n",
       "      <td>37.0</td>\n",
       "      <td>6.513514</td>\n",
       "      <td>2.940348</td>\n",
       "      <td>0.0</td>\n",
       "      <td>5.0</td>\n",
       "      <td>7.0</td>\n",
       "      <td>8.0</td>\n",
       "      <td>12.0</td>\n",
       "    </tr>\n",
       "  </tbody>\n",
       "</table>\n",
       "</div>"
      ],
      "text/plain": [
       "          score                                                 \n",
       "          count       mean       std  min  25%   50%   75%   max\n",
       "treatment                                                       \n",
       "dm         33.0   8.333333  3.256404  3.0  6.0   9.0  11.0  15.0\n",
       "honey      35.0  10.314286  3.197163  1.0  9.0  10.0  12.0  16.0\n",
       "placebo    37.0   6.513514  2.940348  0.0  5.0   7.0   8.0  12.0"
      ]
     },
     "execution_count": 6,
     "metadata": {},
     "output_type": "execute_result"
    }
   ],
   "source": [
    "scores.groupby('treatment').describe()"
   ]
  },
  {
   "cell_type": "code",
   "execution_count": 8,
   "id": "217f2c2f",
   "metadata": {},
   "outputs": [
    {
     "data": {
      "text/plain": [
       "0.016666666666666666"
      ]
     },
     "execution_count": 8,
     "metadata": {},
     "output_type": "execute_result"
    }
   ],
   "source": [
    "alpha = 0.05\n",
    "num_treatments = 3\n",
    "alpha_bonf = alpha / math.comb(num_treatments,2)\n",
    "alpha_bonf"
   ]
  },
  {
   "cell_type": "code",
   "execution_count": 12,
   "id": "a40f13f6",
   "metadata": {},
   "outputs": [
    {
     "name": "stdout",
     "output_type": "stream",
     "text": [
      "The p-value is 0.0138, so we reject the null.\n"
     ]
    }
   ],
   "source": [
    "t, pval = stats.ttest_ind(a=dm, b=honey)\n",
    "if pval < alpha_bonf:\n",
    "    print(f'The p-value is {pval:.4f}, so we reject the null.')\n",
    "else:\n",
    "    print(f'The p-value is {pval:.4f}, so we fail to reject the null.')"
   ]
  },
  {
   "cell_type": "code",
   "execution_count": 11,
   "id": "aa9928ec",
   "metadata": {},
   "outputs": [
    {
     "name": "stdout",
     "output_type": "stream",
     "text": [
      "The p-value is 0.0166, so we reject the null.\n"
     ]
    }
   ],
   "source": [
    "t, pval = stats.ttest_ind(a=dm, b=placebo)\n",
    "if pval < alpha_bonf:\n",
    "    print(f'The p-value is {pval:.4f}, so we reject the null.')\n",
    "else:\n",
    "    print(f'The p-value is {pval:.4f}, so we fail to reject the null.')"
   ]
  },
  {
   "cell_type": "code",
   "execution_count": 13,
   "id": "63685444",
   "metadata": {},
   "outputs": [
    {
     "name": "stdout",
     "output_type": "stream",
     "text": [
      "The p-value is 0.0000, so we reject the null.\n"
     ]
    }
   ],
   "source": [
    "t, pval = stats.ttest_ind(a=honey, b=placebo)\n",
    "if pval < alpha_bonf:\n",
    "    print(f'The p-value is {pval:.4f}, so we reject the null.')\n",
    "else:\n",
    "    print(f'The p-value is {pval:.4f}, so we fail to reject the null.')"
   ]
  },
  {
   "cell_type": "markdown",
   "id": "02f192e9",
   "metadata": {},
   "source": [
    "So all three pairs are different! Let's also look at the easy Python way to do this."
   ]
  },
  {
   "cell_type": "code",
   "execution_count": 45,
   "id": "b375d8b8",
   "metadata": {},
   "outputs": [
    {
     "name": "stdout",
     "output_type": "stream",
     "text": [
      "Test Multiple Comparison ttest_ind \n",
      "FWER=0.05 method=bonf\n",
      "alphacSidak=0.02, alphacBonf=0.017\n",
      "==============================================\n",
      "group1  group2   stat   pval  pval_corr reject\n",
      "----------------------------------------------\n",
      "    dm   honey -2.5307 0.0138    0.0413   True\n",
      "    dm placebo  2.4572 0.0166    0.0497   True\n",
      " honey placebo  5.2543    0.0       0.0   True\n",
      "----------------------------------------------\n"
     ]
    }
   ],
   "source": [
    "multi_comp = sms.multicomp.MultiComparison(data=scores['score'], groups=scores['treatment'])\n",
    "print(multi_comp.allpairtest(testfunc=stats.ttest_ind, alpha=0.05, method='bonf')[0])"
   ]
  },
  {
   "cell_type": "markdown",
   "id": "efbc3936",
   "metadata": {},
   "source": [
    "The columns in this table are mostly self-explanatory. The pval_corr is the corrected p-value - in Bonferroni, this is just the p-value multiplied by the number of groups. This allows you to compare to your original alpha if you prefer that.\n",
    "\n",
    "Above the table, we also see the Family-Wise Error Rate (FWER), specified as alpha in the function, and the Bonferroni alpha (0.017). You can ignore the Sidak value, but it is similar to Bonferroni but assumes that each test is independent.\n",
    "\n",
    "Note that this could be applied to other hypothesis test functions as well. For these pair-wise comparisons, we'd want to use the t-test.\n",
    "\n",
    "**Warning**: My biggest complaint about this function is reporting of a p-value of 0. **The p-value should never be reported as zero!** That implies that it is *impossible* rather than *improbable* that this difference would happen by chance. Please replace this with \"<0.0001\" in any reports.\n",
    "\n",
    "Let's explore that multi_comp.allpairtest() object more. As you see above, we called index 0 to get this table."
   ]
  },
  {
   "cell_type": "code",
   "execution_count": 46,
   "id": "28f9455f",
   "metadata": {},
   "outputs": [
    {
     "data": {
      "text/plain": [
       "(<class 'statsmodels.iolib.table.SimpleTable'>,\n",
       " (array([[-2.53071540e+00,  1.37750156e-02],\n",
       "         [ 2.45721098e+00,  1.65579640e-02],\n",
       "         [ 5.25432925e+00,  1.52878151e-06]]),\n",
       "  array([ True,  True,  True]),\n",
       "  array([4.13250468e-02, 4.96738920e-02, 4.58634453e-06]),\n",
       "  0.016952427508441503,\n",
       "  0.016666666666666666),\n",
       " array([('dm', 'honey', -2.5307, 0.0138, 0.0413,  True),\n",
       "        ('dm', 'placebo',  2.4572, 0.0166, 0.0497,  True),\n",
       "        ('honey', 'placebo',  5.2543, 0.    , 0.    ,  True)],\n",
       "       dtype=[('group1', 'O'), ('group2', 'O'), ('stat', '<f8'), ('pval', '<f8'), ('pval_corr', '<f8'), ('reject', '?')]))"
      ]
     },
     "execution_count": 46,
     "metadata": {},
     "output_type": "execute_result"
    }
   ],
   "source": [
    "# Exploring multi_comp more...\n",
    "mc = multi_comp.allpairtest(testfunc=stats.ttest_ind, alpha=0.05)\n",
    "mc"
   ]
  },
  {
   "cell_type": "code",
   "execution_count": 47,
   "id": "ef2115c1",
   "metadata": {
    "scrolled": false
   },
   "outputs": [
    {
     "data": {
      "text/html": [
       "<table class=\"simpletable\">\n",
       "<caption>Test Multiple Comparison ttest_ind \n",
       "FWER=0.05 method=bonf\n",
       "alphacSidak=0.02, alphacBonf=0.017</caption>\n",
       "<tr>\n",
       "  <th>group1</th> <th>group2</th>   <th>stat</th>    <th>pval</th>  <th>pval_corr</th> <th>reject</th>\n",
       "</tr>\n",
       "<tr>\n",
       "    <td>dm</td>    <td>honey</td>  <td>-2.5307</td> <td>0.0138</td>  <td>0.0413</td>    <td>True</td> \n",
       "</tr>\n",
       "<tr>\n",
       "    <td>dm</td>   <td>placebo</td> <td>2.4572</td>  <td>0.0166</td>  <td>0.0497</td>    <td>True</td> \n",
       "</tr>\n",
       "<tr>\n",
       "   <td>honey</td> <td>placebo</td> <td>5.2543</td>    <td>0.0</td>     <td>0.0</td>     <td>True</td> \n",
       "</tr>\n",
       "</table>"
      ],
      "text/plain": [
       "<class 'statsmodels.iolib.table.SimpleTable'>"
      ]
     },
     "execution_count": 47,
     "metadata": {},
     "output_type": "execute_result"
    }
   ],
   "source": [
    "mc[0]"
   ]
  },
  {
   "cell_type": "code",
   "execution_count": 42,
   "id": "a6157d3d",
   "metadata": {},
   "outputs": [
    {
     "data": {
      "text/plain": [
       "(array([[-2.53071540e+00,  1.37750156e-02],\n",
       "        [ 2.45721098e+00,  1.65579640e-02],\n",
       "        [ 5.25432925e+00,  1.52878151e-06]]),\n",
       " array([ True,  True,  True]),\n",
       " array([4.13250468e-02, 4.96738920e-02, 4.58634453e-06]),\n",
       " 0.016952427508441503,\n",
       " 0.016666666666666666)"
      ]
     },
     "execution_count": 42,
     "metadata": {},
     "output_type": "execute_result"
    }
   ],
   "source": [
    "mc[1]"
   ]
  },
  {
   "cell_type": "code",
   "execution_count": 48,
   "id": "84b2b794",
   "metadata": {},
   "outputs": [
    {
     "data": {
      "text/plain": [
       "array([('dm', 'honey', -2.5307, 0.0138, 0.0413,  True),\n",
       "       ('dm', 'placebo',  2.4572, 0.0166, 0.0497,  True),\n",
       "       ('honey', 'placebo',  5.2543, 0.    , 0.    ,  True)],\n",
       "      dtype=[('group1', 'O'), ('group2', 'O'), ('stat', '<f8'), ('pval', '<f8'), ('pval_corr', '<f8'), ('reject', '?')])"
      ]
     },
     "execution_count": 48,
     "metadata": {},
     "output_type": "execute_result"
    }
   ],
   "source": [
    "mc[2]"
   ]
  },
  {
   "cell_type": "markdown",
   "id": "b19875cc",
   "metadata": {},
   "source": [
    "This format looks like a mess, but it's very useful. Turn this into a DataFrame to see that."
   ]
  },
  {
   "cell_type": "code",
   "execution_count": 43,
   "id": "50d1fbcf",
   "metadata": {},
   "outputs": [
    {
     "data": {
      "text/html": [
       "<div>\n",
       "<style scoped>\n",
       "    .dataframe tbody tr th:only-of-type {\n",
       "        vertical-align: middle;\n",
       "    }\n",
       "\n",
       "    .dataframe tbody tr th {\n",
       "        vertical-align: top;\n",
       "    }\n",
       "\n",
       "    .dataframe thead th {\n",
       "        text-align: right;\n",
       "    }\n",
       "</style>\n",
       "<table border=\"1\" class=\"dataframe\">\n",
       "  <thead>\n",
       "    <tr style=\"text-align: right;\">\n",
       "      <th></th>\n",
       "      <th>group1</th>\n",
       "      <th>group2</th>\n",
       "      <th>stat</th>\n",
       "      <th>pval</th>\n",
       "      <th>pval_corr</th>\n",
       "      <th>reject</th>\n",
       "    </tr>\n",
       "  </thead>\n",
       "  <tbody>\n",
       "    <tr>\n",
       "      <th>0</th>\n",
       "      <td>dm</td>\n",
       "      <td>honey</td>\n",
       "      <td>-2.5307</td>\n",
       "      <td>0.0138</td>\n",
       "      <td>0.0413</td>\n",
       "      <td>True</td>\n",
       "    </tr>\n",
       "    <tr>\n",
       "      <th>1</th>\n",
       "      <td>dm</td>\n",
       "      <td>placebo</td>\n",
       "      <td>2.4572</td>\n",
       "      <td>0.0166</td>\n",
       "      <td>0.0497</td>\n",
       "      <td>True</td>\n",
       "    </tr>\n",
       "    <tr>\n",
       "      <th>2</th>\n",
       "      <td>honey</td>\n",
       "      <td>placebo</td>\n",
       "      <td>5.2543</td>\n",
       "      <td>0.0000</td>\n",
       "      <td>0.0000</td>\n",
       "      <td>True</td>\n",
       "    </tr>\n",
       "  </tbody>\n",
       "</table>\n",
       "</div>"
      ],
      "text/plain": [
       "  group1   group2    stat    pval  pval_corr  reject\n",
       "0     dm    honey -2.5307  0.0138     0.0413    True\n",
       "1     dm  placebo  2.4572  0.0166     0.0497    True\n",
       "2  honey  placebo  5.2543  0.0000     0.0000    True"
      ]
     },
     "execution_count": 43,
     "metadata": {},
     "output_type": "execute_result"
    }
   ],
   "source": [
    "pd.DataFrame(mc[2])"
   ]
  },
  {
   "cell_type": "markdown",
   "id": "87d66021",
   "metadata": {},
   "source": [
    "Now that we have the table in a DataFrame, it's easy to copy it to the clipboard and paste it into Word, Excel, or your favorite software to make a nice-looking table."
   ]
  },
  {
   "cell_type": "code",
   "execution_count": 44,
   "id": "7f5a52cd",
   "metadata": {},
   "outputs": [],
   "source": [
    "pd.DataFrame(mc[2]).to_clipboard()"
   ]
  },
  {
   "cell_type": "markdown",
   "id": "aaadf1d2",
   "metadata": {},
   "source": [
    "## Bonferroni-Holm\n",
    "\n",
    "We'll use the same data to run Bonferroni-Holm."
   ]
  },
  {
   "cell_type": "code",
   "execution_count": 49,
   "id": "632e46fb",
   "metadata": {},
   "outputs": [],
   "source": [
    "mc = multi_comp.allpairtest(testfunc=stats.ttest_ind, alpha=0.05, method='Holm')"
   ]
  },
  {
   "cell_type": "code",
   "execution_count": 51,
   "id": "2b9e25ba",
   "metadata": {},
   "outputs": [
    {
     "data": {
      "text/html": [
       "<table class=\"simpletable\">\n",
       "<caption>Test Multiple Comparison ttest_ind \n",
       "FWER=0.05 method=Holm\n",
       "alphacSidak=0.02, alphacBonf=0.017</caption>\n",
       "<tr>\n",
       "  <th>group1</th> <th>group2</th>   <th>stat</th>    <th>pval</th>  <th>pval_corr</th> <th>reject</th>\n",
       "</tr>\n",
       "<tr>\n",
       "    <td>dm</td>    <td>honey</td>  <td>-2.5307</td> <td>0.0138</td>  <td>0.0276</td>    <td>True</td> \n",
       "</tr>\n",
       "<tr>\n",
       "    <td>dm</td>   <td>placebo</td> <td>2.4572</td>  <td>0.0166</td>  <td>0.0276</td>    <td>True</td> \n",
       "</tr>\n",
       "<tr>\n",
       "   <td>honey</td> <td>placebo</td> <td>5.2543</td>    <td>0.0</td>     <td>0.0</td>     <td>True</td> \n",
       "</tr>\n",
       "</table>"
      ],
      "text/plain": [
       "<class 'statsmodels.iolib.table.SimpleTable'>"
      ]
     },
     "execution_count": 51,
     "metadata": {},
     "output_type": "execute_result"
    }
   ],
   "source": [
    "mc[0]"
   ]
  },
  {
   "cell_type": "code",
   "execution_count": 50,
   "id": "d52d6963",
   "metadata": {},
   "outputs": [
    {
     "data": {
      "text/html": [
       "<div>\n",
       "<style scoped>\n",
       "    .dataframe tbody tr th:only-of-type {\n",
       "        vertical-align: middle;\n",
       "    }\n",
       "\n",
       "    .dataframe tbody tr th {\n",
       "        vertical-align: top;\n",
       "    }\n",
       "\n",
       "    .dataframe thead th {\n",
       "        text-align: right;\n",
       "    }\n",
       "</style>\n",
       "<table border=\"1\" class=\"dataframe\">\n",
       "  <thead>\n",
       "    <tr style=\"text-align: right;\">\n",
       "      <th></th>\n",
       "      <th>group1</th>\n",
       "      <th>group2</th>\n",
       "      <th>stat</th>\n",
       "      <th>pval</th>\n",
       "      <th>pval_corr</th>\n",
       "      <th>reject</th>\n",
       "    </tr>\n",
       "  </thead>\n",
       "  <tbody>\n",
       "    <tr>\n",
       "      <th>0</th>\n",
       "      <td>dm</td>\n",
       "      <td>honey</td>\n",
       "      <td>-2.5307</td>\n",
       "      <td>0.0138</td>\n",
       "      <td>0.0276</td>\n",
       "      <td>True</td>\n",
       "    </tr>\n",
       "    <tr>\n",
       "      <th>1</th>\n",
       "      <td>dm</td>\n",
       "      <td>placebo</td>\n",
       "      <td>2.4572</td>\n",
       "      <td>0.0166</td>\n",
       "      <td>0.0276</td>\n",
       "      <td>True</td>\n",
       "    </tr>\n",
       "    <tr>\n",
       "      <th>2</th>\n",
       "      <td>honey</td>\n",
       "      <td>placebo</td>\n",
       "      <td>5.2543</td>\n",
       "      <td>0.0000</td>\n",
       "      <td>0.0000</td>\n",
       "      <td>True</td>\n",
       "    </tr>\n",
       "  </tbody>\n",
       "</table>\n",
       "</div>"
      ],
      "text/plain": [
       "  group1   group2    stat    pval  pval_corr  reject\n",
       "0     dm    honey -2.5307  0.0138     0.0276    True\n",
       "1     dm  placebo  2.4572  0.0166     0.0276    True\n",
       "2  honey  placebo  5.2543  0.0000     0.0000    True"
      ]
     },
     "execution_count": 50,
     "metadata": {},
     "output_type": "execute_result"
    }
   ],
   "source": [
    "pd.DataFrame(mc[2])"
   ]
  },
  {
   "cell_type": "markdown",
   "id": "02ba8915",
   "metadata": {},
   "source": [
    "## Tukey's HSD (and Tukey-Kramer)"
   ]
  },
  {
   "cell_type": "code",
   "execution_count": 52,
   "id": "7e4ec3e0",
   "metadata": {},
   "outputs": [],
   "source": [
    "mc = multi_comp.tukeyhsd(alpha=0.05)"
   ]
  },
  {
   "cell_type": "code",
   "execution_count": 53,
   "id": "931d5a92",
   "metadata": {},
   "outputs": [
    {
     "data": {
      "text/html": [
       "<table class=\"simpletable\">\n",
       "<caption>Multiple Comparison of Means - Tukey HSD, FWER=0.05</caption>\n",
       "<tr>\n",
       "  <th>group1</th> <th>group2</th>  <th>meandiff</th>  <th>p-adj</th>  <th>lower</th>   <th>upper</th>  <th>reject</th>\n",
       "</tr>\n",
       "<tr>\n",
       "    <td>dm</td>    <td>honey</td>    <td>1.981</td>  <td>0.0279</td> <td>0.1757</td>  <td>3.7862</td>   <td>True</td> \n",
       "</tr>\n",
       "<tr>\n",
       "    <td>dm</td>   <td>placebo</td>  <td>-1.8198</td> <td>0.0441</td> <td>-3.6013</td> <td>-0.0384</td>  <td>True</td> \n",
       "</tr>\n",
       "<tr>\n",
       "   <td>honey</td> <td>placebo</td>  <td>-3.8008</td>   <td>0.0</td>  <td>-5.5551</td> <td>-2.0465</td>  <td>True</td> \n",
       "</tr>\n",
       "</table>"
      ],
      "text/plain": [
       "<class 'statsmodels.iolib.table.SimpleTable'>"
      ]
     },
     "execution_count": 53,
     "metadata": {},
     "output_type": "execute_result"
    }
   ],
   "source": [
    "mc.summary()"
   ]
  },
  {
   "cell_type": "markdown",
   "id": "9b2db884",
   "metadata": {},
   "source": [
    "This is less easy to copy to the clipboard (though you can directly save it as a csv or output in LaTeX format)."
   ]
  },
  {
   "cell_type": "code",
   "execution_count": 79,
   "id": "e25025da",
   "metadata": {},
   "outputs": [
    {
     "data": {
      "text/html": [
       "<div>\n",
       "<style scoped>\n",
       "    .dataframe tbody tr th:only-of-type {\n",
       "        vertical-align: middle;\n",
       "    }\n",
       "\n",
       "    .dataframe tbody tr th {\n",
       "        vertical-align: top;\n",
       "    }\n",
       "\n",
       "    .dataframe thead th {\n",
       "        text-align: right;\n",
       "    }\n",
       "</style>\n",
       "<table border=\"1\" class=\"dataframe\">\n",
       "  <thead>\n",
       "    <tr style=\"text-align: right;\">\n",
       "      <th></th>\n",
       "      <th>group1</th>\n",
       "      <th>group2</th>\n",
       "      <th>meandiff</th>\n",
       "      <th>p-adj</th>\n",
       "      <th>lower</th>\n",
       "      <th>upper</th>\n",
       "      <th>reject</th>\n",
       "    </tr>\n",
       "  </thead>\n",
       "  <tbody>\n",
       "    <tr>\n",
       "      <th>1</th>\n",
       "      <td>dm</td>\n",
       "      <td>honey</td>\n",
       "      <td>1.981</td>\n",
       "      <td>0.0279</td>\n",
       "      <td>0.1757</td>\n",
       "      <td>3.7862</td>\n",
       "      <td>True</td>\n",
       "    </tr>\n",
       "    <tr>\n",
       "      <th>2</th>\n",
       "      <td>dm</td>\n",
       "      <td>placebo</td>\n",
       "      <td>-1.8198</td>\n",
       "      <td>0.0441</td>\n",
       "      <td>-3.6013</td>\n",
       "      <td>-0.0384</td>\n",
       "      <td>True</td>\n",
       "    </tr>\n",
       "    <tr>\n",
       "      <th>3</th>\n",
       "      <td>honey</td>\n",
       "      <td>placebo</td>\n",
       "      <td>-3.8008</td>\n",
       "      <td>0.0</td>\n",
       "      <td>-5.5551</td>\n",
       "      <td>-2.0465</td>\n",
       "      <td>True</td>\n",
       "    </tr>\n",
       "  </tbody>\n",
       "</table>\n",
       "</div>"
      ],
      "text/plain": [
       "0 group1   group2 meandiff   p-adj    lower    upper reject\n",
       "1     dm    honey    1.981  0.0279   0.1757   3.7862   True\n",
       "2     dm  placebo  -1.8198  0.0441  -3.6013  -0.0384   True\n",
       "3  honey  placebo  -3.8008     0.0  -5.5551  -2.0465   True"
      ]
     },
     "execution_count": 79,
     "metadata": {},
     "output_type": "execute_result"
    }
   ],
   "source": [
    "tab = pd.DataFrame(mc.summary())\n",
    "tab.columns = tab.iloc[0]\n",
    "tab = tab[1:]\n",
    "tab"
   ]
  }
 ],
 "metadata": {
  "kernelspec": {
   "display_name": "Python 3 (ipykernel)",
   "language": "python",
   "name": "python3"
  },
  "language_info": {
   "codemirror_mode": {
    "name": "ipython",
    "version": 3
   },
   "file_extension": ".py",
   "mimetype": "text/x-python",
   "name": "python",
   "nbconvert_exporter": "python",
   "pygments_lexer": "ipython3",
   "version": "3.8.12"
  }
 },
 "nbformat": 4,
 "nbformat_minor": 5
}
