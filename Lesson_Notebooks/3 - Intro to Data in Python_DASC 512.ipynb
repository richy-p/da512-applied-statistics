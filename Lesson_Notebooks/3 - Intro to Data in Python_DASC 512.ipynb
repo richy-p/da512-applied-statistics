{
 "cells": [
  {
   "cell_type": "markdown",
   "id": "fede3d6d",
   "metadata": {},
   "source": [
    "# DASC 512 - Data in Python: A Primer\n",
    "\n",
    "This notebook presents the basics of working with data in Python - a fundamental skill of this course!"
   ]
  },
  {
   "cell_type": "markdown",
   "id": "042126da",
   "metadata": {},
   "source": [
    "## Variables\n",
    "This is how you save values to use or modify later."
   ]
  },
  {
   "cell_type": "code",
   "execution_count": 1,
   "id": "58f880e3",
   "metadata": {},
   "outputs": [
    {
     "name": "stdout",
     "output_type": "stream",
     "text": [
      "5\n"
     ]
    }
   ],
   "source": [
    "# To set a variable, there is no need to initialize in Python. Simply set it using '='.\n",
    "x = 5\n",
    "print(x)"
   ]
  },
  {
   "cell_type": "code",
   "execution_count": 2,
   "id": "9588ad7f",
   "metadata": {},
   "outputs": [
    {
     "name": "stdout",
     "output_type": "stream",
     "text": [
      "5\n",
      "10\n"
     ]
    }
   ],
   "source": [
    "# To modify the variable, you have to set it again.\n",
    "x = 5\n",
    "x + 5\n",
    "print(x)\n",
    "x = x + 5\n",
    "print(x)"
   ]
  },
  {
   "cell_type": "code",
   "execution_count": 3,
   "id": "d16535b7",
   "metadata": {},
   "outputs": [
    {
     "name": "stdout",
     "output_type": "stream",
     "text": [
      "125\n"
     ]
    }
   ],
   "source": [
    "# Variables can be just about anything that doesn't start with a numeral or include key symbols like + or #\n",
    "# So make them descriptive! You can typically auto-complete with <tab>\n",
    "This_is_a_really_long_variable_name_1234567890_ = 125\n",
    "print(This_is_a_really_long_variable_name_1234567890_)"
   ]
  },
  {
   "cell_type": "markdown",
   "id": "1124f1ad",
   "metadata": {},
   "source": [
    "## Data Elements"
   ]
  },
  {
   "cell_type": "markdown",
   "id": "b04cdb3d",
   "metadata": {},
   "source": [
    "### Integers\n",
    "Numerical data taking whole number values"
   ]
  },
  {
   "cell_type": "code",
   "execution_count": 4,
   "id": "c18a83ea",
   "metadata": {},
   "outputs": [
    {
     "data": {
      "text/plain": [
       "6"
      ]
     },
     "execution_count": 4,
     "metadata": {},
     "output_type": "execute_result"
    }
   ],
   "source": [
    "# Addition\n",
    "3 + 3"
   ]
  },
  {
   "cell_type": "code",
   "execution_count": 5,
   "id": "8beeb9fd",
   "metadata": {},
   "outputs": [
    {
     "data": {
      "text/plain": [
       "4"
      ]
     },
     "execution_count": 5,
     "metadata": {},
     "output_type": "execute_result"
    }
   ],
   "source": [
    "# Multiplication\n",
    "2 * 2"
   ]
  },
  {
   "cell_type": "code",
   "execution_count": 6,
   "id": "f437d717",
   "metadata": {},
   "outputs": [
    {
     "data": {
      "text/plain": [
       "2.0"
      ]
     },
     "execution_count": 6,
     "metadata": {},
     "output_type": "execute_result"
    }
   ],
   "source": [
    "# Division - Note that result is no longer an integer\n",
    "6 / 3"
   ]
  },
  {
   "cell_type": "code",
   "execution_count": 7,
   "id": "5a7955b4",
   "metadata": {},
   "outputs": [
    {
     "data": {
      "text/plain": [
       "2"
      ]
     },
     "execution_count": 7,
     "metadata": {},
     "output_type": "execute_result"
    }
   ],
   "source": [
    "# Conversion to Integer\n",
    "int(6 / 3)"
   ]
  },
  {
   "cell_type": "markdown",
   "id": "8f1b3e57",
   "metadata": {},
   "source": [
    "A note on rounding in Python: it uses the IEEE 754 (banker's rounding) standard. On a tie, rather than always rounding up, it will round to the nearest even integer."
   ]
  },
  {
   "cell_type": "code",
   "execution_count": 6,
   "id": "0dd6f3f5",
   "metadata": {},
   "outputs": [
    {
     "name": "stdout",
     "output_type": "stream",
     "text": [
      "2\n",
      "2\n",
      "4\n",
      "4\n"
     ]
    }
   ],
   "source": [
    "# Round to Integer\n",
    "print(round(1.5))\n",
    "print(round(2.5))\n",
    "print(round(3.5))\n",
    "print(round(4.5))"
   ]
  },
  {
   "cell_type": "code",
   "execution_count": 8,
   "id": "ac1b2609",
   "metadata": {},
   "outputs": [
    {
     "data": {
      "text/plain": [
       "1024"
      ]
     },
     "execution_count": 8,
     "metadata": {},
     "output_type": "execute_result"
    }
   ],
   "source": [
    "# Exponentiation\n",
    "2 ** 10"
   ]
  },
  {
   "cell_type": "code",
   "execution_count": 9,
   "id": "c0ef7c4a",
   "metadata": {},
   "outputs": [
    {
     "name": "stdout",
     "output_type": "stream",
     "text": [
      "0\n",
      "1\n",
      "0\n"
     ]
    }
   ],
   "source": [
    "# Modulo (i.e., remainder)\n",
    "print(4 % 2)\n",
    "print(5 % 2)\n",
    "print(6 % 2)"
   ]
  },
  {
   "cell_type": "code",
   "execution_count": 10,
   "id": "6ee16d30",
   "metadata": {},
   "outputs": [
    {
     "name": "stdout",
     "output_type": "stream",
     "text": [
      "36\n",
      "117\n"
     ]
    }
   ],
   "source": [
    "# Parentheses (remember PEMDAS!)\n",
    "print(5 + 4 * 6 + 7)\n",
    "print((5 + 4) * (6 + 7))"
   ]
  },
  {
   "cell_type": "code",
   "execution_count": 11,
   "id": "623defce",
   "metadata": {},
   "outputs": [
    {
     "data": {
      "text/plain": [
       "120"
      ]
     },
     "execution_count": 11,
     "metadata": {},
     "output_type": "execute_result"
    }
   ],
   "source": [
    "# Factorial\n",
    "import math\n",
    "math.factorial(5)"
   ]
  },
  {
   "cell_type": "markdown",
   "id": "b4e451db",
   "metadata": {},
   "source": [
    "### Floats\n",
    "Numerical data in the real number line"
   ]
  },
  {
   "cell_type": "code",
   "execution_count": 12,
   "id": "d424ad55",
   "metadata": {},
   "outputs": [
    {
     "data": {
      "text/plain": [
       "2.0"
      ]
     },
     "execution_count": 12,
     "metadata": {},
     "output_type": "execute_result"
    }
   ],
   "source": [
    "# Division resulted in a float before\n",
    "6 / 3"
   ]
  },
  {
   "cell_type": "code",
   "execution_count": 13,
   "id": "b191f9f0",
   "metadata": {},
   "outputs": [
    {
     "data": {
      "text/plain": [
       "299.00000000000006"
      ]
     },
     "execution_count": 13,
     "metadata": {},
     "output_type": "execute_result"
    }
   ],
   "source": [
    "# Be aware, you may lose precision using floats\n",
    "300 - 1/3 - 1/3 - 1/3"
   ]
  },
  {
   "cell_type": "code",
   "execution_count": 14,
   "id": "1b8c7f8e",
   "metadata": {},
   "outputs": [
    {
     "data": {
      "text/plain": [
       "3.0"
      ]
     },
     "execution_count": 14,
     "metadata": {},
     "output_type": "execute_result"
    }
   ],
   "source": [
    "# If needed, can convert an integer to float\n",
    "float(3)"
   ]
  },
  {
   "cell_type": "code",
   "execution_count": 15,
   "id": "f88cb18d",
   "metadata": {},
   "outputs": [
    {
     "data": {
      "text/plain": [
       "3.0"
      ]
     },
     "execution_count": 15,
     "metadata": {},
     "output_type": "execute_result"
    }
   ],
   "source": [
    "# Or you can just add a decimal\n",
    "3."
   ]
  },
  {
   "cell_type": "code",
   "execution_count": 16,
   "id": "2d738536",
   "metadata": {},
   "outputs": [
    {
     "name": "stdout",
     "output_type": "stream",
     "text": [
      "Error: factorial() only accepts integral values.\n"
     ]
    }
   ],
   "source": [
    "# Note that some functions require integer inputs\n",
    "try:\n",
    "    print(math.factorial(5.5))\n",
    "except Exception as ex:\n",
    "    print(f'Error: {ex}.')"
   ]
  },
  {
   "cell_type": "markdown",
   "id": "b724dc64",
   "metadata": {},
   "source": [
    "### Booleans\n",
    "Simple variables taking the values of True or False"
   ]
  },
  {
   "cell_type": "code",
   "execution_count": 17,
   "id": "b4822705",
   "metadata": {},
   "outputs": [
    {
     "data": {
      "text/plain": [
       "True"
      ]
     },
     "execution_count": 17,
     "metadata": {},
     "output_type": "execute_result"
    }
   ],
   "source": [
    "True"
   ]
  },
  {
   "cell_type": "code",
   "execution_count": 18,
   "id": "273dcfdd",
   "metadata": {},
   "outputs": [
    {
     "data": {
      "text/plain": [
       "False"
      ]
     },
     "execution_count": 18,
     "metadata": {},
     "output_type": "execute_result"
    }
   ],
   "source": [
    "False"
   ]
  },
  {
   "cell_type": "code",
   "execution_count": 19,
   "id": "ba575bab",
   "metadata": {},
   "outputs": [
    {
     "name": "stdout",
     "output_type": "stream",
     "text": [
      "True\n",
      "False\n"
     ]
    }
   ],
   "source": [
    "# Checking equality of two Booleans\n",
    "print(True == True)\n",
    "print(False == True)"
   ]
  },
  {
   "cell_type": "code",
   "execution_count": 20,
   "id": "03a0bcc6",
   "metadata": {},
   "outputs": [
    {
     "name": "stdout",
     "output_type": "stream",
     "text": [
      "False\n",
      "True\n",
      "True\n",
      "False\n"
     ]
    }
   ],
   "source": [
    "# Standard logic functions\n",
    "print(True and False)\n",
    "print(True or False)\n",
    "print(not False)\n",
    "print(not True)"
   ]
  },
  {
   "cell_type": "code",
   "execution_count": 21,
   "id": "3aa15300",
   "metadata": {},
   "outputs": [
    {
     "name": "stdout",
     "output_type": "stream",
     "text": [
      "True\n",
      "False\n",
      "True\n",
      "True\n",
      "False\n"
     ]
    }
   ],
   "source": [
    "# Comparison operators return Booleans\n",
    "print(1 < 2)\n",
    "print(1 > 2)\n",
    "print(1 >= 1)\n",
    "print(1 == 1)\n",
    "print(1 != 1)"
   ]
  },
  {
   "cell_type": "markdown",
   "id": "71ab3191",
   "metadata": {},
   "source": [
    "## Iterables\n",
    "These data types can be used in functions calling for iterables, such as loops.\n",
    "By default, they are zero-indexed, meaning the first value is at index 0."
   ]
  },
  {
   "cell_type": "markdown",
   "id": "83fd4af1",
   "metadata": {},
   "source": [
    "### Tuples\n",
    "Tuples are immutable iterables. That means you cannot modify them."
   ]
  },
  {
   "cell_type": "code",
   "execution_count": 22,
   "id": "722b7ff1",
   "metadata": {},
   "outputs": [
    {
     "data": {
      "text/plain": [
       "(1, 2, 3)"
      ]
     },
     "execution_count": 22,
     "metadata": {},
     "output_type": "execute_result"
    }
   ],
   "source": [
    "# A tuple is defined using parentheses and commas.\n",
    "(1,2,3)"
   ]
  },
  {
   "cell_type": "code",
   "execution_count": 23,
   "id": "57875e9b",
   "metadata": {},
   "outputs": [
    {
     "name": "stdout",
     "output_type": "stream",
     "text": [
      "(1, 2, 3)\n",
      "Error: 'tuple' object does not support item assignment.\n"
     ]
    }
   ],
   "source": [
    "# Again, they are immutable.\n",
    "x = (1,2,3)\n",
    "print(x)\n",
    "try: \n",
    "    x[0] = 4\n",
    "except Exception as ex:\n",
    "    print(f'Error: {ex}.')"
   ]
  },
  {
   "cell_type": "code",
   "execution_count": 24,
   "id": "9265f508",
   "metadata": {
    "scrolled": true
   },
   "outputs": [
    {
     "data": {
      "text/plain": [
       "3"
      ]
     },
     "execution_count": 24,
     "metadata": {},
     "output_type": "execute_result"
    }
   ],
   "source": [
    "# You can count the number of instances of a value in a tuple.\n",
    "(2, 2, 3, 3, 4, 4, 4).count(4)"
   ]
  },
  {
   "cell_type": "code",
   "execution_count": 25,
   "id": "22d07230",
   "metadata": {},
   "outputs": [
    {
     "data": {
      "text/plain": [
       "(1, 2, 3, 2, 3, 4)"
      ]
     },
     "execution_count": 25,
     "metadata": {},
     "output_type": "execute_result"
    }
   ],
   "source": [
    "# Addition concatenates two tuples\n",
    "(1,2,3)+(2,3,4)"
   ]
  },
  {
   "cell_type": "code",
   "execution_count": 26,
   "id": "f18a9dc7",
   "metadata": {},
   "outputs": [],
   "source": [
    "# And "
   ]
  },
  {
   "cell_type": "code",
   "execution_count": 27,
   "id": "cd48de7a",
   "metadata": {},
   "outputs": [
    {
     "name": "stdout",
     "output_type": "stream",
     "text": [
      "3\n",
      "5\n"
     ]
    }
   ],
   "source": [
    "# You can use \"tuple unpacking\" to assign multiple variables at once.\n",
    "(x,y)=(3,5)\n",
    "print(x)\n",
    "print(y)"
   ]
  },
  {
   "cell_type": "markdown",
   "id": "74aa7057",
   "metadata": {},
   "source": [
    "### Strings\n",
    "Strings are similar to tuples of characters. They are special because they are so often used for text."
   ]
  },
  {
   "cell_type": "code",
   "execution_count": 28,
   "id": "efb3618f",
   "metadata": {},
   "outputs": [
    {
     "data": {
      "text/plain": [
       "'You can define strings with single quotes'"
      ]
     },
     "execution_count": 28,
     "metadata": {},
     "output_type": "execute_result"
    }
   ],
   "source": [
    "'You can define strings with single quotes'"
   ]
  },
  {
   "cell_type": "code",
   "execution_count": 29,
   "id": "7646af79",
   "metadata": {},
   "outputs": [
    {
     "data": {
      "text/plain": [
       "'You can also use double quotes'"
      ]
     },
     "execution_count": 29,
     "metadata": {},
     "output_type": "execute_result"
    }
   ],
   "source": [
    "\"You can also use double quotes\""
   ]
  },
  {
   "cell_type": "code",
   "execution_count": 30,
   "id": "ef7c0818",
   "metadata": {},
   "outputs": [
    {
     "data": {
      "text/plain": [
       "\"If you want to include 'single quotes', use 'double quotes'. Also useful if you need to type it's for 'it is'.\""
      ]
     },
     "execution_count": 30,
     "metadata": {},
     "output_type": "execute_result"
    }
   ],
   "source": [
    "\"If you want to include 'single quotes', use 'double quotes'. Also useful if you need to type it's for 'it is'.\""
   ]
  },
  {
   "cell_type": "code",
   "execution_count": 31,
   "id": "f6a533c6",
   "metadata": {},
   "outputs": [
    {
     "data": {
      "text/plain": [
       "'If you want to include \"double quotes\", use \"single quotes\".'"
      ]
     },
     "execution_count": 31,
     "metadata": {},
     "output_type": "execute_result"
    }
   ],
   "source": [
    "'If you want to include \"double quotes\", use \"single quotes\".'"
   ]
  },
  {
   "cell_type": "code",
   "execution_count": 32,
   "id": "10ab8652",
   "metadata": {},
   "outputs": [
    {
     "data": {
      "text/plain": [
       "'thisthat'"
      ]
     },
     "execution_count": 32,
     "metadata": {},
     "output_type": "execute_result"
    }
   ],
   "source": [
    "# Concatenating strings\n",
    "'this' + 'that'"
   ]
  },
  {
   "cell_type": "code",
   "execution_count": 33,
   "id": "f4fb08b7",
   "metadata": {},
   "outputs": [
    {
     "data": {
      "text/plain": [
       "'thisthisthis'"
      ]
     },
     "execution_count": 33,
     "metadata": {},
     "output_type": "execute_result"
    }
   ],
   "source": [
    "# Multiplying strings\n",
    "'this' * 3"
   ]
  },
  {
   "cell_type": "code",
   "execution_count": 34,
   "id": "b7142a42",
   "metadata": {},
   "outputs": [
    {
     "data": {
      "text/plain": [
       "'800'"
      ]
     },
     "execution_count": 34,
     "metadata": {},
     "output_type": "execute_result"
    }
   ],
   "source": [
    "# Converting integers to Strings\n",
    "str(800)"
   ]
  },
  {
   "cell_type": "code",
   "execution_count": 35,
   "id": "618135df",
   "metadata": {},
   "outputs": [
    {
     "name": "stdout",
     "output_type": "stream",
     "text": [
      "2.5\n",
      "3.141592653589793\n"
     ]
    }
   ],
   "source": [
    "# Can also convert floats to strings\n",
    "print(str(2.5))\n",
    "print(math.pi)"
   ]
  },
  {
   "cell_type": "code",
   "execution_count": 36,
   "id": "327a6be1",
   "metadata": {},
   "outputs": [
    {
     "name": "stdout",
     "output_type": "stream",
     "text": [
      "sli\n",
      "sli\n",
      "ced\n"
     ]
    }
   ],
   "source": [
    "# Strings can be \"sliced\". \n",
    "# The first letter is index 0. \n",
    "# A colon means \"to\" and having one side open means \"to that end\".\n",
    "# All slicing in Python is to the left. Note that [0:3] includes indices 0, 1, and 2 (not 3).\n",
    "print('sliced'[:3])\n",
    "print('sliced'[0:3])\n",
    "print('sliced'[3:])"
   ]
  },
  {
   "cell_type": "code",
   "execution_count": 37,
   "id": "056eb90d",
   "metadata": {},
   "outputs": [
    {
     "name": "stdout",
     "output_type": "stream",
     "text": [
      "ced\n",
      "ce\n",
      "ed\n"
     ]
    }
   ],
   "source": [
    "# Using negative index goes the other way. This is handy for finding the last n letters.\n",
    "print('sliced'[-3:])\n",
    "print('sliced'[-3:-1])\n",
    "print('sliced'[-2:])"
   ]
  },
  {
   "cell_type": "code",
   "execution_count": 38,
   "id": "6841b820",
   "metadata": {},
   "outputs": [
    {
     "data": {
      "text/plain": [
       "'e'"
      ]
     },
     "execution_count": 38,
     "metadata": {},
     "output_type": "execute_result"
    }
   ],
   "source": [
    "# In the same way, we can call just one index for a single character\n",
    "'sliced'[4]"
   ]
  },
  {
   "cell_type": "code",
   "execution_count": 39,
   "id": "4ead0cbe",
   "metadata": {},
   "outputs": [
    {
     "name": "stdout",
     "output_type": "stream",
     "text": [
      "Error: 'str' object does not support item assignment.\n"
     ]
    }
   ],
   "source": [
    "# But they're still immutable\n",
    "x = 'Failure'\n",
    "try: \n",
    "    x[0] = '4'\n",
    "except Exception as ex:\n",
    "    print(f'Error: {ex}.')"
   ]
  },
  {
   "cell_type": "code",
   "execution_count": 40,
   "id": "4ab2d89e",
   "metadata": {},
   "outputs": [
    {
     "name": "stdout",
     "output_type": "stream",
     "text": [
      "Pi is an irrational number, but it is approximately 3.141592653589793.\n",
      "Pi is an irrational number, but it is approximately 3.141592653589793115997963468544185161590576171875.\n",
      "Pi is an irrational number, but it is approximately 3.\n"
     ]
    }
   ],
   "source": [
    "# There are many ways to format strings, which we'll explore later.\n",
    "# My go-to method is using f-strings and variables (more on variables later).\n",
    "x = math.pi\n",
    "print(f'Pi is an irrational number, but it is approximately {x}.')\n",
    "print(f'Pi is an irrational number, but it is approximately {x:0.48f}.')\n",
    "print(f'Pi is an irrational number, but it is approximately {x:0.0f}.')"
   ]
  },
  {
   "cell_type": "markdown",
   "id": "584714a3",
   "metadata": {},
   "source": [
    "### Lists\n",
    "Lists are very similar to tuples, but they are mutable."
   ]
  },
  {
   "cell_type": "code",
   "execution_count": 41,
   "id": "5dd5ac6d",
   "metadata": {},
   "outputs": [
    {
     "data": {
      "text/plain": [
       "[1, 2, 3]"
      ]
     },
     "execution_count": 41,
     "metadata": {},
     "output_type": "execute_result"
    }
   ],
   "source": [
    "# Create a list using square brackets\n",
    "[1,2,3]"
   ]
  },
  {
   "cell_type": "code",
   "execution_count": 42,
   "id": "7750a75a",
   "metadata": {},
   "outputs": [
    {
     "name": "stdout",
     "output_type": "stream",
     "text": [
      "3\n",
      "[1, 2]\n"
     ]
    }
   ],
   "source": [
    "# The .pop() function removes the last values and feeds it to the call\n",
    "lst = [1,2,3]\n",
    "x = lst.pop()\n",
    "print(x)\n",
    "print(lst)"
   ]
  },
  {
   "cell_type": "code",
   "execution_count": 43,
   "id": "7ff19499",
   "metadata": {},
   "outputs": [
    {
     "name": "stdout",
     "output_type": "stream",
     "text": [
      "[1, 2, 3, 'this']\n"
     ]
    }
   ],
   "source": [
    "# The .append() function adds a value to the end of a list. Note that iterables can contain multiple types of data.\n",
    "lst = [1,2,3]\n",
    "lst.append('this')\n",
    "print(lst)"
   ]
  },
  {
   "cell_type": "code",
   "execution_count": 44,
   "id": "ff3c5093",
   "metadata": {},
   "outputs": [
    {
     "name": "stdout",
     "output_type": "stream",
     "text": [
      "1\n",
      "2\n",
      "3\n"
     ]
    }
   ],
   "source": [
    "# Like other iterables, lists are by default zero-indexed.\n",
    "lst = [1,2,3]\n",
    "print(lst[0])\n",
    "print(lst[1])\n",
    "print(lst[2])"
   ]
  },
  {
   "cell_type": "code",
   "execution_count": 45,
   "id": "38dace0c",
   "metadata": {},
   "outputs": [
    {
     "name": "stdout",
     "output_type": "stream",
     "text": [
      "[4, 5, [6]]\n",
      "[6]\n",
      "6\n",
      "ye\n"
     ]
    }
   ],
   "source": [
    "# You can also make nested lists and call them using slicing\n",
    "lst = [[1,2],[4,5,[6]],['ex','eye','zee'],3]\n",
    "print(lst[1])\n",
    "print(lst[1][2])\n",
    "print(lst[1][2][0])\n",
    "# You can do the same to dig into an embedded iterable of another type\n",
    "print(lst[2][1][1:])"
   ]
  },
  {
   "cell_type": "code",
   "execution_count": 46,
   "id": "93d03d99",
   "metadata": {},
   "outputs": [
    {
     "name": "stdout",
     "output_type": "stream",
     "text": [
      "[1, 2, 3, 4, 5, 6]\n",
      "[1, 2, 3, 1, 2, 3, 1, 2, 3, 1, 2, 3, 1, 2, 3]\n"
     ]
    }
   ],
   "source": [
    "# Like tuples, lists can be added (concatenated) and multiplied\n",
    "print([1,2,3] + [4,5,6])\n",
    "print([1,2,3] * 5)"
   ]
  },
  {
   "cell_type": "code",
   "execution_count": 47,
   "id": "3983bece",
   "metadata": {},
   "outputs": [
    {
     "name": "stdout",
     "output_type": "stream",
     "text": [
      "[[1, 2], [4, 5, [6]], ['x', 'y', 'z'], 3]\n"
     ]
    }
   ],
   "source": [
    "# Unlike tuples, lists can be modified\n",
    "lst = [[1,2],[4,5,[6]],['ex','eye','zee'],3]\n",
    "lst[2] = ['x','y','z']\n",
    "print(lst)"
   ]
  },
  {
   "cell_type": "markdown",
   "id": "179e1a66",
   "metadata": {},
   "source": [
    "### Sets\n",
    "Sets are unordered iterables. They only store unique values."
   ]
  },
  {
   "cell_type": "code",
   "execution_count": 48,
   "id": "5d49518d",
   "metadata": {},
   "outputs": [
    {
     "data": {
      "text/plain": [
       "{1, 2, 3}"
      ]
     },
     "execution_count": 48,
     "metadata": {},
     "output_type": "execute_result"
    }
   ],
   "source": [
    "# Create a set using curly brackets\n",
    "{1,2,3}"
   ]
  },
  {
   "cell_type": "code",
   "execution_count": 49,
   "id": "18fa0cc1",
   "metadata": {},
   "outputs": [
    {
     "data": {
      "text/plain": [
       "{1, 2, 3, 5}"
      ]
     },
     "execution_count": 49,
     "metadata": {},
     "output_type": "execute_result"
    }
   ],
   "source": [
    "# Adding repeat values does nothing\n",
    "{1,2,2,2,2,2,3,3,3,3,3,1,5}"
   ]
  },
  {
   "cell_type": "code",
   "execution_count": 50,
   "id": "64ae7d55",
   "metadata": {},
   "outputs": [
    {
     "data": {
      "text/plain": [
       "{-1, 1, 2, 3, 4, 5}"
      ]
     },
     "execution_count": 50,
     "metadata": {},
     "output_type": "execute_result"
    }
   ],
   "source": [
    "# The order things are added also does not matter\n",
    "{5,4,2,2,2,2,3,3,1,-1}"
   ]
  },
  {
   "cell_type": "code",
   "execution_count": 51,
   "id": "1e20fb8f",
   "metadata": {},
   "outputs": [
    {
     "name": "stdout",
     "output_type": "stream",
     "text": [
      "Error: 'set' object does not support item assignment\n"
     ]
    }
   ],
   "source": [
    "# Like tuples, they are immutable\n",
    "st = {1,2,3}\n",
    "try:\n",
    "    st[2]=5\n",
    "except Exception as ex:\n",
    "    print(f'Error: {ex}')"
   ]
  },
  {
   "cell_type": "code",
   "execution_count": 52,
   "id": "fbb0c8b6",
   "metadata": {},
   "outputs": [
    {
     "name": "stdout",
     "output_type": "stream",
     "text": [
      "Error: 'set' object is not subscriptable\n"
     ]
    }
   ],
   "source": [
    "# Because they are unordered, sets cannot be sliced either\n",
    "try:\n",
    "    print(st[2])\n",
    "except Exception as ex:\n",
    "    print(f'Error: {ex}')"
   ]
  },
  {
   "cell_type": "markdown",
   "id": "d4173e1a",
   "metadata": {},
   "source": [
    "### Dictionaries\n",
    "Dictionaries are similar to sets. They store key:value pairs."
   ]
  },
  {
   "cell_type": "code",
   "execution_count": 53,
   "id": "2619767f",
   "metadata": {},
   "outputs": [],
   "source": [
    "# They still use curly braces but now also include colons.\n",
    "d = {'key1':'value1','key2':'value2'}"
   ]
  },
  {
   "cell_type": "code",
   "execution_count": 54,
   "id": "37fc0d90",
   "metadata": {},
   "outputs": [
    {
     "data": {
      "text/plain": [
       "dict_keys(['key1', 'key2'])"
      ]
     },
     "execution_count": 54,
     "metadata": {},
     "output_type": "execute_result"
    }
   ],
   "source": [
    "# The .keys() function calls the keys from the dictionary.\n",
    "d.keys()"
   ]
  },
  {
   "cell_type": "code",
   "execution_count": 55,
   "id": "b897ef9d",
   "metadata": {},
   "outputs": [
    {
     "data": {
      "text/plain": [
       "dict_values(['value1', 'value2'])"
      ]
     },
     "execution_count": 55,
     "metadata": {},
     "output_type": "execute_result"
    }
   ],
   "source": [
    "# The .values() function calls the values.\n",
    "d.values()"
   ]
  },
  {
   "cell_type": "code",
   "execution_count": 56,
   "id": "5d1c7fc3",
   "metadata": {},
   "outputs": [
    {
     "data": {
      "text/plain": [
       "dict_items([('key1', 'value1'), ('key2', 'value2')])"
      ]
     },
     "execution_count": 56,
     "metadata": {},
     "output_type": "execute_result"
    }
   ],
   "source": [
    "# The .items() function includes all key:value pairs\n",
    "d.items()"
   ]
  },
  {
   "cell_type": "code",
   "execution_count": 57,
   "id": "dc02445c",
   "metadata": {},
   "outputs": [
    {
     "data": {
      "text/plain": [
       "'value1'"
      ]
     },
     "execution_count": 57,
     "metadata": {},
     "output_type": "execute_result"
    }
   ],
   "source": [
    "# The value of a dictionary lies in using a key to return a value.\n",
    "d['key1']"
   ]
  },
  {
   "cell_type": "code",
   "execution_count": 58,
   "id": "972d84f6",
   "metadata": {},
   "outputs": [
    {
     "data": {
      "text/plain": [
       "dict_items([('key1', 'new value'), ('key2', 'value2')])"
      ]
     },
     "execution_count": 58,
     "metadata": {},
     "output_type": "execute_result"
    }
   ],
   "source": [
    "# Dictionaries are mutable.\n",
    "d['key1'] = 'new value'\n",
    "d.items()"
   ]
  },
  {
   "cell_type": "code",
   "execution_count": 59,
   "id": "838f18be",
   "metadata": {},
   "outputs": [
    {
     "data": {
      "text/plain": [
       "dict_items([('key1', 'value3'), ('key2', 'value2')])"
      ]
     },
     "execution_count": 59,
     "metadata": {},
     "output_type": "execute_result"
    }
   ],
   "source": [
    "# Like sets, they won't store more than one value per key. Note that later items overwrite values.\n",
    "d = {'key1':'value1','key2':'value2','key1':'value3'}\n",
    "d.items()"
   ]
  },
  {
   "cell_type": "markdown",
   "id": "cc36587e",
   "metadata": {},
   "source": [
    "### Range\n",
    "A range object is particularly useful as an iterable. We will use them often."
   ]
  },
  {
   "cell_type": "code",
   "execution_count": 60,
   "id": "836f5219",
   "metadata": {},
   "outputs": [
    {
     "name": "stdout",
     "output_type": "stream",
     "text": [
      "Help on class range in module builtins:\n",
      "\n",
      "class range(object)\n",
      " |  range(stop) -> range object\n",
      " |  range(start, stop[, step]) -> range object\n",
      " |  \n",
      " |  Return an object that produces a sequence of integers from start (inclusive)\n",
      " |  to stop (exclusive) by step.  range(i, j) produces i, i+1, i+2, ..., j-1.\n",
      " |  start defaults to 0, and stop is omitted!  range(4) produces 0, 1, 2, 3.\n",
      " |  These are exactly the valid indices for a list of 4 elements.\n",
      " |  When step is given, it specifies the increment (or decrement).\n",
      " |  \n",
      " |  Methods defined here:\n",
      " |  \n",
      " |  __bool__(self, /)\n",
      " |      self != 0\n",
      " |  \n",
      " |  __contains__(self, key, /)\n",
      " |      Return key in self.\n",
      " |  \n",
      " |  __eq__(self, value, /)\n",
      " |      Return self==value.\n",
      " |  \n",
      " |  __ge__(self, value, /)\n",
      " |      Return self>=value.\n",
      " |  \n",
      " |  __getattribute__(self, name, /)\n",
      " |      Return getattr(self, name).\n",
      " |  \n",
      " |  __getitem__(self, key, /)\n",
      " |      Return self[key].\n",
      " |  \n",
      " |  __gt__(self, value, /)\n",
      " |      Return self>value.\n",
      " |  \n",
      " |  __hash__(self, /)\n",
      " |      Return hash(self).\n",
      " |  \n",
      " |  __iter__(self, /)\n",
      " |      Implement iter(self).\n",
      " |  \n",
      " |  __le__(self, value, /)\n",
      " |      Return self<=value.\n",
      " |  \n",
      " |  __len__(self, /)\n",
      " |      Return len(self).\n",
      " |  \n",
      " |  __lt__(self, value, /)\n",
      " |      Return self<value.\n",
      " |  \n",
      " |  __ne__(self, value, /)\n",
      " |      Return self!=value.\n",
      " |  \n",
      " |  __reduce__(...)\n",
      " |      Helper for pickle.\n",
      " |  \n",
      " |  __repr__(self, /)\n",
      " |      Return repr(self).\n",
      " |  \n",
      " |  __reversed__(...)\n",
      " |      Return a reverse iterator.\n",
      " |  \n",
      " |  count(...)\n",
      " |      rangeobject.count(value) -> integer -- return number of occurrences of value\n",
      " |  \n",
      " |  index(...)\n",
      " |      rangeobject.index(value) -> integer -- return index of value.\n",
      " |      Raise ValueError if the value is not present.\n",
      " |  \n",
      " |  ----------------------------------------------------------------------\n",
      " |  Static methods defined here:\n",
      " |  \n",
      " |  __new__(*args, **kwargs) from builtins.type\n",
      " |      Create and return a new object.  See help(type) for accurate signature.\n",
      " |  \n",
      " |  ----------------------------------------------------------------------\n",
      " |  Data descriptors defined here:\n",
      " |  \n",
      " |  start\n",
      " |  \n",
      " |  step\n",
      " |  \n",
      " |  stop\n",
      "\n"
     ]
    }
   ],
   "source": [
    "# The range() function generates a range object. Let's look at its help documentation.\n",
    "help(range)"
   ]
  },
  {
   "cell_type": "code",
   "execution_count": 61,
   "id": "c5d9d32f",
   "metadata": {},
   "outputs": [
    {
     "name": "stdout",
     "output_type": "stream",
     "text": [
      "range(0, 4)\n"
     ]
    }
   ],
   "source": [
    "# Note that we won't see the values in the range unless we use it as an iterable.\n",
    "print(range(4))"
   ]
  },
  {
   "cell_type": "code",
   "execution_count": 62,
   "id": "494d7ff9",
   "metadata": {},
   "outputs": [
    {
     "name": "stdout",
     "output_type": "stream",
     "text": [
      "0\n",
      "1\n",
      "2\n",
      "3\n"
     ]
    }
   ],
   "source": [
    "# We'll do for loops in a moment, but I'll use it here to demonstrate the range values.\n",
    "# Here is a zero-indexed range (the default). Note that 4 is not included.\n",
    "for i in range(4):\n",
    "    print(i)"
   ]
  },
  {
   "cell_type": "code",
   "execution_count": 63,
   "id": "7d91ed8c",
   "metadata": {},
   "outputs": [
    {
     "name": "stdout",
     "output_type": "stream",
     "text": [
      "3\n",
      "4\n",
      "5\n",
      "6\n",
      "7\n",
      "8\n",
      "9\n"
     ]
    }
   ],
   "source": [
    "# Here we specify a lower and upper limit. The lower limit is included, but not the upper limit.\n",
    "for i in range(3,10):\n",
    "    print(i)"
   ]
  },
  {
   "cell_type": "code",
   "execution_count": 64,
   "id": "95e1fadc",
   "metadata": {},
   "outputs": [
    {
     "name": "stdout",
     "output_type": "stream",
     "text": [
      "3\n",
      "5\n",
      "7\n",
      "9\n"
     ]
    }
   ],
   "source": [
    "# Here we specify a step size of 2, so we get all odd numbers between 3 (inclusive) and 10 (exclusive).\n",
    "for i in range(3,10,2):\n",
    "    print(i)"
   ]
  },
  {
   "cell_type": "markdown",
   "id": "0b805eb0",
   "metadata": {},
   "source": [
    "## Numpy\n",
    "The numpy package includes some additional data types that we'll use regularly."
   ]
  },
  {
   "cell_type": "code",
   "execution_count": 65,
   "id": "0d120b05",
   "metadata": {},
   "outputs": [],
   "source": [
    "import numpy as np"
   ]
  },
  {
   "cell_type": "markdown",
   "id": "9e1b3e81",
   "metadata": {},
   "source": [
    "### Arrays\n",
    "Arrays are vectors. They look like lists, but math operators work differently with them."
   ]
  },
  {
   "cell_type": "code",
   "execution_count": 66,
   "id": "0f2d6d30",
   "metadata": {},
   "outputs": [
    {
     "name": "stdout",
     "output_type": "stream",
     "text": [
      "[1 2 3]\n"
     ]
    }
   ],
   "source": [
    "# To create an array, you usually pass numpy a list.\n",
    "arr = np.array([1,2,3])\n",
    "print(arr)"
   ]
  },
  {
   "cell_type": "markdown",
   "id": "02f8c585",
   "metadata": {},
   "source": [
    "Note that there are no commas in an array."
   ]
  },
  {
   "cell_type": "code",
   "execution_count": 67,
   "id": "4306f1bc",
   "metadata": {},
   "outputs": [
    {
     "name": "stdout",
     "output_type": "stream",
     "text": [
      "[2 4 6]\n",
      "[3 6 9]\n",
      "[ 2  8 18]\n"
     ]
    }
   ],
   "source": [
    "# Arrays multiply and add differently.\n",
    "arr1 = np.array([1,2,3])\n",
    "arr2 = 2 * arr1\n",
    "print(arr2)\n",
    "arr3 = arr1 + arr2\n",
    "print(arr3)\n",
    "arr4 = arr1 * arr2\n",
    "print(arr4)"
   ]
  },
  {
   "cell_type": "code",
   "execution_count": 68,
   "id": "c4ebade7",
   "metadata": {},
   "outputs": [
    {
     "name": "stdout",
     "output_type": "stream",
     "text": [
      "[0. 0. 0. 0. 0. 0. 0. 0. 0. 0.]\n",
      "[1. 1. 1. 1. 1. 1. 1. 1. 1. 1.]\n"
     ]
    }
   ],
   "source": [
    "# Arrays can also be created using other functions, such as starting with zeros or ones.\n",
    "print(np.zeros(10))\n",
    "print(np.ones(10))"
   ]
  },
  {
   "cell_type": "code",
   "execution_count": 69,
   "id": "816e4e9e",
   "metadata": {},
   "outputs": [
    {
     "name": "stdout",
     "output_type": "stream",
     "text": [
      "[[1. 0. 0. 0. 0.]\n",
      " [0. 1. 0. 0. 0.]\n",
      " [0. 0. 1. 0. 0.]\n",
      " [0. 0. 0. 1. 0.]\n",
      " [0. 0. 0. 0. 1.]]\n"
     ]
    }
   ],
   "source": [
    "# Array can be two or more dimensional too. A two dimensional array is a matrix.\n",
    "# The .eye() function creates an identity matrix (zero matrix with diagonals of one).\n",
    "print(np.eye(5))"
   ]
  },
  {
   "cell_type": "code",
   "execution_count": 70,
   "id": "1d19698f",
   "metadata": {},
   "outputs": [
    {
     "name": "stdout",
     "output_type": "stream",
     "text": [
      "[1 2 3 4 5 6 7 8 9]\n",
      "[0.  0.1 0.2 0.3 0.4 0.5 0.6 0.7 0.8 0.9]\n"
     ]
    }
   ],
   "source": [
    "# The numpy .arange() function creates arrays using range-like inputs. It allows for non-integer values.\n",
    "print(np.arange(1,10))\n",
    "print(np.arange(0,1,0.1))"
   ]
  },
  {
   "cell_type": "code",
   "execution_count": 71,
   "id": "675aa2b1",
   "metadata": {},
   "outputs": [
    {
     "name": "stdout",
     "output_type": "stream",
     "text": [
      "[1.  1.2 1.4 1.6 1.8 2.  2.2 2.4 2.6 2.8 3.  3.2 3.4 3.6 3.8 4.  4.2 4.4\n",
      " 4.6 4.8 5. ]\n"
     ]
    }
   ],
   "source": [
    "# The numpy .linspace() function is similar but you specify the number of equally spaced values instead of the step size. \n",
    "# It also includes the right-most bound.\n",
    "print(np.linspace(1,5,21))"
   ]
  },
  {
   "cell_type": "code",
   "execution_count": 72,
   "id": "eabb09d7",
   "metadata": {},
   "outputs": [
    {
     "name": "stdout",
     "output_type": "stream",
     "text": [
      "[7 2 7 8 8 7 2 2 2 7 8 2 2 0 7 3 0 8 6 2]\n",
      "[0.5252803  0.97819978 0.72900968 0.9966266  0.24487934 0.11368977\n",
      " 0.7316917  0.18022027 0.15628807 0.96626413 0.49859965 0.51608012\n",
      " 0.42527345 0.56533122 0.13952853 0.34772276 0.3807468  0.76848378\n",
      " 0.88526469 0.87025647]\n"
     ]
    }
   ],
   "source": [
    "# We will use the np.random library extensively as well to draw random numbers.\n",
    "print(np.random.randint(0,10,20))\n",
    "print(np.random.rand(20))"
   ]
  },
  {
   "cell_type": "code",
   "execution_count": 73,
   "id": "3806b3d5",
   "metadata": {},
   "outputs": [
    {
     "name": "stdout",
     "output_type": "stream",
     "text": [
      "[[ 1  2  3  4  5]\n",
      " [ 6  7  8  9 10]\n",
      " [11 12 13 14 15]\n",
      " [16 17 18 19 20]]\n"
     ]
    }
   ],
   "source": [
    "# Two or more dimensional arrays can be indexed by tuple. For 2-d, it is (row, column).\n",
    "# Note the .reshape() function can turn a 1-d array into 2-d (or more)\n",
    "mat = np.arange(1,21).reshape(4,5)\n",
    "print(mat)"
   ]
  },
  {
   "cell_type": "code",
   "execution_count": 74,
   "id": "74b10f89",
   "metadata": {},
   "outputs": [
    {
     "name": "stdout",
     "output_type": "stream",
     "text": [
      "14\n"
     ]
    }
   ],
   "source": [
    "print(mat[2,3])"
   ]
  },
  {
   "cell_type": "code",
   "execution_count": 75,
   "id": "b41ce236",
   "metadata": {},
   "outputs": [
    {
     "name": "stdout",
     "output_type": "stream",
     "text": [
      "[[14 15]\n",
      " [19 20]]\n"
     ]
    }
   ],
   "source": [
    "# We can also use slicing to define part of the matrix.\n",
    "print(mat[2:4,3:])"
   ]
  },
  {
   "cell_type": "code",
   "execution_count": 76,
   "id": "cf67ebbc",
   "metadata": {},
   "outputs": [
    {
     "name": "stdout",
     "output_type": "stream",
     "text": [
      "10.5\n",
      "210\n",
      "33.25\n",
      "5.766281297335398\n",
      "20\n",
      "1\n"
     ]
    }
   ],
   "source": [
    "# We will also use many of the handy built-in functions with arrays.\n",
    "# We'll do all this in context later.\n",
    "arr = np.arange(1,21)\n",
    "print(arr.mean())\n",
    "print(arr.sum())\n",
    "print(arr.var())\n",
    "print(arr.std())\n",
    "print(arr.max())\n",
    "print(arr.min())"
   ]
  },
  {
   "cell_type": "markdown",
   "id": "09ca83ea",
   "metadata": {},
   "source": [
    "## Pandas\n",
    "The pandas package is commonly called the \"Excel of Python.\" This gives us data matrices to manipulate."
   ]
  },
  {
   "cell_type": "code",
   "execution_count": 77,
   "id": "58cf1435",
   "metadata": {},
   "outputs": [],
   "source": [
    "import pandas as pd"
   ]
  },
  {
   "cell_type": "markdown",
   "id": "227bf0d2",
   "metadata": {},
   "source": [
    "### Series\n",
    "Pandas Series are similar to one-dimension arrays with indexed rows (cases)."
   ]
  },
  {
   "cell_type": "code",
   "execution_count": 78,
   "id": "6d423320",
   "metadata": {},
   "outputs": [
    {
     "name": "stdout",
     "output_type": "stream",
     "text": [
      "0    1\n",
      "1    3\n",
      "2    5\n",
      "3    7\n",
      "dtype: int64\n"
     ]
    }
   ],
   "source": [
    "# Series can come from lists\n",
    "ser = pd.Series([1,3,5,7])\n",
    "print(ser)"
   ]
  },
  {
   "cell_type": "code",
   "execution_count": 79,
   "id": "219bb3d5",
   "metadata": {},
   "outputs": [
    {
     "name": "stdout",
     "output_type": "stream",
     "text": [
      "0    1\n",
      "1    2\n",
      "2    3\n",
      "3    4\n",
      "4    5\n",
      "dtype: int32\n"
     ]
    }
   ],
   "source": [
    "# Or from arrays\n",
    "ser = pd.Series(np.arange(1,6))\n",
    "print(ser)"
   ]
  },
  {
   "cell_type": "code",
   "execution_count": 80,
   "id": "18382f59",
   "metadata": {},
   "outputs": [
    {
     "name": "stdout",
     "output_type": "stream",
     "text": [
      "zero    0\n",
      "one     1\n",
      "two     2\n",
      "dtype: int64\n"
     ]
    }
   ],
   "source": [
    "# Or from dictionaries\n",
    "ser = pd.Series({'zero':0, 'one':1, 'two':2})\n",
    "print(ser)"
   ]
  },
  {
   "cell_type": "code",
   "execution_count": 81,
   "id": "c82a8959",
   "metadata": {},
   "outputs": [
    {
     "name": "stdout",
     "output_type": "stream",
     "text": [
      "a    1\n",
      "b    2\n",
      "c    3\n",
      "d    4\n",
      "e    5\n",
      "dtype: int32\n"
     ]
    }
   ],
   "source": [
    "# You can specify the indices separately\n",
    "ser = pd.Series(np.arange(1,6), index=['a','b','c','d','e'])\n",
    "print(ser)"
   ]
  },
  {
   "cell_type": "code",
   "execution_count": 82,
   "id": "5097c8a8",
   "metadata": {},
   "outputs": [
    {
     "name": "stdout",
     "output_type": "stream",
     "text": [
      "3\n"
     ]
    }
   ],
   "source": [
    "# You can then call rows by index.\n",
    "print(ser['c'])"
   ]
  },
  {
   "cell_type": "code",
   "execution_count": 83,
   "id": "9ff801ea",
   "metadata": {},
   "outputs": [
    {
     "name": "stdout",
     "output_type": "stream",
     "text": [
      "3\n"
     ]
    }
   ],
   "source": [
    "# This implicitly calls the Series.loc[] function\n",
    "print(ser.loc['c'])"
   ]
  },
  {
   "cell_type": "code",
   "execution_count": 84,
   "id": "60bfab24",
   "metadata": {},
   "outputs": [
    {
     "name": "stdout",
     "output_type": "stream",
     "text": [
      "3\n"
     ]
    }
   ],
   "source": [
    "# If you want the zero-indexed numerical row, you can use Series.iloc[] instead\n",
    "print(ser.iloc[2])"
   ]
  },
  {
   "cell_type": "code",
   "execution_count": 85,
   "id": "a9f36ced",
   "metadata": {},
   "outputs": [
    {
     "name": "stdout",
     "output_type": "stream",
     "text": [
      "3.0\n",
      "1.5811388300841898\n",
      "5\n"
     ]
    }
   ],
   "source": [
    "# Pandas Series have a lot of similar functions to numpy arrays.\n",
    "# Some are slightly different, which we'll look at later.\n",
    "print(ser.mean())\n",
    "print(ser.std())\n",
    "print(ser.max())"
   ]
  },
  {
   "cell_type": "markdown",
   "id": "153ae7d7",
   "metadata": {},
   "source": [
    "### DataFrame\n",
    "The data matrix, like an Excel Workbook of Python - this is where we'll mostly live."
   ]
  },
  {
   "cell_type": "code",
   "execution_count": 86,
   "id": "71303d0d",
   "metadata": {},
   "outputs": [
    {
     "data": {
      "text/html": [
       "<div>\n",
       "<style scoped>\n",
       "    .dataframe tbody tr th:only-of-type {\n",
       "        vertical-align: middle;\n",
       "    }\n",
       "\n",
       "    .dataframe tbody tr th {\n",
       "        vertical-align: top;\n",
       "    }\n",
       "\n",
       "    .dataframe thead th {\n",
       "        text-align: right;\n",
       "    }\n",
       "</style>\n",
       "<table border=\"1\" class=\"dataframe\">\n",
       "  <thead>\n",
       "    <tr style=\"text-align: right;\">\n",
       "      <th></th>\n",
       "      <th>0</th>\n",
       "      <th>1</th>\n",
       "      <th>2</th>\n",
       "    </tr>\n",
       "  </thead>\n",
       "  <tbody>\n",
       "    <tr>\n",
       "      <th>0</th>\n",
       "      <td>1</td>\n",
       "      <td>2</td>\n",
       "      <td>3</td>\n",
       "    </tr>\n",
       "    <tr>\n",
       "      <th>1</th>\n",
       "      <td>4</td>\n",
       "      <td>5</td>\n",
       "      <td>6</td>\n",
       "    </tr>\n",
       "    <tr>\n",
       "      <th>2</th>\n",
       "      <td>7</td>\n",
       "      <td>8</td>\n",
       "      <td>9</td>\n",
       "    </tr>\n",
       "  </tbody>\n",
       "</table>\n",
       "</div>"
      ],
      "text/plain": [
       "   0  1  2\n",
       "0  1  2  3\n",
       "1  4  5  6\n",
       "2  7  8  9"
      ]
     },
     "execution_count": 86,
     "metadata": {},
     "output_type": "execute_result"
    }
   ],
   "source": [
    "# DataFrames can be created from nested lists\n",
    "df = pd.DataFrame([[1,2,3],[4,5,6],[7,8,9]])\n",
    "df"
   ]
  },
  {
   "cell_type": "code",
   "execution_count": 87,
   "id": "0e435f4d",
   "metadata": {},
   "outputs": [
    {
     "data": {
      "text/html": [
       "<div>\n",
       "<style scoped>\n",
       "    .dataframe tbody tr th:only-of-type {\n",
       "        vertical-align: middle;\n",
       "    }\n",
       "\n",
       "    .dataframe tbody tr th {\n",
       "        vertical-align: top;\n",
       "    }\n",
       "\n",
       "    .dataframe thead th {\n",
       "        text-align: right;\n",
       "    }\n",
       "</style>\n",
       "<table border=\"1\" class=\"dataframe\">\n",
       "  <thead>\n",
       "    <tr style=\"text-align: right;\">\n",
       "      <th></th>\n",
       "      <th>0</th>\n",
       "      <th>1</th>\n",
       "      <th>2</th>\n",
       "      <th>3</th>\n",
       "      <th>4</th>\n",
       "      <th>5</th>\n",
       "      <th>6</th>\n",
       "      <th>7</th>\n",
       "      <th>8</th>\n",
       "      <th>9</th>\n",
       "    </tr>\n",
       "  </thead>\n",
       "  <tbody>\n",
       "    <tr>\n",
       "      <th>0</th>\n",
       "      <td>8</td>\n",
       "      <td>7</td>\n",
       "      <td>5</td>\n",
       "      <td>6</td>\n",
       "      <td>7</td>\n",
       "      <td>5</td>\n",
       "      <td>8</td>\n",
       "      <td>5</td>\n",
       "      <td>0</td>\n",
       "      <td>7</td>\n",
       "    </tr>\n",
       "    <tr>\n",
       "      <th>1</th>\n",
       "      <td>3</td>\n",
       "      <td>1</td>\n",
       "      <td>0</td>\n",
       "      <td>2</td>\n",
       "      <td>4</td>\n",
       "      <td>7</td>\n",
       "      <td>3</td>\n",
       "      <td>5</td>\n",
       "      <td>4</td>\n",
       "      <td>2</td>\n",
       "    </tr>\n",
       "    <tr>\n",
       "      <th>2</th>\n",
       "      <td>5</td>\n",
       "      <td>7</td>\n",
       "      <td>6</td>\n",
       "      <td>3</td>\n",
       "      <td>0</td>\n",
       "      <td>2</td>\n",
       "      <td>6</td>\n",
       "      <td>5</td>\n",
       "      <td>8</td>\n",
       "      <td>6</td>\n",
       "    </tr>\n",
       "    <tr>\n",
       "      <th>3</th>\n",
       "      <td>3</td>\n",
       "      <td>8</td>\n",
       "      <td>6</td>\n",
       "      <td>6</td>\n",
       "      <td>1</td>\n",
       "      <td>8</td>\n",
       "      <td>7</td>\n",
       "      <td>5</td>\n",
       "      <td>0</td>\n",
       "      <td>5</td>\n",
       "    </tr>\n",
       "    <tr>\n",
       "      <th>4</th>\n",
       "      <td>2</td>\n",
       "      <td>7</td>\n",
       "      <td>0</td>\n",
       "      <td>3</td>\n",
       "      <td>3</td>\n",
       "      <td>2</td>\n",
       "      <td>5</td>\n",
       "      <td>0</td>\n",
       "      <td>7</td>\n",
       "      <td>9</td>\n",
       "    </tr>\n",
       "  </tbody>\n",
       "</table>\n",
       "</div>"
      ],
      "text/plain": [
       "   0  1  2  3  4  5  6  7  8  9\n",
       "0  8  7  5  6  7  5  8  5  0  7\n",
       "1  3  1  0  2  4  7  3  5  4  2\n",
       "2  5  7  6  3  0  2  6  5  8  6\n",
       "3  3  8  6  6  1  8  7  5  0  5\n",
       "4  2  7  0  3  3  2  5  0  7  9"
      ]
     },
     "execution_count": 87,
     "metadata": {},
     "output_type": "execute_result"
    }
   ],
   "source": [
    "# Can also be created from arrays\n",
    "df = pd.DataFrame(np.random.randint(0,10,50).reshape(5,10))\n",
    "df"
   ]
  },
  {
   "cell_type": "code",
   "execution_count": 88,
   "id": "d6543697",
   "metadata": {},
   "outputs": [
    {
     "data": {
      "text/html": [
       "<div>\n",
       "<style scoped>\n",
       "    .dataframe tbody tr th:only-of-type {\n",
       "        vertical-align: middle;\n",
       "    }\n",
       "\n",
       "    .dataframe tbody tr th {\n",
       "        vertical-align: top;\n",
       "    }\n",
       "\n",
       "    .dataframe thead th {\n",
       "        text-align: right;\n",
       "    }\n",
       "</style>\n",
       "<table border=\"1\" class=\"dataframe\">\n",
       "  <thead>\n",
       "    <tr style=\"text-align: right;\">\n",
       "      <th></th>\n",
       "      <th>Arthur</th>\n",
       "      <th>Patsy</th>\n",
       "    </tr>\n",
       "  </thead>\n",
       "  <tbody>\n",
       "    <tr>\n",
       "      <th>0</th>\n",
       "      <td>1</td>\n",
       "      <td>2.3</td>\n",
       "    </tr>\n",
       "    <tr>\n",
       "      <th>1</th>\n",
       "      <td>2</td>\n",
       "      <td>4.5</td>\n",
       "    </tr>\n",
       "    <tr>\n",
       "      <th>2</th>\n",
       "      <td>3</td>\n",
       "      <td>6.7</td>\n",
       "    </tr>\n",
       "    <tr>\n",
       "      <th>3</th>\n",
       "      <td>4</td>\n",
       "      <td>8.9</td>\n",
       "    </tr>\n",
       "    <tr>\n",
       "      <th>4</th>\n",
       "      <td>5</td>\n",
       "      <td>9.0</td>\n",
       "    </tr>\n",
       "  </tbody>\n",
       "</table>\n",
       "</div>"
      ],
      "text/plain": [
       "   Arthur  Patsy\n",
       "0       1    2.3\n",
       "1       2    4.5\n",
       "2       3    6.7\n",
       "3       4    8.9\n",
       "4       5    9.0"
      ]
     },
     "execution_count": 88,
     "metadata": {},
     "output_type": "execute_result"
    }
   ],
   "source": [
    "# Particularly usefully, they can be created from dictionaries.\n",
    "lst1 = [1,2,3,4,5]\n",
    "lst2 = [2.3,4.5,6.7,8.9,9.0]\n",
    "df = pd.DataFrame({'Arthur':lst1, 'Patsy':lst2})\n",
    "df"
   ]
  },
  {
   "cell_type": "code",
   "execution_count": 89,
   "id": "299c728c",
   "metadata": {},
   "outputs": [
    {
     "data": {
      "text/plain": [
       "0    1\n",
       "1    2\n",
       "2    3\n",
       "3    4\n",
       "4    5\n",
       "Name: Arthur, dtype: int64"
      ]
     },
     "execution_count": 89,
     "metadata": {},
     "output_type": "execute_result"
    }
   ],
   "source": [
    "# If you call a single column, you get a Series\n",
    "df['Arthur']"
   ]
  },
  {
   "cell_type": "code",
   "execution_count": 90,
   "id": "af8d028e",
   "metadata": {},
   "outputs": [
    {
     "data": {
      "text/plain": [
       "0     True\n",
       "1     True\n",
       "2    False\n",
       "3    False\n",
       "4    False\n",
       "Name: Arthur, dtype: bool"
      ]
     },
     "execution_count": 90,
     "metadata": {},
     "output_type": "execute_result"
    }
   ],
   "source": [
    "# You can create a Boolean Series using comparison operators\n",
    "df['Arthur'] < 3"
   ]
  },
  {
   "cell_type": "code",
   "execution_count": 91,
   "id": "82f8426d",
   "metadata": {},
   "outputs": [
    {
     "data": {
      "text/html": [
       "<div>\n",
       "<style scoped>\n",
       "    .dataframe tbody tr th:only-of-type {\n",
       "        vertical-align: middle;\n",
       "    }\n",
       "\n",
       "    .dataframe tbody tr th {\n",
       "        vertical-align: top;\n",
       "    }\n",
       "\n",
       "    .dataframe thead th {\n",
       "        text-align: right;\n",
       "    }\n",
       "</style>\n",
       "<table border=\"1\" class=\"dataframe\">\n",
       "  <thead>\n",
       "    <tr style=\"text-align: right;\">\n",
       "      <th></th>\n",
       "      <th>Arthur</th>\n",
       "      <th>Patsy</th>\n",
       "    </tr>\n",
       "  </thead>\n",
       "  <tbody>\n",
       "    <tr>\n",
       "      <th>0</th>\n",
       "      <td>1</td>\n",
       "      <td>2.3</td>\n",
       "    </tr>\n",
       "    <tr>\n",
       "      <th>1</th>\n",
       "      <td>2</td>\n",
       "      <td>4.5</td>\n",
       "    </tr>\n",
       "  </tbody>\n",
       "</table>\n",
       "</div>"
      ],
      "text/plain": [
       "   Arthur  Patsy\n",
       "0       1    2.3\n",
       "1       2    4.5"
      ]
     },
     "execution_count": 91,
     "metadata": {},
     "output_type": "execute_result"
    }
   ],
   "source": [
    "# Then pass that Boolean Series in square brackets as a filter\n",
    "df[df['Arthur'] < 3]"
   ]
  },
  {
   "cell_type": "code",
   "execution_count": 92,
   "id": "da15ee01",
   "metadata": {},
   "outputs": [
    {
     "data": {
      "text/plain": [
       "0    2.3\n",
       "1    4.5\n",
       "Name: Patsy, dtype: float64"
      ]
     },
     "execution_count": 92,
     "metadata": {},
     "output_type": "execute_result"
    }
   ],
   "source": [
    "# Successive square brackets will filter more or call columns.\n",
    "df[df['Arthur'] < 3]['Patsy']"
   ]
  },
  {
   "cell_type": "code",
   "execution_count": 93,
   "id": "6f3438a5",
   "metadata": {},
   "outputs": [
    {
     "data": {
      "text/html": [
       "<div>\n",
       "<style scoped>\n",
       "    .dataframe tbody tr th:only-of-type {\n",
       "        vertical-align: middle;\n",
       "    }\n",
       "\n",
       "    .dataframe tbody tr th {\n",
       "        vertical-align: top;\n",
       "    }\n",
       "\n",
       "    .dataframe thead th {\n",
       "        text-align: right;\n",
       "    }\n",
       "</style>\n",
       "<table border=\"1\" class=\"dataframe\">\n",
       "  <thead>\n",
       "    <tr style=\"text-align: right;\">\n",
       "      <th></th>\n",
       "      <th>Arthur</th>\n",
       "      <th>Patsy</th>\n",
       "      <th>Sir Robin</th>\n",
       "    </tr>\n",
       "  </thead>\n",
       "  <tbody>\n",
       "    <tr>\n",
       "      <th>0</th>\n",
       "      <td>1</td>\n",
       "      <td>2.3</td>\n",
       "      <td>3.3</td>\n",
       "    </tr>\n",
       "    <tr>\n",
       "      <th>1</th>\n",
       "      <td>2</td>\n",
       "      <td>4.5</td>\n",
       "      <td>6.5</td>\n",
       "    </tr>\n",
       "    <tr>\n",
       "      <th>2</th>\n",
       "      <td>3</td>\n",
       "      <td>6.7</td>\n",
       "      <td>9.7</td>\n",
       "    </tr>\n",
       "    <tr>\n",
       "      <th>3</th>\n",
       "      <td>4</td>\n",
       "      <td>8.9</td>\n",
       "      <td>12.9</td>\n",
       "    </tr>\n",
       "    <tr>\n",
       "      <th>4</th>\n",
       "      <td>5</td>\n",
       "      <td>9.0</td>\n",
       "      <td>14.0</td>\n",
       "    </tr>\n",
       "  </tbody>\n",
       "</table>\n",
       "</div>"
      ],
      "text/plain": [
       "   Arthur  Patsy  Sir Robin\n",
       "0       1    2.3        3.3\n",
       "1       2    4.5        6.5\n",
       "2       3    6.7        9.7\n",
       "3       4    8.9       12.9\n",
       "4       5    9.0       14.0"
      ]
     },
     "execution_count": 93,
     "metadata": {},
     "output_type": "execute_result"
    }
   ],
   "source": [
    "# You can also add new columns.\n",
    "df['Sir Robin'] = df['Arthur'] + df['Patsy']\n",
    "df"
   ]
  },
  {
   "cell_type": "code",
   "execution_count": 94,
   "id": "720a0c34",
   "metadata": {},
   "outputs": [
    {
     "data": {
      "text/html": [
       "<div>\n",
       "<style scoped>\n",
       "    .dataframe tbody tr th:only-of-type {\n",
       "        vertical-align: middle;\n",
       "    }\n",
       "\n",
       "    .dataframe tbody tr th {\n",
       "        vertical-align: top;\n",
       "    }\n",
       "\n",
       "    .dataframe thead th {\n",
       "        text-align: right;\n",
       "    }\n",
       "</style>\n",
       "<table border=\"1\" class=\"dataframe\">\n",
       "  <thead>\n",
       "    <tr style=\"text-align: right;\">\n",
       "      <th></th>\n",
       "      <th>Arthur</th>\n",
       "      <th>Patsy</th>\n",
       "      <th>Sir Robin</th>\n",
       "    </tr>\n",
       "  </thead>\n",
       "  <tbody>\n",
       "    <tr>\n",
       "      <th>0</th>\n",
       "      <td>1</td>\n",
       "      <td>2.3</td>\n",
       "      <td>3.3</td>\n",
       "    </tr>\n",
       "    <tr>\n",
       "      <th>1</th>\n",
       "      <td>2</td>\n",
       "      <td>4.5</td>\n",
       "      <td>6.5</td>\n",
       "    </tr>\n",
       "    <tr>\n",
       "      <th>2</th>\n",
       "      <td>3</td>\n",
       "      <td>6.7</td>\n",
       "      <td>9.7</td>\n",
       "    </tr>\n",
       "    <tr>\n",
       "      <th>3</th>\n",
       "      <td>4</td>\n",
       "      <td>8.9</td>\n",
       "      <td>12.9</td>\n",
       "    </tr>\n",
       "  </tbody>\n",
       "</table>\n",
       "</div>"
      ],
      "text/plain": [
       "   Arthur  Patsy  Sir Robin\n",
       "0       1    2.3        3.3\n",
       "1       2    4.5        6.5\n",
       "2       3    6.7        9.7\n",
       "3       4    8.9       12.9"
      ]
     },
     "execution_count": 94,
     "metadata": {},
     "output_type": "execute_result"
    }
   ],
   "source": [
    "# Unless specified, functions on DataFrames don't modify the DataFrame\n",
    "df.drop(4)"
   ]
  },
  {
   "cell_type": "code",
   "execution_count": 95,
   "id": "8e112a03",
   "metadata": {},
   "outputs": [
    {
     "data": {
      "text/html": [
       "<div>\n",
       "<style scoped>\n",
       "    .dataframe tbody tr th:only-of-type {\n",
       "        vertical-align: middle;\n",
       "    }\n",
       "\n",
       "    .dataframe tbody tr th {\n",
       "        vertical-align: top;\n",
       "    }\n",
       "\n",
       "    .dataframe thead th {\n",
       "        text-align: right;\n",
       "    }\n",
       "</style>\n",
       "<table border=\"1\" class=\"dataframe\">\n",
       "  <thead>\n",
       "    <tr style=\"text-align: right;\">\n",
       "      <th></th>\n",
       "      <th>Arthur</th>\n",
       "      <th>Patsy</th>\n",
       "      <th>Sir Robin</th>\n",
       "    </tr>\n",
       "  </thead>\n",
       "  <tbody>\n",
       "    <tr>\n",
       "      <th>0</th>\n",
       "      <td>1</td>\n",
       "      <td>2.3</td>\n",
       "      <td>3.3</td>\n",
       "    </tr>\n",
       "    <tr>\n",
       "      <th>1</th>\n",
       "      <td>2</td>\n",
       "      <td>4.5</td>\n",
       "      <td>6.5</td>\n",
       "    </tr>\n",
       "    <tr>\n",
       "      <th>2</th>\n",
       "      <td>3</td>\n",
       "      <td>6.7</td>\n",
       "      <td>9.7</td>\n",
       "    </tr>\n",
       "    <tr>\n",
       "      <th>3</th>\n",
       "      <td>4</td>\n",
       "      <td>8.9</td>\n",
       "      <td>12.9</td>\n",
       "    </tr>\n",
       "    <tr>\n",
       "      <th>4</th>\n",
       "      <td>5</td>\n",
       "      <td>9.0</td>\n",
       "      <td>14.0</td>\n",
       "    </tr>\n",
       "  </tbody>\n",
       "</table>\n",
       "</div>"
      ],
      "text/plain": [
       "   Arthur  Patsy  Sir Robin\n",
       "0       1    2.3        3.3\n",
       "1       2    4.5        6.5\n",
       "2       3    6.7        9.7\n",
       "3       4    8.9       12.9\n",
       "4       5    9.0       14.0"
      ]
     },
     "execution_count": 95,
     "metadata": {},
     "output_type": "execute_result"
    }
   ],
   "source": [
    "df"
   ]
  },
  {
   "cell_type": "code",
   "execution_count": 96,
   "id": "810d60f6",
   "metadata": {},
   "outputs": [
    {
     "data": {
      "text/html": [
       "<div>\n",
       "<style scoped>\n",
       "    .dataframe tbody tr th:only-of-type {\n",
       "        vertical-align: middle;\n",
       "    }\n",
       "\n",
       "    .dataframe tbody tr th {\n",
       "        vertical-align: top;\n",
       "    }\n",
       "\n",
       "    .dataframe thead th {\n",
       "        text-align: right;\n",
       "    }\n",
       "</style>\n",
       "<table border=\"1\" class=\"dataframe\">\n",
       "  <thead>\n",
       "    <tr style=\"text-align: right;\">\n",
       "      <th></th>\n",
       "      <th>Arthur</th>\n",
       "      <th>Patsy</th>\n",
       "      <th>Sir Robin</th>\n",
       "    </tr>\n",
       "  </thead>\n",
       "  <tbody>\n",
       "    <tr>\n",
       "      <th>0</th>\n",
       "      <td>1</td>\n",
       "      <td>2.3</td>\n",
       "      <td>3.3</td>\n",
       "    </tr>\n",
       "    <tr>\n",
       "      <th>1</th>\n",
       "      <td>2</td>\n",
       "      <td>4.5</td>\n",
       "      <td>6.5</td>\n",
       "    </tr>\n",
       "    <tr>\n",
       "      <th>2</th>\n",
       "      <td>3</td>\n",
       "      <td>6.7</td>\n",
       "      <td>9.7</td>\n",
       "    </tr>\n",
       "    <tr>\n",
       "      <th>3</th>\n",
       "      <td>4</td>\n",
       "      <td>8.9</td>\n",
       "      <td>12.9</td>\n",
       "    </tr>\n",
       "  </tbody>\n",
       "</table>\n",
       "</div>"
      ],
      "text/plain": [
       "   Arthur  Patsy  Sir Robin\n",
       "0       1    2.3        3.3\n",
       "1       2    4.5        6.5\n",
       "2       3    6.7        9.7\n",
       "3       4    8.9       12.9"
      ]
     },
     "execution_count": 96,
     "metadata": {},
     "output_type": "execute_result"
    }
   ],
   "source": [
    "# But most functions have an optional inplace argument\n",
    "df.drop(4,inplace=True)\n",
    "df"
   ]
  },
  {
   "cell_type": "code",
   "execution_count": 97,
   "id": "d877efb2",
   "metadata": {},
   "outputs": [
    {
     "data": {
      "text/html": [
       "<div>\n",
       "<style scoped>\n",
       "    .dataframe tbody tr th:only-of-type {\n",
       "        vertical-align: middle;\n",
       "    }\n",
       "\n",
       "    .dataframe tbody tr th {\n",
       "        vertical-align: top;\n",
       "    }\n",
       "\n",
       "    .dataframe thead th {\n",
       "        text-align: right;\n",
       "    }\n",
       "</style>\n",
       "<table border=\"1\" class=\"dataframe\">\n",
       "  <thead>\n",
       "    <tr style=\"text-align: right;\">\n",
       "      <th></th>\n",
       "      <th>Arthur</th>\n",
       "      <th>Patsy</th>\n",
       "    </tr>\n",
       "  </thead>\n",
       "  <tbody>\n",
       "    <tr>\n",
       "      <th>0</th>\n",
       "      <td>1</td>\n",
       "      <td>2.3</td>\n",
       "    </tr>\n",
       "    <tr>\n",
       "      <th>1</th>\n",
       "      <td>2</td>\n",
       "      <td>4.5</td>\n",
       "    </tr>\n",
       "    <tr>\n",
       "      <th>2</th>\n",
       "      <td>3</td>\n",
       "      <td>6.7</td>\n",
       "    </tr>\n",
       "    <tr>\n",
       "      <th>3</th>\n",
       "      <td>4</td>\n",
       "      <td>8.9</td>\n",
       "    </tr>\n",
       "  </tbody>\n",
       "</table>\n",
       "</div>"
      ],
      "text/plain": [
       "   Arthur  Patsy\n",
       "0       1    2.3\n",
       "1       2    4.5\n",
       "2       3    6.7\n",
       "3       4    8.9"
      ]
     },
     "execution_count": 97,
     "metadata": {},
     "output_type": "execute_result"
    }
   ],
   "source": [
    "# I used the .drop() function above to remove a row. If you specify axis=1, you can remove a column.\n",
    "df.drop('Sir Robin',axis=1)"
   ]
  },
  {
   "cell_type": "code",
   "execution_count": 98,
   "id": "af28e305",
   "metadata": {},
   "outputs": [
    {
     "name": "stdout",
     "output_type": "stream",
     "text": [
      "<class 'pandas.core.frame.DataFrame'>\n",
      "Int64Index: 4 entries, 0 to 3\n",
      "Data columns (total 3 columns):\n",
      " #   Column     Non-Null Count  Dtype  \n",
      "---  ------     --------------  -----  \n",
      " 0   Arthur     4 non-null      int64  \n",
      " 1   Patsy      4 non-null      float64\n",
      " 2   Sir Robin  4 non-null      float64\n",
      "dtypes: float64(2), int64(1)\n",
      "memory usage: 128.0 bytes\n"
     ]
    }
   ],
   "source": [
    "# The DataFrame.info() function tells you some information about the values.\n",
    "df.info()"
   ]
  },
  {
   "cell_type": "markdown",
   "id": "c2d26431",
   "metadata": {},
   "source": [
    "We'll dive into **much** more detail later on all the things we can do with a DataFrame."
   ]
  },
  {
   "cell_type": "markdown",
   "id": "45bffdd3",
   "metadata": {},
   "source": [
    "# Functions\n",
    "You've probably done this before, but let's look at some types of functions."
   ]
  },
  {
   "cell_type": "markdown",
   "id": "58b87da3",
   "metadata": {},
   "source": [
    "## Conditional execution\n",
    "Using if, elif, and else, we can do a lot."
   ]
  },
  {
   "cell_type": "code",
   "execution_count": 99,
   "id": "e0ad9b37",
   "metadata": {},
   "outputs": [
    {
     "name": "stdout",
     "output_type": "stream",
     "text": [
      "Yes!!!\n"
     ]
    }
   ],
   "source": [
    "if 1 < 2:\n",
    "    print('Yes!!!')"
   ]
  },
  {
   "cell_type": "code",
   "execution_count": 100,
   "id": "81f7ceed",
   "metadata": {},
   "outputs": [],
   "source": [
    "if 1 > 2:\n",
    "    print('Yes!!!')"
   ]
  },
  {
   "cell_type": "code",
   "execution_count": 101,
   "id": "64334b2f",
   "metadata": {},
   "outputs": [
    {
     "name": "stdout",
     "output_type": "stream",
     "text": [
      "Maybe...\n"
     ]
    }
   ],
   "source": [
    "# Elif means else if. The earlier ifs and elifs must evaluate to False for these to trigger.\n",
    "x = 2\n",
    "if x < 2:\n",
    "    print('Yes!!!')\n",
    "elif x < 3:\n",
    "    print('Maybe...')"
   ]
  },
  {
   "cell_type": "code",
   "execution_count": 102,
   "id": "4b32b4a6",
   "metadata": {},
   "outputs": [
    {
     "name": "stdout",
     "output_type": "stream",
     "text": [
      "Nope.\n"
     ]
    }
   ],
   "source": [
    "# Else executes if all other ifs and elifs are False.\n",
    "x = 5\n",
    "if x < 2:\n",
    "    print('Yes!!!')\n",
    "elif x < 3:\n",
    "    print('Maybe...')\n",
    "elif x < 4:\n",
    "    print('Try again later.')\n",
    "else:\n",
    "    print('Nope.')"
   ]
  },
  {
   "cell_type": "markdown",
   "id": "7c901a63",
   "metadata": {},
   "source": [
    "## Loops\n",
    "These make use of those iterables to do various tasks."
   ]
  },
  {
   "cell_type": "markdown",
   "id": "ad6cf23a",
   "metadata": {},
   "source": [
    "### For loops\n",
    "Executes the contained code once for each value in the passed iterable."
   ]
  },
  {
   "cell_type": "code",
   "execution_count": 103,
   "id": "d5558d8c",
   "metadata": {},
   "outputs": [
    {
     "name": "stdout",
     "output_type": "stream",
     "text": [
      "1\n",
      "2\n",
      "3\n",
      "4\n",
      "5\n",
      "9\n"
     ]
    }
   ],
   "source": [
    "lst = [1,2,3,4,5,9]\n",
    "for item in lst:\n",
    "    print(item)"
   ]
  },
  {
   "cell_type": "code",
   "execution_count": 104,
   "id": "32b78bdd",
   "metadata": {
    "scrolled": true
   },
   "outputs": [
    {
     "name": "stdout",
     "output_type": "stream",
     "text": [
      "I'll print this 5 times.\n",
      "I'll print this 5 times.\n",
      "I'll print this 5 times.\n",
      "I'll print this 5 times.\n",
      "I'll print this 5 times.\n"
     ]
    }
   ],
   "source": [
    "# Can be combined with a range to just execute code some number of times.\n",
    "for a in range(5):\n",
    "    print(\"I'll print this 5 times.\")"
   ]
  },
  {
   "cell_type": "code",
   "execution_count": 105,
   "id": "3a17398e",
   "metadata": {
    "scrolled": true
   },
   "outputs": [
    {
     "name": "stdout",
     "output_type": "stream",
     "text": [
      "[0, 1, 4, 9, 16]\n"
     ]
    }
   ],
   "source": [
    "# A shortened for loop can be used to construct a list.\n",
    "lst = [(item ** 2) for item in range(5)]\n",
    "print(lst)"
   ]
  },
  {
   "cell_type": "markdown",
   "id": "f19afbbc",
   "metadata": {},
   "source": [
    "### While loops\n",
    "Be careful with these. They'll execute until the condition executes to False.\n",
    "Beware the infinite loop!"
   ]
  },
  {
   "cell_type": "code",
   "execution_count": 106,
   "id": "9823d3f0",
   "metadata": {},
   "outputs": [
    {
     "name": "stdout",
     "output_type": "stream",
     "text": [
      "1\n",
      "2\n",
      "3\n",
      "4\n",
      "5\n"
     ]
    }
   ],
   "source": [
    "i = 1\n",
    "while i < 6:\n",
    "    print(i)\n",
    "    i = i + 1"
   ]
  },
  {
   "cell_type": "markdown",
   "id": "9615911d",
   "metadata": {},
   "source": [
    "## Custom Functions\n",
    "You can save functions and use them repeatedly. You can even save them in a .py file and import them so you can keep your perfected code to use in multiple assignments, or to have a library of useful things for later."
   ]
  },
  {
   "cell_type": "code",
   "execution_count": 107,
   "id": "5c9dbf0c",
   "metadata": {},
   "outputs": [],
   "source": [
    "def my_func_here(a, b='default'):\n",
    "    '''\n",
    "    This is the function's Docstring.\n",
    "    When someone calls help(my_func), this is what they'll see.\n",
    "    You should put solid information in here for your future self and/or customer.\n",
    "    \n",
    "    Example:\n",
    "    This function prints the two given values.\n",
    "    Inputs:\n",
    "        a - Any value. This will be printed first.\n",
    "        b - Any value. This will be printed second. If no second value is given, it will assume the string 'default'.\n",
    "    '''\n",
    "    print(a)\n",
    "    print(b)"
   ]
  },
  {
   "cell_type": "code",
   "execution_count": 108,
   "id": "cd368420",
   "metadata": {},
   "outputs": [
    {
     "name": "stdout",
     "output_type": "stream",
     "text": [
      "3\n",
      "default\n"
     ]
    }
   ],
   "source": [
    "my_func_here(3)"
   ]
  },
  {
   "cell_type": "code",
   "execution_count": 109,
   "id": "9f017983",
   "metadata": {},
   "outputs": [
    {
     "name": "stdout",
     "output_type": "stream",
     "text": [
      "3\n",
      "4\n"
     ]
    }
   ],
   "source": [
    "my_func_here(3,4)"
   ]
  },
  {
   "cell_type": "code",
   "execution_count": 110,
   "id": "39022391",
   "metadata": {},
   "outputs": [
    {
     "name": "stdout",
     "output_type": "stream",
     "text": [
      "3\n",
      "4\n"
     ]
    }
   ],
   "source": [
    "my_func_here(b=4,a=3)"
   ]
  },
  {
   "cell_type": "code",
   "execution_count": 111,
   "id": "f1c0a9c0",
   "metadata": {},
   "outputs": [],
   "source": [
    "from my_func import my_func_py"
   ]
  },
  {
   "cell_type": "code",
   "execution_count": 112,
   "id": "49747433",
   "metadata": {},
   "outputs": [
    {
     "name": "stdout",
     "output_type": "stream",
     "text": [
      "Help on function my_func_py in module my_func:\n",
      "\n",
      "my_func_py(a, b='default')\n",
      "    This is the function's Docstring.\n",
      "    When someone calls help(my_func), this is what they'll see.\n",
      "    You should put solid information in here for your future self and/or customer.\n",
      "    \n",
      "    Example:\n",
      "    This function prints the two given values.\n",
      "    Inputs:\n",
      "        a - Any value. This will be printed first.\n",
      "        b - Any value. This will be printed second. If no second value is given, it will assume the string 'default'.\n",
      "\n"
     ]
    }
   ],
   "source": [
    "help(my_func_py)"
   ]
  },
  {
   "cell_type": "markdown",
   "id": "e8139529",
   "metadata": {},
   "source": [
    "### Lambda expressions\n",
    "Lambda expressions are shortened versions of functions that may be useful for simple expressions."
   ]
  },
  {
   "cell_type": "code",
   "execution_count": 113,
   "id": "1c79d7ad",
   "metadata": {},
   "outputs": [
    {
     "data": {
      "text/plain": [
       "12"
      ]
     },
     "execution_count": 113,
     "metadata": {},
     "output_type": "execute_result"
    }
   ],
   "source": [
    "lamb_func = lambda xx: xx + 5\n",
    "lamb_func(7)"
   ]
  },
  {
   "cell_type": "code",
   "execution_count": 115,
   "id": "fd8b3ebc",
   "metadata": {},
   "outputs": [
    {
     "data": {
      "text/plain": [
       "12"
      ]
     },
     "execution_count": 115,
     "metadata": {},
     "output_type": "execute_result"
    }
   ],
   "source": [
    "# You can always choose not to use lambda expressions, so take them or leave them.\n",
    "def alt_func(a):\n",
    "    return a + 5\n",
    "alt_func(7)"
   ]
  },
  {
   "cell_type": "markdown",
   "id": "400fc6cd",
   "metadata": {},
   "source": [
    "# That's all for now!\n",
    "We will see so, so much more of this later, but at least you now know the basics."
   ]
  }
 ],
 "metadata": {
  "kernelspec": {
   "display_name": "Python 3 (ipykernel)",
   "language": "python",
   "name": "python3"
  },
  "language_info": {
   "codemirror_mode": {
    "name": "ipython",
    "version": 3
   },
   "file_extension": ".py",
   "mimetype": "text/x-python",
   "name": "python",
   "nbconvert_exporter": "python",
   "pygments_lexer": "ipython3",
   "version": "3.8.12"
  }
 },
 "nbformat": 4,
 "nbformat_minor": 5
}
